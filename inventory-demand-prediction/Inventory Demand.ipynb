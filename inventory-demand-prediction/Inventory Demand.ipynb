{
 "cells": [
  {
   "cell_type": "code",
   "execution_count": 1,
   "metadata": {},
   "outputs": [],
   "source": [
    "import matplotlib.pyplot as plt\n",
    "import pandas as pd\n",
    "import numpy as np\n",
    "import os\n",
    "import seaborn as sns \n",
    "sns.set()\n",
    "\n",
    "\n",
    "\n",
    "from sklearn.preprocessing import LabelEncoder"
   ]
  },
  {
   "cell_type": "code",
   "execution_count": 2,
   "metadata": {},
   "outputs": [
    {
     "name": "stderr",
     "output_type": "stream",
     "text": [
      "C:\\Users\\user\\Anaconda3\\lib\\site-packages\\ipykernel_launcher.py:7: FutureWarning: \n",
      ".ix is deprecated. Please use\n",
      ".loc for label based indexing or\n",
      ".iloc for positional indexing\n",
      "\n",
      "See the documentation here:\n",
      "http://pandas.pydata.org/pandas-docs/stable/user_guide/indexing.html#ix-indexer-is-deprecated\n",
      "  import sys\n",
      "C:\\Users\\user\\Anaconda3\\lib\\site-packages\\pandas\\core\\indexing.py:822: FutureWarning: \n",
      ".ix is deprecated. Please use\n",
      ".loc for label based indexing or\n",
      ".iloc for positional indexing\n",
      "\n",
      "See the documentation here:\n",
      "http://pandas.pydata.org/pandas-docs/stable/user_guide/indexing.html#ix-indexer-is-deprecated\n",
      "  retval = getattr(retval, self.name)._getitem_axis(key, axis=i)\n"
     ]
    },
    {
     "data": {
      "text/html": [
       "<div>\n",
       "<style scoped>\n",
       "    .dataframe tbody tr th:only-of-type {\n",
       "        vertical-align: middle;\n",
       "    }\n",
       "\n",
       "    .dataframe tbody tr th {\n",
       "        vertical-align: top;\n",
       "    }\n",
       "\n",
       "    .dataframe thead th {\n",
       "        text-align: right;\n",
       "    }\n",
       "</style>\n",
       "<table border=\"1\" class=\"dataframe\">\n",
       "  <thead>\n",
       "    <tr style=\"text-align: right;\">\n",
       "      <th></th>\n",
       "      <th>Producto_ID</th>\n",
       "      <th>Cliente_ID</th>\n",
       "      <th>Agencia_ID</th>\n",
       "      <th>Demanda_uni_equil</th>\n",
       "    </tr>\n",
       "  </thead>\n",
       "  <tbody>\n",
       "    <tr>\n",
       "      <th>0</th>\n",
       "      <td>1212</td>\n",
       "      <td>15766</td>\n",
       "      <td>1110</td>\n",
       "      <td>3</td>\n",
       "    </tr>\n",
       "    <tr>\n",
       "      <th>1</th>\n",
       "      <td>1216</td>\n",
       "      <td>15766</td>\n",
       "      <td>1110</td>\n",
       "      <td>4</td>\n",
       "    </tr>\n",
       "    <tr>\n",
       "      <th>2</th>\n",
       "      <td>1238</td>\n",
       "      <td>15766</td>\n",
       "      <td>1110</td>\n",
       "      <td>4</td>\n",
       "    </tr>\n",
       "    <tr>\n",
       "      <th>3</th>\n",
       "      <td>1240</td>\n",
       "      <td>15766</td>\n",
       "      <td>1110</td>\n",
       "      <td>4</td>\n",
       "    </tr>\n",
       "    <tr>\n",
       "      <th>4</th>\n",
       "      <td>1242</td>\n",
       "      <td>15766</td>\n",
       "      <td>1110</td>\n",
       "      <td>3</td>\n",
       "    </tr>\n",
       "  </tbody>\n",
       "</table>\n",
       "</div>"
      ],
      "text/plain": [
       "   Producto_ID  Cliente_ID  Agencia_ID  Demanda_uni_equil\n",
       "0         1212       15766        1110                  3\n",
       "1         1216       15766        1110                  4\n",
       "2         1238       15766        1110                  4\n",
       "3         1240       15766        1110                  4\n",
       "4         1242       15766        1110                  3"
      ]
     },
     "execution_count": 2,
     "metadata": {},
     "output_type": "execute_result"
    }
   ],
   "source": [
    "os.chdir('./data/')  \n",
    "products = pd.read_csv('producto_tabla.csv', sep = \",\")\n",
    "clients = pd.read_csv('cliente_tabla.csv', sep = \",\")\n",
    "train = pd.read_csv('train.csv', sep = \",\")\n",
    "train.head()\n",
    "columns = ['Producto_ID', 'Cliente_ID', 'Agencia_ID', 'Demanda_uni_equil']\n",
    "train = train.ix[:, columns]\n",
    "train.head()"
   ]
  },
  {
   "cell_type": "code",
   "execution_count": 5,
   "metadata": {},
   "outputs": [
    {
     "name": "stdout",
     "output_type": "stream",
     "text": [
      "Shape:  (2592, 2)\n",
      "# Duplicate Values:  0\n"
     ]
    },
    {
     "data": {
      "text/html": [
       "<div>\n",
       "<style scoped>\n",
       "    .dataframe tbody tr th:only-of-type {\n",
       "        vertical-align: middle;\n",
       "    }\n",
       "\n",
       "    .dataframe tbody tr th {\n",
       "        vertical-align: top;\n",
       "    }\n",
       "\n",
       "    .dataframe thead th {\n",
       "        text-align: right;\n",
       "    }\n",
       "</style>\n",
       "<table border=\"1\" class=\"dataframe\">\n",
       "  <thead>\n",
       "    <tr style=\"text-align: right;\">\n",
       "      <th></th>\n",
       "      <th>Producto_ID</th>\n",
       "      <th>NombreProducto</th>\n",
       "    </tr>\n",
       "  </thead>\n",
       "  <tbody>\n",
       "    <tr>\n",
       "      <th>0</th>\n",
       "      <td>0</td>\n",
       "      <td>NO IDENTIFICADO 0</td>\n",
       "    </tr>\n",
       "    <tr>\n",
       "      <th>1</th>\n",
       "      <td>9</td>\n",
       "      <td>Capuccino Moka 750g NES 9</td>\n",
       "    </tr>\n",
       "    <tr>\n",
       "      <th>2</th>\n",
       "      <td>41</td>\n",
       "      <td>Bimbollos Ext sAjonjoli 6p 480g BIM 41</td>\n",
       "    </tr>\n",
       "    <tr>\n",
       "      <th>3</th>\n",
       "      <td>53</td>\n",
       "      <td>Burritos Sincro 170g CU LON 53</td>\n",
       "    </tr>\n",
       "    <tr>\n",
       "      <th>4</th>\n",
       "      <td>72</td>\n",
       "      <td>Div Tira Mini Doradita 4p 45g TR 72</td>\n",
       "    </tr>\n",
       "  </tbody>\n",
       "</table>\n",
       "</div>"
      ],
      "text/plain": [
       "   Producto_ID                          NombreProducto\n",
       "0            0                       NO IDENTIFICADO 0\n",
       "1            9               Capuccino Moka 750g NES 9\n",
       "2           41  Bimbollos Ext sAjonjoli 6p 480g BIM 41\n",
       "3           53          Burritos Sincro 170g CU LON 53\n",
       "4           72     Div Tira Mini Doradita 4p 45g TR 72"
      ]
     },
     "execution_count": 5,
     "metadata": {},
     "output_type": "execute_result"
    }
   ],
   "source": [
    "print('Shape: ', str(products.shape))\n",
    "products.head()\n",
    "print ('# Duplicate Values: ',str(products.duplicated(keep = False).sum()))\n",
    "products.head()"
   ]
  },
  {
   "cell_type": "markdown",
   "metadata": {},
   "source": [
    "you will see (Product Name, Pieces, Weight, Brand) pattern"
   ]
  },
  {
   "cell_type": "code",
   "execution_count": 6,
   "metadata": {},
   "outputs": [
    {
     "data": {
      "text/html": [
       "<div>\n",
       "<style scoped>\n",
       "    .dataframe tbody tr th:only-of-type {\n",
       "        vertical-align: middle;\n",
       "    }\n",
       "\n",
       "    .dataframe tbody tr th {\n",
       "        vertical-align: top;\n",
       "    }\n",
       "\n",
       "    .dataframe thead th {\n",
       "        text-align: right;\n",
       "    }\n",
       "</style>\n",
       "<table border=\"1\" class=\"dataframe\">\n",
       "  <thead>\n",
       "    <tr style=\"text-align: right;\">\n",
       "      <th></th>\n",
       "      <th>Producto_ID</th>\n",
       "      <th>NombreProducto</th>\n",
       "      <th>short_product_name</th>\n",
       "      <th>pieces</th>\n",
       "      <th>weight</th>\n",
       "      <th>brand</th>\n",
       "    </tr>\n",
       "  </thead>\n",
       "  <tbody>\n",
       "    <tr>\n",
       "      <th>0</th>\n",
       "      <td>0</td>\n",
       "      <td>NO IDENTIFICADO 0</td>\n",
       "      <td>NO IDENTIFICADO</td>\n",
       "      <td>NaN</td>\n",
       "      <td>NaN</td>\n",
       "      <td>IDENTIFICADO</td>\n",
       "    </tr>\n",
       "    <tr>\n",
       "      <th>1</th>\n",
       "      <td>9</td>\n",
       "      <td>Capuccino Moka 750g NES 9</td>\n",
       "      <td>Capuccino Moka</td>\n",
       "      <td>NaN</td>\n",
       "      <td>750.0</td>\n",
       "      <td>NES</td>\n",
       "    </tr>\n",
       "    <tr>\n",
       "      <th>2</th>\n",
       "      <td>41</td>\n",
       "      <td>Bimbollos Ext sAjonjoli 6p 480g BIM 41</td>\n",
       "      <td>Bimbollos Ext sAjonjoli</td>\n",
       "      <td>6.0</td>\n",
       "      <td>480.0</td>\n",
       "      <td>BIM</td>\n",
       "    </tr>\n",
       "    <tr>\n",
       "      <th>3</th>\n",
       "      <td>53</td>\n",
       "      <td>Burritos Sincro 170g CU LON 53</td>\n",
       "      <td>Burritos Sincro</td>\n",
       "      <td>NaN</td>\n",
       "      <td>170.0</td>\n",
       "      <td>LON</td>\n",
       "    </tr>\n",
       "    <tr>\n",
       "      <th>4</th>\n",
       "      <td>72</td>\n",
       "      <td>Div Tira Mini Doradita 4p 45g TR 72</td>\n",
       "      <td>Div Tira Mini Doradita</td>\n",
       "      <td>4.0</td>\n",
       "      <td>45.0</td>\n",
       "      <td>TR</td>\n",
       "    </tr>\n",
       "  </tbody>\n",
       "</table>\n",
       "</div>"
      ],
      "text/plain": [
       "   Producto_ID                          NombreProducto  \\\n",
       "0            0                       NO IDENTIFICADO 0   \n",
       "1            9               Capuccino Moka 750g NES 9   \n",
       "2           41  Bimbollos Ext sAjonjoli 6p 480g BIM 41   \n",
       "3           53          Burritos Sincro 170g CU LON 53   \n",
       "4           72     Div Tira Mini Doradita 4p 45g TR 72   \n",
       "\n",
       "         short_product_name  pieces  weight         brand  \n",
       "0          NO IDENTIFICADO      NaN     NaN  IDENTIFICADO  \n",
       "1           Capuccino Moka      NaN   750.0           NES  \n",
       "2  Bimbollos Ext sAjonjoli      6.0   480.0           BIM  \n",
       "3          Burritos Sincro      NaN   170.0           LON  \n",
       "4   Div Tira Mini Doradita      4.0    45.0            TR  "
      ]
     },
     "execution_count": 6,
     "metadata": {},
     "output_type": "execute_result"
    }
   ],
   "source": [
    "products['short_product_name'] = products['NombreProducto'].str.extract('^(\\D*)', expand = False)\n",
    "products['pieces'] = products['NombreProducto'].str.extract('(\\d+)p ', expand = False).astype(float)\n",
    "weights = products['NombreProducto'].str.extract('(\\d+)(Kg|g)', expand = True)\n",
    "products['weight'] = weights[0].astype('float') * weights[1].map({'Kg': 1000, 'g': 1})\n",
    "products['brand'] = products['NombreProducto'].str.extract('^.+\\s(\\D+) \\d+$')\n",
    "products.head()"
   ]
  },
  {
   "cell_type": "code",
   "execution_count": 8,
   "metadata": {},
   "outputs": [
    {
     "name": "stderr",
     "output_type": "stream",
     "text": [
      "[nltk_data] Downloading package stopwords to\n",
      "[nltk_data]     C:\\Users\\user\\AppData\\Roaming\\nltk_data...\n",
      "[nltk_data]   Unzipping corpora\\stopwords.zip.\n"
     ]
    },
    {
     "data": {
      "text/plain": [
       "True"
      ]
     },
     "execution_count": 8,
     "metadata": {},
     "output_type": "execute_result"
    }
   ],
   "source": [
    "import nltk\n",
    "nltk.download('stopwords')"
   ]
  },
  {
   "cell_type": "code",
   "execution_count": 9,
   "metadata": {},
   "outputs": [
    {
     "data": {
      "text/html": [
       "<div>\n",
       "<style scoped>\n",
       "    .dataframe tbody tr th:only-of-type {\n",
       "        vertical-align: middle;\n",
       "    }\n",
       "\n",
       "    .dataframe tbody tr th {\n",
       "        vertical-align: top;\n",
       "    }\n",
       "\n",
       "    .dataframe thead th {\n",
       "        text-align: right;\n",
       "    }\n",
       "</style>\n",
       "<table border=\"1\" class=\"dataframe\">\n",
       "  <thead>\n",
       "    <tr style=\"text-align: right;\">\n",
       "      <th></th>\n",
       "      <th>Producto_ID</th>\n",
       "      <th>NombreProducto</th>\n",
       "      <th>short_product_name</th>\n",
       "      <th>pieces</th>\n",
       "      <th>weight</th>\n",
       "      <th>brand</th>\n",
       "    </tr>\n",
       "  </thead>\n",
       "  <tbody>\n",
       "    <tr>\n",
       "      <th>0</th>\n",
       "      <td>0</td>\n",
       "      <td>NO IDENTIFICADO 0</td>\n",
       "      <td>identific</td>\n",
       "      <td>NaN</td>\n",
       "      <td>NaN</td>\n",
       "      <td>IDENTIFICADO</td>\n",
       "    </tr>\n",
       "    <tr>\n",
       "      <th>1</th>\n",
       "      <td>9</td>\n",
       "      <td>Capuccino Moka 750g NES 9</td>\n",
       "      <td>capuccin mok</td>\n",
       "      <td>NaN</td>\n",
       "      <td>750.0</td>\n",
       "      <td>NES</td>\n",
       "    </tr>\n",
       "    <tr>\n",
       "      <th>2</th>\n",
       "      <td>41</td>\n",
       "      <td>Bimbollos Ext sAjonjoli 6p 480g BIM 41</td>\n",
       "      <td>bimboll ext sajonjoli</td>\n",
       "      <td>6.0</td>\n",
       "      <td>480.0</td>\n",
       "      <td>BIM</td>\n",
       "    </tr>\n",
       "    <tr>\n",
       "      <th>3</th>\n",
       "      <td>53</td>\n",
       "      <td>Burritos Sincro 170g CU LON 53</td>\n",
       "      <td>burrit sincr</td>\n",
       "      <td>NaN</td>\n",
       "      <td>170.0</td>\n",
       "      <td>LON</td>\n",
       "    </tr>\n",
       "    <tr>\n",
       "      <th>4</th>\n",
       "      <td>72</td>\n",
       "      <td>Div Tira Mini Doradita 4p 45g TR 72</td>\n",
       "      <td>div tir mini doradit</td>\n",
       "      <td>4.0</td>\n",
       "      <td>45.0</td>\n",
       "      <td>TR</td>\n",
       "    </tr>\n",
       "  </tbody>\n",
       "</table>\n",
       "</div>"
      ],
      "text/plain": [
       "   Producto_ID                          NombreProducto     short_product_name  \\\n",
       "0            0                       NO IDENTIFICADO 0              identific   \n",
       "1            9               Capuccino Moka 750g NES 9           capuccin mok   \n",
       "2           41  Bimbollos Ext sAjonjoli 6p 480g BIM 41  bimboll ext sajonjoli   \n",
       "3           53          Burritos Sincro 170g CU LON 53           burrit sincr   \n",
       "4           72     Div Tira Mini Doradita 4p 45g TR 72   div tir mini doradit   \n",
       "\n",
       "   pieces  weight         brand  \n",
       "0     NaN     NaN  IDENTIFICADO  \n",
       "1     NaN   750.0           NES  \n",
       "2     6.0   480.0           BIM  \n",
       "3     NaN   170.0           LON  \n",
       "4     4.0    45.0            TR  "
      ]
     },
     "execution_count": 9,
     "metadata": {},
     "output_type": "execute_result"
    }
   ],
   "source": [
    "#Clean up the short_product_name feature by removing stopwords and stem words...\n",
    "\n",
    "# run running ran - run\n",
    "\n",
    "from nltk.corpus import stopwords\n",
    "from nltk.stem import SnowballStemmer\n",
    "stemmer = SnowballStemmer(\"spanish\")\n",
    "\n",
    "# Remove stopwords\n",
    "products['short_product_name'] = (products['short_product_name'].map(lambda x: \" \".join([i for i in x.lower()\n",
    "                                                            .split() if i not in stopwords.words(\"spanish\")])))\n",
    "\n",
    "# Remove stemwords\n",
    "products['short_product_name'] = (products['short_product_name'].map(lambda x: \" \".join([stemmer.stem(i) for i in x.lower().split()])))\n",
    "\n",
    "products.head()\n",
    "\n"
   ]
  },
  {
   "cell_type": "code",
   "execution_count": 11,
   "metadata": {},
   "outputs": [
    {
     "name": "stdout",
     "output_type": "stream",
     "text": [
      "Shape Before Merge: (74180464, 4)\n"
     ]
    },
    {
     "name": "stderr",
     "output_type": "stream",
     "text": [
      "C:\\Users\\user\\Anaconda3\\lib\\site-packages\\ipykernel_launcher.py:2: FutureWarning: \n",
      ".ix is deprecated. Please use\n",
      ".loc for label based indexing or\n",
      ".iloc for positional indexing\n",
      "\n",
      "See the documentation here:\n",
      "http://pandas.pydata.org/pandas-docs/stable/user_guide/indexing.html#ix-indexer-is-deprecated\n",
      "  \n",
      "C:\\Users\\user\\Anaconda3\\lib\\site-packages\\pandas\\core\\indexing.py:822: FutureWarning: \n",
      ".ix is deprecated. Please use\n",
      ".loc for label based indexing or\n",
      ".iloc for positional indexing\n",
      "\n",
      "See the documentation here:\n",
      "http://pandas.pydata.org/pandas-docs/stable/user_guide/indexing.html#ix-indexer-is-deprecated\n",
      "  retval = getattr(retval, self.name)._getitem_axis(key, axis=i)\n"
     ]
    },
    {
     "name": "stdout",
     "output_type": "stream",
     "text": [
      "Shape After Merge: (74180464, 9)\n"
     ]
    },
    {
     "data": {
      "text/html": [
       "<div>\n",
       "<style scoped>\n",
       "    .dataframe tbody tr th:only-of-type {\n",
       "        vertical-align: middle;\n",
       "    }\n",
       "\n",
       "    .dataframe tbody tr th {\n",
       "        vertical-align: top;\n",
       "    }\n",
       "\n",
       "    .dataframe thead th {\n",
       "        text-align: right;\n",
       "    }\n",
       "</style>\n",
       "<table border=\"1\" class=\"dataframe\">\n",
       "  <thead>\n",
       "    <tr style=\"text-align: right;\">\n",
       "      <th></th>\n",
       "      <th>Producto_ID</th>\n",
       "      <th>Cliente_ID</th>\n",
       "      <th>Agencia_ID</th>\n",
       "      <th>Demanda_uni_equil</th>\n",
       "      <th>NombreProducto</th>\n",
       "      <th>short_product_name</th>\n",
       "      <th>pieces</th>\n",
       "      <th>weight</th>\n",
       "      <th>brand</th>\n",
       "    </tr>\n",
       "  </thead>\n",
       "  <tbody>\n",
       "    <tr>\n",
       "      <th>0</th>\n",
       "      <td>1212</td>\n",
       "      <td>15766</td>\n",
       "      <td>1110</td>\n",
       "      <td>3</td>\n",
       "      <td>Roles Canela 2p 120g BIM 1212</td>\n",
       "      <td>rol canel</td>\n",
       "      <td>2.0</td>\n",
       "      <td>120.0</td>\n",
       "      <td>BIM</td>\n",
       "    </tr>\n",
       "    <tr>\n",
       "      <th>1</th>\n",
       "      <td>1216</td>\n",
       "      <td>15766</td>\n",
       "      <td>1110</td>\n",
       "      <td>4</td>\n",
       "      <td>Roles Glass 2p 135g BIM 1216</td>\n",
       "      <td>rol glass</td>\n",
       "      <td>2.0</td>\n",
       "      <td>135.0</td>\n",
       "      <td>BIM</td>\n",
       "    </tr>\n",
       "    <tr>\n",
       "      <th>2</th>\n",
       "      <td>1238</td>\n",
       "      <td>15766</td>\n",
       "      <td>1110</td>\n",
       "      <td>4</td>\n",
       "      <td>Panquecito Gota Choc 2p 140g BIM 1238</td>\n",
       "      <td>panquecit got choc</td>\n",
       "      <td>2.0</td>\n",
       "      <td>140.0</td>\n",
       "      <td>BIM</td>\n",
       "    </tr>\n",
       "    <tr>\n",
       "      <th>3</th>\n",
       "      <td>1240</td>\n",
       "      <td>15766</td>\n",
       "      <td>1110</td>\n",
       "      <td>4</td>\n",
       "      <td>Mantecadas Vainilla 4p 125g BIM 1240</td>\n",
       "      <td>mantec vainill</td>\n",
       "      <td>4.0</td>\n",
       "      <td>125.0</td>\n",
       "      <td>BIM</td>\n",
       "    </tr>\n",
       "    <tr>\n",
       "      <th>4</th>\n",
       "      <td>1242</td>\n",
       "      <td>15766</td>\n",
       "      <td>1110</td>\n",
       "      <td>3</td>\n",
       "      <td>Donitas Espolvoreadas 6p 105g BIM 1242</td>\n",
       "      <td>donit espolvor</td>\n",
       "      <td>6.0</td>\n",
       "      <td>105.0</td>\n",
       "      <td>BIM</td>\n",
       "    </tr>\n",
       "  </tbody>\n",
       "</table>\n",
       "</div>"
      ],
      "text/plain": [
       "   Producto_ID  Cliente_ID  Agencia_ID  Demanda_uni_equil  \\\n",
       "0         1212       15766        1110                  3   \n",
       "1         1216       15766        1110                  4   \n",
       "2         1238       15766        1110                  4   \n",
       "3         1240       15766        1110                  4   \n",
       "4         1242       15766        1110                  3   \n",
       "\n",
       "                           NombreProducto  short_product_name  pieces  weight  \\\n",
       "0           Roles Canela 2p 120g BIM 1212           rol canel     2.0   120.0   \n",
       "1            Roles Glass 2p 135g BIM 1216           rol glass     2.0   135.0   \n",
       "2   Panquecito Gota Choc 2p 140g BIM 1238  panquecit got choc     2.0   140.0   \n",
       "3    Mantecadas Vainilla 4p 125g BIM 1240      mantec vainill     4.0   125.0   \n",
       "4  Donitas Espolvoreadas 6p 105g BIM 1242      donit espolvor     6.0   105.0   \n",
       "\n",
       "  brand  \n",
       "0   BIM  \n",
       "1   BIM  \n",
       "2   BIM  \n",
       "3   BIM  \n",
       "4   BIM  "
      ]
     },
     "execution_count": 11,
     "metadata": {},
     "output_type": "execute_result"
    }
   ],
   "source": [
    "print( 'Shape Before Merge: ' + str(train.shape))\n",
    "train = train.ix[:, columns].merge(products, on = ['Producto_ID'], how = 'left')\n",
    "print ('Shape After Merge: ' + str(train.shape))\n",
    "train.head()"
   ]
  },
  {
   "cell_type": "markdown",
   "metadata": {},
   "source": [
    "# Visualization"
   ]
  },
  {
   "cell_type": "code",
   "execution_count": 13,
   "metadata": {},
   "outputs": [
    {
     "name": "stdout",
     "output_type": "stream",
     "text": [
      "    short_product_name  Adjusted_Sales\n",
      "367                nit        57606859\n",
      "274             gansit        26133420\n",
      "487              reban        26098669\n",
      "385          pan blanc        21724162\n",
      "621          tortillin        19591899\n",
      "\n",
      "Unique Product Ids: 1799\n",
      "Unique short product names: 687\n",
      "Top Seller as Percentage of All Sales: 0.03617637963439833\n"
     ]
    }
   ],
   "source": [
    "columns = ['short_product_name', 'Demanda_uni_equil']\n",
    "best_sellers = pd.DataFrame({'Adjusted_Sales': train.groupby(['short_product_name'])['Demanda_uni_equil'].sum()}).reset_index()\n",
    "best_sellers = best_sellers.sort_values(by = ['Adjusted_Sales'], ascending = False)\n",
    "print (best_sellers.head())\n",
    "\n",
    "print ()\n",
    "print ('Unique Product Ids: ' + str(len(train['Producto_ID'].unique())))\n",
    "print ('Unique short product names: ' + str(len(train['short_product_name'].unique())))\n",
    "print ('Top Seller as Percentage of All Sales: ' + str(100.0 * best_sellers['Adjusted_Sales'][0] / best_sellers['Adjusted_Sales'].sum()))"
   ]
  },
  {
   "cell_type": "code",
   "execution_count": 15,
   "metadata": {},
   "outputs": [
    {
     "data": {
      "image/jpeg": "[encoded data removed]",
      "text/plain": [
       "<IPython.core.display.Image object>"
      ]
     },
     "execution_count": 15,
     "metadata": {},
     "output_type": "execute_result"
    }
   ],
   "source": [
    "from IPython.display import Image\n",
    "Image(filename='../nito.jpg')"
   ]
  },
  {
   "cell_type": "code",
   "execution_count": 18,
   "metadata": {},
   "outputs": [
    {
     "name": "stderr",
     "output_type": "stream",
     "text": [
      "C:\\Users\\user\\Anaconda3\\lib\\site-packages\\ipykernel_launcher.py:3: FutureWarning: \n",
      ".ix is deprecated. Please use\n",
      ".loc for label based indexing or\n",
      ".iloc for positional indexing\n",
      "\n",
      "See the documentation here:\n",
      "http://pandas.pydata.org/pandas-docs/stable/user_guide/indexing.html#ix-indexer-is-deprecated\n",
      "  This is separate from the ipykernel package so we can avoid doing imports until\n"
     ]
    },
    {
     "name": "stdout",
     "output_type": "stream",
     "text": [
      "Total number of Variants of NITO :  12\n"
     ]
    },
    {
     "name": "stderr",
     "output_type": "stream",
     "text": [
      "C:\\Users\\user\\Anaconda3\\lib\\site-packages\\ipykernel_launcher.py:6: FutureWarning: \n",
      ".ix is deprecated. Please use\n",
      ".loc for label based indexing or\n",
      ".iloc for positional indexing\n",
      "\n",
      "See the documentation here:\n",
      "http://pandas.pydata.org/pandas-docs/stable/user_guide/indexing.html#ix-indexer-is-deprecated\n",
      "  \n"
     ]
    },
    {
     "data": {
      "text/html": [
       "<div>\n",
       "<style scoped>\n",
       "    .dataframe tbody tr th:only-of-type {\n",
       "        vertical-align: middle;\n",
       "    }\n",
       "\n",
       "    .dataframe tbody tr th {\n",
       "        vertical-align: top;\n",
       "    }\n",
       "\n",
       "    .dataframe thead th {\n",
       "        text-align: right;\n",
       "    }\n",
       "</style>\n",
       "<table border=\"1\" class=\"dataframe\">\n",
       "  <thead>\n",
       "    <tr style=\"text-align: right;\">\n",
       "      <th></th>\n",
       "      <th>Producto_ID</th>\n",
       "      <th>short_product_name</th>\n",
       "      <th>pieces</th>\n",
       "      <th>weight</th>\n",
       "      <th>brand</th>\n",
       "    </tr>\n",
       "  </thead>\n",
       "  <tbody>\n",
       "    <tr>\n",
       "      <th>18</th>\n",
       "      <td>34053</td>\n",
       "      <td>nit</td>\n",
       "      <td>1.0</td>\n",
       "      <td>62.0</td>\n",
       "      <td>BIM</td>\n",
       "    </tr>\n",
       "    <tr>\n",
       "      <th>21083</th>\n",
       "      <td>1278</td>\n",
       "      <td>nit</td>\n",
       "      <td>1.0</td>\n",
       "      <td>62.0</td>\n",
       "      <td>BIM</td>\n",
       "    </tr>\n",
       "    <tr>\n",
       "      <th>159084</th>\n",
       "      <td>43342</td>\n",
       "      <td>nit</td>\n",
       "      <td>4.0</td>\n",
       "      <td>248.0</td>\n",
       "      <td>BIM</td>\n",
       "    </tr>\n",
       "    <tr>\n",
       "      <th>159375</th>\n",
       "      <td>34054</td>\n",
       "      <td>nit</td>\n",
       "      <td>1.0</td>\n",
       "      <td>62.0</td>\n",
       "      <td>BIM</td>\n",
       "    </tr>\n",
       "    <tr>\n",
       "      <th>1288104</th>\n",
       "      <td>630</td>\n",
       "      <td>nit</td>\n",
       "      <td>4.0</td>\n",
       "      <td>248.0</td>\n",
       "      <td>BIM</td>\n",
       "    </tr>\n",
       "    <tr>\n",
       "      <th>2230749</th>\n",
       "      <td>2425</td>\n",
       "      <td>nit</td>\n",
       "      <td>1.0</td>\n",
       "      <td>62.0</td>\n",
       "      <td>BIM</td>\n",
       "    </tr>\n",
       "    <tr>\n",
       "      <th>2338404</th>\n",
       "      <td>43206</td>\n",
       "      <td>nit</td>\n",
       "      <td>1.0</td>\n",
       "      <td>62.0</td>\n",
       "      <td>BIM</td>\n",
       "    </tr>\n",
       "    <tr>\n",
       "      <th>3928462</th>\n",
       "      <td>32144</td>\n",
       "      <td>nit</td>\n",
       "      <td>NaN</td>\n",
       "      <td>620.0</td>\n",
       "      <td>BIM</td>\n",
       "    </tr>\n",
       "    <tr>\n",
       "      <th>5484853</th>\n",
       "      <td>34055</td>\n",
       "      <td>nit</td>\n",
       "      <td>1.0</td>\n",
       "      <td>62.0</td>\n",
       "      <td>BIM</td>\n",
       "    </tr>\n",
       "    <tr>\n",
       "      <th>5484865</th>\n",
       "      <td>46083</td>\n",
       "      <td>nit</td>\n",
       "      <td>4.0</td>\n",
       "      <td>248.0</td>\n",
       "      <td>BIM</td>\n",
       "    </tr>\n",
       "    <tr>\n",
       "      <th>7343800</th>\n",
       "      <td>5052</td>\n",
       "      <td>nit</td>\n",
       "      <td>1.0</td>\n",
       "      <td>62.0</td>\n",
       "      <td>BIM</td>\n",
       "    </tr>\n",
       "    <tr>\n",
       "      <th>25500945</th>\n",
       "      <td>37159</td>\n",
       "      <td>nit</td>\n",
       "      <td>1.0</td>\n",
       "      <td>62.0</td>\n",
       "      <td>BIM</td>\n",
       "    </tr>\n",
       "  </tbody>\n",
       "</table>\n",
       "</div>"
      ],
      "text/plain": [
       "          Producto_ID short_product_name  pieces  weight brand\n",
       "18              34053                nit     1.0    62.0   BIM\n",
       "21083            1278                nit     1.0    62.0   BIM\n",
       "159084          43342                nit     4.0   248.0   BIM\n",
       "159375          34054                nit     1.0    62.0   BIM\n",
       "1288104           630                nit     4.0   248.0   BIM\n",
       "2230749          2425                nit     1.0    62.0   BIM\n",
       "2338404         43206                nit     1.0    62.0   BIM\n",
       "3928462         32144                nit     NaN   620.0   BIM\n",
       "5484853         34055                nit     1.0    62.0   BIM\n",
       "5484865         46083                nit     4.0   248.0   BIM\n",
       "7343800          5052                nit     1.0    62.0   BIM\n",
       "25500945        37159                nit     1.0    62.0   BIM"
      ]
     },
     "execution_count": 18,
     "metadata": {},
     "output_type": "execute_result"
    }
   ],
   "source": [
    "#Let's examine the different variants of the 'nito' product...\n",
    "columns = ['Producto_ID', 'short_product_name', 'pieces', 'weight', 'brand']\n",
    "indices = train.ix[train['short_product_name'] == 'nit', :].duplicated(subset = ['Producto_ID', 'short_product_name'], keep = 'first')\n",
    "indices = indices[indices == False]\n",
    "print('Total number of Variants of NITO : ',len(indices))\n",
    "train.ix[indices.index, columns]\n",
    "\n"
   ]
  },
  {
   "cell_type": "code",
   "execution_count": 19,
   "metadata": {},
   "outputs": [
    {
     "data": {
      "text/plain": [
       "(935362, 2)"
      ]
     },
     "execution_count": 19,
     "metadata": {},
     "output_type": "execute_result"
    }
   ],
   "source": [
    "#Adding Client data to the Analysis\n",
    "\n",
    "clients.shape\n",
    "\n"
   ]
  },
  {
   "cell_type": "code",
   "execution_count": 20,
   "metadata": {},
   "outputs": [
    {
     "data": {
      "text/html": [
       "<div>\n",
       "<style scoped>\n",
       "    .dataframe tbody tr th:only-of-type {\n",
       "        vertical-align: middle;\n",
       "    }\n",
       "\n",
       "    .dataframe tbody tr th {\n",
       "        vertical-align: top;\n",
       "    }\n",
       "\n",
       "    .dataframe thead th {\n",
       "        text-align: right;\n",
       "    }\n",
       "</style>\n",
       "<table border=\"1\" class=\"dataframe\">\n",
       "  <thead>\n",
       "    <tr style=\"text-align: right;\">\n",
       "      <th></th>\n",
       "      <th>Cliente_ID</th>\n",
       "      <th>NombreCliente</th>\n",
       "    </tr>\n",
       "  </thead>\n",
       "  <tbody>\n",
       "    <tr>\n",
       "      <th>0</th>\n",
       "      <td>0</td>\n",
       "      <td>SIN NOMBRE</td>\n",
       "    </tr>\n",
       "    <tr>\n",
       "      <th>1</th>\n",
       "      <td>1</td>\n",
       "      <td>OXXO XINANTECATL</td>\n",
       "    </tr>\n",
       "    <tr>\n",
       "      <th>2</th>\n",
       "      <td>2</td>\n",
       "      <td>SIN NOMBRE</td>\n",
       "    </tr>\n",
       "    <tr>\n",
       "      <th>3</th>\n",
       "      <td>3</td>\n",
       "      <td>EL MORENO</td>\n",
       "    </tr>\n",
       "    <tr>\n",
       "      <th>4</th>\n",
       "      <td>4</td>\n",
       "      <td>SDN SER  DE ALIM  CUERPO SA CIA  DE INT</td>\n",
       "    </tr>\n",
       "  </tbody>\n",
       "</table>\n",
       "</div>"
      ],
      "text/plain": [
       "   Cliente_ID                            NombreCliente\n",
       "0           0                               SIN NOMBRE\n",
       "1           1                         OXXO XINANTECATL\n",
       "2           2                               SIN NOMBRE\n",
       "3           3                                EL MORENO\n",
       "4           4  SDN SER  DE ALIM  CUERPO SA CIA  DE INT"
      ]
     },
     "execution_count": 20,
     "metadata": {},
     "output_type": "execute_result"
    }
   ],
   "source": [
    "clients.head()"
   ]
  },
  {
   "cell_type": "code",
   "execution_count": 25,
   "metadata": {},
   "outputs": [
    {
     "data": {
      "text/plain": [
       "(930500, 2)"
      ]
     },
     "execution_count": 25,
     "metadata": {},
     "output_type": "execute_result"
    }
   ],
   "source": [
    "dup_ids=clients.duplicated(subset = 'Cliente_ID'):\n",
    "\n",
    "print '# Unique Cliente_ID: ' + str(len(clients['Cliente_ID'].unique()))\n",
    "print '# Unique NombreCliente: ' + str(len(clients['NombreCliente'].unique()))\n",
    "\n",
    "\n",
    "clients = clients[dup_ids == False]  \n",
    "clients.shape"
   ]
  },
  {
   "cell_type": "code",
   "execution_count": 26,
   "metadata": {},
   "outputs": [
    {
     "name": "stdout",
     "output_type": "stream",
     "text": [
      "# Unique Cliente_ID: 930500\n",
      "# Unique NombreCliente: 307009\n"
     ]
    }
   ],
   "source": [
    "\n",
    "print('# Unique Cliente_ID: ' + str(len(clients['Cliente_ID'].unique())))\n",
    "print('# Unique NombreCliente: ' + str(len(clients['NombreCliente'].unique())))\n",
    "\n"
   ]
  },
  {
   "cell_type": "code",
   "execution_count": 27,
   "metadata": {},
   "outputs": [
    {
     "data": {
      "text/html": [
       "<div>\n",
       "<style scoped>\n",
       "    .dataframe tbody tr th:only-of-type {\n",
       "        vertical-align: middle;\n",
       "    }\n",
       "\n",
       "    .dataframe tbody tr th {\n",
       "        vertical-align: top;\n",
       "    }\n",
       "\n",
       "    .dataframe thead th {\n",
       "        text-align: right;\n",
       "    }\n",
       "</style>\n",
       "<table border=\"1\" class=\"dataframe\">\n",
       "  <thead>\n",
       "    <tr style=\"text-align: right;\">\n",
       "      <th></th>\n",
       "      <th>NombreCliente</th>\n",
       "      <th>Frequency</th>\n",
       "      <th>Pct</th>\n",
       "    </tr>\n",
       "  </thead>\n",
       "  <tbody>\n",
       "    <tr>\n",
       "      <th>227063</th>\n",
       "      <td>NO IDENTIFICADO</td>\n",
       "      <td>281670</td>\n",
       "      <td>30.270822</td>\n",
       "    </tr>\n",
       "    <tr>\n",
       "      <th>178995</th>\n",
       "      <td>LUPITA</td>\n",
       "      <td>4863</td>\n",
       "      <td>0.522622</td>\n",
       "    </tr>\n",
       "    <tr>\n",
       "      <th>203200</th>\n",
       "      <td>MARY</td>\n",
       "      <td>3016</td>\n",
       "      <td>0.324127</td>\n",
       "    </tr>\n",
       "    <tr>\n",
       "      <th>163963</th>\n",
       "      <td>LA PASADITA</td>\n",
       "      <td>2426</td>\n",
       "      <td>0.260720</td>\n",
       "    </tr>\n",
       "    <tr>\n",
       "      <th>165834</th>\n",
       "      <td>LA VENTANITA</td>\n",
       "      <td>2267</td>\n",
       "      <td>0.243632</td>\n",
       "    </tr>\n",
       "    <tr>\n",
       "      <th>162357</th>\n",
       "      <td>LA GUADALUPANA</td>\n",
       "      <td>1299</td>\n",
       "      <td>0.139602</td>\n",
       "    </tr>\n",
       "    <tr>\n",
       "      <th>265099</th>\n",
       "      <td>ROSY</td>\n",
       "      <td>1245</td>\n",
       "      <td>0.133799</td>\n",
       "    </tr>\n",
       "    <tr>\n",
       "      <th>20891</th>\n",
       "      <td>ALEX</td>\n",
       "      <td>1242</td>\n",
       "      <td>0.133477</td>\n",
       "    </tr>\n",
       "    <tr>\n",
       "      <th>120794</th>\n",
       "      <td>GABY</td>\n",
       "      <td>1238</td>\n",
       "      <td>0.133047</td>\n",
       "    </tr>\n",
       "    <tr>\n",
       "      <th>161465</th>\n",
       "      <td>LA ESCONDIDA</td>\n",
       "      <td>1216</td>\n",
       "      <td>0.130682</td>\n",
       "    </tr>\n",
       "    <tr>\n",
       "      <th>243004</th>\n",
       "      <td>PATY</td>\n",
       "      <td>1145</td>\n",
       "      <td>0.123052</td>\n",
       "    </tr>\n",
       "    <tr>\n",
       "      <th>161523</th>\n",
       "      <td>LA ESPERANZA</td>\n",
       "      <td>1139</td>\n",
       "      <td>0.122407</td>\n",
       "    </tr>\n",
       "    <tr>\n",
       "      <th>132632</th>\n",
       "      <td>HERNANDEZ</td>\n",
       "      <td>1129</td>\n",
       "      <td>0.121333</td>\n",
       "    </tr>\n",
       "    <tr>\n",
       "      <th>160779</th>\n",
       "      <td>LA CHIQUITA</td>\n",
       "      <td>1116</td>\n",
       "      <td>0.119936</td>\n",
       "    </tr>\n",
       "    <tr>\n",
       "      <th>75432</th>\n",
       "      <td>DANY</td>\n",
       "      <td>1082</td>\n",
       "      <td>0.116282</td>\n",
       "    </tr>\n",
       "    <tr>\n",
       "      <th>121096</th>\n",
       "      <td>GARCIA</td>\n",
       "      <td>1062</td>\n",
       "      <td>0.114132</td>\n",
       "    </tr>\n",
       "    <tr>\n",
       "      <th>157729</th>\n",
       "      <td>JUQUILITA</td>\n",
       "      <td>1022</td>\n",
       "      <td>0.109833</td>\n",
       "    </tr>\n",
       "    <tr>\n",
       "      <th>203085</th>\n",
       "      <td>MARTINEZ</td>\n",
       "      <td>987</td>\n",
       "      <td>0.106072</td>\n",
       "    </tr>\n",
       "    <tr>\n",
       "      <th>165394</th>\n",
       "      <td>LA TIENDITA</td>\n",
       "      <td>914</td>\n",
       "      <td>0.098227</td>\n",
       "    </tr>\n",
       "    <tr>\n",
       "      <th>454</th>\n",
       "      <td>3 HERMANOS</td>\n",
       "      <td>913</td>\n",
       "      <td>0.098119</td>\n",
       "    </tr>\n",
       "    <tr>\n",
       "      <th>78821</th>\n",
       "      <td>DIANA</td>\n",
       "      <td>894</td>\n",
       "      <td>0.096077</td>\n",
       "    </tr>\n",
       "    <tr>\n",
       "      <th>207559</th>\n",
       "      <td>MI TIENDITA</td>\n",
       "      <td>881</td>\n",
       "      <td>0.094680</td>\n",
       "    </tr>\n",
       "    <tr>\n",
       "      <th>268167</th>\n",
       "      <td>SAN JOSE</td>\n",
       "      <td>851</td>\n",
       "      <td>0.091456</td>\n",
       "    </tr>\n",
       "    <tr>\n",
       "      <th>164529</th>\n",
       "      <td>LA PROVIDENCIA</td>\n",
       "      <td>842</td>\n",
       "      <td>0.090489</td>\n",
       "    </tr>\n",
       "    <tr>\n",
       "      <th>124328</th>\n",
       "      <td>GONZALEZ</td>\n",
       "      <td>825</td>\n",
       "      <td>0.088662</td>\n",
       "    </tr>\n",
       "    <tr>\n",
       "      <th>79028</th>\n",
       "      <td>DICONSA</td>\n",
       "      <td>823</td>\n",
       "      <td>0.088447</td>\n",
       "    </tr>\n",
       "    <tr>\n",
       "      <th>161562</th>\n",
       "      <td>LA ESQUINA</td>\n",
       "      <td>816</td>\n",
       "      <td>0.087695</td>\n",
       "    </tr>\n",
       "    <tr>\n",
       "      <th>177685</th>\n",
       "      <td>LUCY</td>\n",
       "      <td>792</td>\n",
       "      <td>0.085116</td>\n",
       "    </tr>\n",
       "    <tr>\n",
       "      <th>170198</th>\n",
       "      <td>LETY</td>\n",
       "      <td>776</td>\n",
       "      <td>0.083396</td>\n",
       "    </tr>\n",
       "    <tr>\n",
       "      <th>123274</th>\n",
       "      <td>GLORIA</td>\n",
       "      <td>714</td>\n",
       "      <td>0.076733</td>\n",
       "    </tr>\n",
       "  </tbody>\n",
       "</table>\n",
       "</div>"
      ],
      "text/plain": [
       "          NombreCliente  Frequency        Pct\n",
       "227063  NO IDENTIFICADO     281670  30.270822\n",
       "178995           LUPITA       4863   0.522622\n",
       "203200             MARY       3016   0.324127\n",
       "163963      LA PASADITA       2426   0.260720\n",
       "165834     LA VENTANITA       2267   0.243632\n",
       "162357   LA GUADALUPANA       1299   0.139602\n",
       "265099             ROSY       1245   0.133799\n",
       "20891              ALEX       1242   0.133477\n",
       "120794             GABY       1238   0.133047\n",
       "161465     LA ESCONDIDA       1216   0.130682\n",
       "243004             PATY       1145   0.123052\n",
       "161523     LA ESPERANZA       1139   0.122407\n",
       "132632        HERNANDEZ       1129   0.121333\n",
       "160779      LA CHIQUITA       1116   0.119936\n",
       "75432              DANY       1082   0.116282\n",
       "121096           GARCIA       1062   0.114132\n",
       "157729        JUQUILITA       1022   0.109833\n",
       "203085         MARTINEZ        987   0.106072\n",
       "165394      LA TIENDITA        914   0.098227\n",
       "454          3 HERMANOS        913   0.098119\n",
       "78821             DIANA        894   0.096077\n",
       "207559      MI TIENDITA        881   0.094680\n",
       "268167         SAN JOSE        851   0.091456\n",
       "164529   LA PROVIDENCIA        842   0.090489\n",
       "124328         GONZALEZ        825   0.088662\n",
       "79028           DICONSA        823   0.088447\n",
       "161562       LA ESQUINA        816   0.087695\n",
       "177685             LUCY        792   0.085116\n",
       "170198             LETY        776   0.083396\n",
       "123274           GLORIA        714   0.076733"
      ]
     },
     "execution_count": 27,
     "metadata": {},
     "output_type": "execute_result"
    }
   ],
   "source": [
    "client_names = pd.DataFrame({'Frequency': clients.groupby(['NombreCliente'])['NombreCliente'].count()}).reset_index()\n",
    "client_names['Pct'] = 100.0 * client_names['Frequency'] / client_names['Frequency'].sum()\n",
    "client_names = client_names.sort_values(by = 'Frequency', ascending = False)\n",
    "client_names.head(n=30)"
   ]
  },
  {
   "cell_type": "code",
   "execution_count": 28,
   "metadata": {},
   "outputs": [],
   "source": [
    "\n",
    "\n",
    "# Import libraries for handling text data\n",
    "import re\n",
    "from nltk import word_tokenize\n",
    "from nltk.stem import SnowballStemmer\n",
    "from nltk.corpus import stopwords\n",
    "stemmer = SnowballStemmer('spanish')\n",
    "\n"
   ]
  },
  {
   "cell_type": "code",
   "execution_count": 29,
   "metadata": {},
   "outputs": [
    {
     "name": "stderr",
     "output_type": "stream",
     "text": [
      "C:\\Users\\user\\Anaconda3\\lib\\site-packages\\ipykernel_launcher.py:4: SettingWithCopyWarning: \n",
      "A value is trying to be set on a copy of a slice from a DataFrame.\n",
      "Try using .loc[row_indexer,col_indexer] = value instead\n",
      "\n",
      "See the caveats in the documentation: http://pandas.pydata.org/pandas-docs/stable/user_guide/indexing.html#returning-a-view-versus-a-copy\n",
      "  after removing the cwd from sys.path.\n"
     ]
    },
    {
     "data": {
      "text/html": [
       "<div>\n",
       "<style scoped>\n",
       "    .dataframe tbody tr th:only-of-type {\n",
       "        vertical-align: middle;\n",
       "    }\n",
       "\n",
       "    .dataframe tbody tr th {\n",
       "        vertical-align: top;\n",
       "    }\n",
       "\n",
       "    .dataframe thead th {\n",
       "        text-align: right;\n",
       "    }\n",
       "</style>\n",
       "<table border=\"1\" class=\"dataframe\">\n",
       "  <thead>\n",
       "    <tr style=\"text-align: right;\">\n",
       "      <th></th>\n",
       "      <th>Cliente_ID</th>\n",
       "      <th>NombreCliente</th>\n",
       "      <th>Client_Type</th>\n",
       "    </tr>\n",
       "  </thead>\n",
       "  <tbody>\n",
       "    <tr>\n",
       "      <th>0</th>\n",
       "      <td>0</td>\n",
       "      <td>SIN NOMBRE</td>\n",
       "      <td>sin nombre</td>\n",
       "    </tr>\n",
       "    <tr>\n",
       "      <th>1</th>\n",
       "      <td>1</td>\n",
       "      <td>OXXO XINANTECATL</td>\n",
       "      <td>oxxo xinantecatl</td>\n",
       "    </tr>\n",
       "    <tr>\n",
       "      <th>2</th>\n",
       "      <td>2</td>\n",
       "      <td>SIN NOMBRE</td>\n",
       "      <td>sin nombre</td>\n",
       "    </tr>\n",
       "    <tr>\n",
       "      <th>3</th>\n",
       "      <td>3</td>\n",
       "      <td>EL MORENO</td>\n",
       "      <td>el moreno</td>\n",
       "    </tr>\n",
       "    <tr>\n",
       "      <th>4</th>\n",
       "      <td>4</td>\n",
       "      <td>SDN SER  DE ALIM  CUERPO SA CIA  DE INT</td>\n",
       "      <td>sdn ser  de alim  cuerpo sa cia  de int</td>\n",
       "    </tr>\n",
       "  </tbody>\n",
       "</table>\n",
       "</div>"
      ],
      "text/plain": [
       "   Cliente_ID                            NombreCliente  \\\n",
       "0           0                               SIN NOMBRE   \n",
       "1           1                         OXXO XINANTECATL   \n",
       "2           2                               SIN NOMBRE   \n",
       "3           3                                EL MORENO   \n",
       "4           4  SDN SER  DE ALIM  CUERPO SA CIA  DE INT   \n",
       "\n",
       "                               Client_Type  \n",
       "0                               sin nombre  \n",
       "1                         oxxo xinantecatl  \n",
       "2                               sin nombre  \n",
       "3                                el moreno  \n",
       "4  sdn ser  de alim  cuerpo sa cia  de int  "
      ]
     },
     "execution_count": 29,
     "metadata": {},
     "output_type": "execute_result"
    }
   ],
   "source": [
    "\n",
    "\n",
    "# Convert to lowercase\n",
    "clients['Client_Type'] = clients['NombreCliente'].str.lower()\n",
    "clients.head()\n",
    "\n"
   ]
  },
  {
   "cell_type": "code",
   "execution_count": 30,
   "metadata": {},
   "outputs": [
    {
     "data": {
      "text/plain": [
       "['sin nombre',\n",
       " 'oxxo xinantecatl',\n",
       " 'sin nombre',\n",
       " 'el moreno',\n",
       " 'sdn ser de alim cuerpo sa cia de int',\n",
       " 'la vaquita',\n",
       " 'lupita',\n",
       " 'i m el guero',\n",
       " 'mini super los lupes',\n",
       " 'super kompras micro colon']"
      ]
     },
     "execution_count": 30,
     "metadata": {},
     "output_type": "execute_result"
    }
   ],
   "source": [
    "\n",
    "\n",
    "# Split words in Client_Type variable\n",
    "nombre_split = clients['Client_Type'].str.split()\n",
    "    \n",
    "# Remove empty spaces from names\n",
    "nombre_no_spaces = [\" \".join(x) for x in nombre_split]     \n",
    "nombre_no_spaces[0:10]\n",
    "\n",
    "# Remove non-letters and replace numbers\n",
    "nombre_no_spaces = [re.sub('[^A-Za-z0-9]+', ' ', x) for x in nombre_no_spaces]   \n",
    "nombre_no_spaces = [re.sub('[0-9]+', 'NUM', x) for x in nombre_no_spaces]\n",
    "nombre_no_spaces[0:10]\n",
    "\n"
   ]
  },
  {
   "cell_type": "code",
   "execution_count": 32,
   "metadata": {},
   "outputs": [
    {
     "name": "stderr",
     "output_type": "stream",
     "text": [
      "[nltk_data] Downloading package punkt to\n",
      "[nltk_data]     C:\\Users\\user\\AppData\\Roaming\\nltk_data...\n",
      "[nltk_data]   Unzipping tokenizers\\punkt.zip.\n"
     ]
    },
    {
     "data": {
      "text/plain": [
       "True"
      ]
     },
     "execution_count": 32,
     "metadata": {},
     "output_type": "execute_result"
    }
   ],
   "source": [
    "import nltk\n",
    "nltk.download('punkt')"
   ]
  },
  {
   "cell_type": "code",
   "execution_count": 33,
   "metadata": {},
   "outputs": [
    {
     "data": {
      "text/plain": [
       "[['sin', 'nombr'],\n",
       " ['oxxo', 'xinantecatl'],\n",
       " ['sin', 'nombr'],\n",
       " ['el', 'moren'],\n",
       " ['sdn', 'ser', 'de', 'alim', 'cuerpo', 'sa', 'cia', 'de', 'int'],\n",
       " ['la', 'vaquit'],\n",
       " ['lupit'],\n",
       " ['i', 'm', 'el', 'guer'],\n",
       " ['mini', 'super', 'los', 'lup'],\n",
       " ['super', 'kompras', 'micro', 'colon']]"
      ]
     },
     "execution_count": 33,
     "metadata": {},
     "output_type": "execute_result"
    }
   ],
   "source": [
    "# Stem and tokenize words \n",
    "nombre_stem = [stemmer.stem(x) for x in nombre_no_spaces]\n",
    "nombre_tokenized = [word_tokenize(x) for x in nombre_stem]\n",
    "nombre_tokenized[0:10]"
   ]
  },
  {
   "cell_type": "code",
   "execution_count": 34,
   "metadata": {},
   "outputs": [
    {
     "name": "stderr",
     "output_type": "stream",
     "text": [
      "C:\\Users\\user\\Anaconda3\\lib\\site-packages\\ipykernel_launcher.py:2: FutureWarning: \n",
      ".ix is deprecated. Please use\n",
      ".loc for label based indexing or\n",
      ".iloc for positional indexing\n",
      "\n",
      "See the documentation here:\n",
      "http://pandas.pydata.org/pandas-docs/stable/user_guide/indexing.html#ix-indexer-is-deprecated\n",
      "  \n"
     ]
    },
    {
     "data": {
      "text/plain": [
       "['nombre',\n",
       " 'oxxo xinantecatl',\n",
       " 'nombre',\n",
       " 'moreno',\n",
       " 'sdn ser alim cuerpo sa cia int',\n",
       " 'vaquita',\n",
       " 'lupita',\n",
       " 'i m guero',\n",
       " 'mini super lupes',\n",
       " 'super kompras micro colon']"
      ]
     },
     "execution_count": 34,
     "metadata": {},
     "output_type": "execute_result"
    }
   ],
   "source": [
    "# Remove stop words\n",
    "nombre_tokenized = [word_tokenize(x) for x in clients.ix[:, 'Client_Type']]\n",
    "stops = set(stopwords.words(\"spanish\"))\n",
    "nombre_cleaned = [[w for w in i if not w in stops] for i in nombre_tokenized] \n",
    "nombre_cleaned = [\" \".join(x) for x in nombre_cleaned]  \n",
    "nombre_cleaned[0:10]"
   ]
  },
  {
   "cell_type": "code",
   "execution_count": 39,
   "metadata": {},
   "outputs": [
    {
     "data": {
      "text/plain": [
       "['nombre',\n",
       " 'oxxo xinantecatl',\n",
       " 'nombre',\n",
       " 'moreno',\n",
       " 'sdn ser alim cuerpo sa cia int',\n",
       " 'vaquita',\n",
       " 'lupita',\n",
       " 'i m guero',\n",
       " 'mini super lupes',\n",
       " 'super kompras micro colon',\n",
       " 'lonja mercantil',\n",
       " 'farmacia nicolas san juan',\n",
       " 'papeleria catala',\n",
       " 'elena',\n",
       " 'casa trino',\n",
       " 'fma035947 bimbo sa cv',\n",
       " 'joys',\n",
       " 'marco',\n",
       " 'lupes ii',\n",
       " 'tiendita',\n",
       " 'fma026712 tecnoautomotriz atlacomulco s',\n",
       " 'abarrotes ivan',\n",
       " 'garnica',\n",
       " 'fma026709 bucirus bladas mexico sa',\n",
       " 'fma026248 proveedora norte',\n",
       " 'carrosita',\n",
       " 'bodega comercial mexicana toluca',\n",
       " 'marquez',\n",
       " 'fma033097 automotriz mexicana s c',\n",
       " 'jose aguilar catalan']"
      ]
     },
     "execution_count": 39,
     "metadata": {},
     "output_type": "execute_result"
    }
   ],
   "source": [
    "nombre_cleaned[0:30]"
   ]
  },
  {
   "cell_type": "code",
   "execution_count": 40,
   "metadata": {},
   "outputs": [
    {
     "name": "stdout",
     "output_type": "stream",
     "text": [
      "oxxo : \n",
      "['oxxo xinantecatl', 'oxxo san carlos', 'oxxo mora', 'oxxo 5 mayo', 'oxxo san sebastian', 'oxxo san javier', 'oxxo carranza', 'oxxo padre mier', 'amoxxo bernardo reyes', 'oxxo tapia', 'oxxo madero terminal', 'oxxo cintermex', 'oxxo pino suarez ii', 'oxxo ruperto martinez', 'oxxo regina', 'oxxo satelite', 'oxxo mederos', 'oxxo condominio', 'oxxo estanzuela 1', 'oxxo prado']\n",
      "# Names Appears: 9276\n",
      "\n",
      "super : \n",
      "['mini super lupes', 'super kompras micro colon', 'super kompras pino suarez', 'super kompras san buenaventura', 'super kompras asuncion', 'super mundo', 'super ada', 'escuela superior comercio', 'super kompras tollocan', 'super estevez', 'minisuper carmona', 'super kompras micro santa barbara', 'super abarrotes', 'minisuper independencia', 'mini super nunez', 'mini super bueno', 'super mercado hormadi sa cv', 'super 10', 'super f', 'super centro']\n",
      "# Names Appears: 16736\n",
      "\n"
     ]
    }
   ],
   "source": [
    "#check for grouping \n",
    "words = ['oxxo', 'super']\n",
    "for word in words: \n",
    "    print(word + ' : ')\n",
    "    nombre_contains = [(word in x) for x in nombre_cleaned]  \n",
    "    indices = [n for n, x in enumerate(nombre_contains) if x == True]  \n",
    "    temp = [nombre_cleaned[i] for i in indices]\n",
    "    print (temp[0:20])\n",
    "    print('# Names Appears: ' + str(len(indices)))\n",
    "    print ()"
   ]
  },
  {
   "cell_type": "markdown",
   "metadata": {},
   "source": [
    "#let start the grouping now in \n",
    "\n",
    "    Individual,\n",
    "    Oxxo Store\n",
    "    Small Franchise\n",
    "    Supermarket\n",
    "    Hospital/Pharmacy\n",
    "    Eatery\n",
    "    Bimbo Store\n",
    "    General Market/Mart\n",
    "    Hotel\n",
    "    School\n",
    "    Walmart\n",
    "    Govt Store\n",
    "    Post\n",
    "    Fresh Market\n",
    "    Consignment\n",
    "    NO IDENTIFICADO\n"
   ]
  },
  {
   "cell_type": "code",
   "execution_count": 42,
   "metadata": {},
   "outputs": [],
   "source": [
    "def create_client_features(clients):\n",
    "    \n",
    "    # Remove duplicate ids\n",
    "    dup_ids=clients.duplicated(subset = 'Cliente_ID')\n",
    "    clients = clients[dup_ids == False]  \n",
    "    \n",
    "    # Create new feature\n",
    "    clients = clients.copy()\n",
    "    clients['Client_Type'] = clients.ix[:, 'NombreCliente']    \n",
    "    \n",
    "    # Convert to all UPPER-CASE\n",
    "    clients.ix[:, 'Client_Type'] = clients.ix[:, 'Client_Type'].str.upper()\n",
    "    \n",
    "    # Known Large Company / Special Group Types\n",
    "    clients.ix[:, 'Client_Type'] = clients.ix[:, 'Client_Type'].str.replace('.*REMISION.*','Consignment')\n",
    "    clients.ix[:, 'Client_Type'] = clients.ix[:, 'Client_Type'].replace(['.*WAL MART.*','.*SAMS CLUB.*'],'Walmart', regex=True)\n",
    "    clients.ix[:, 'Client_Type'] = clients.ix[:, 'Client_Type'].str.replace('.*OXXO.*','Oxxo Store')\n",
    "    clients.ix[:, 'Client_Type'] = clients.ix[:, 'Client_Type'].str.replace('.*CONASUPO.*','Govt Store')\n",
    "    clients.ix[:, 'Client_Type'] = clients.ix[:, 'Client_Type'].str.replace('.*BIMBO.*','Bimbo Store')\n",
    "    \n",
    "    # Term search for assortment of words picked from looking at their frequencies\n",
    "    clients.ix[:, 'Client_Type'] = clients.ix[:, 'Client_Type'].replace(['.*COLEG.*','.*UNIV.*','.*ESCU.*','.*INSTI.*',\\\n",
    "                                                        '.*PREPAR.*'],'School', regex=True)\n",
    "    clients.ix[:, 'Client_Type'] = clients.ix[:, 'Client_Type'].str.replace('.*PUESTO.*','Post')\n",
    "    clients.ix[:, 'Client_Type'] = clients.ix[:, 'Client_Type'].replace(['.*FARMA.*','.*HOSPITAL.*','.*CLINI.*'],'Hospital/Pharmacy', regex=True)\n",
    "    clients.ix[:, 'Client_Type'] = clients.ix[:, 'Client_Type'].replace(['.*CAFE.*','.*CREMERIA.*','.*DULCERIA.*',\\\n",
    "                                                        '.*REST.*','.*BURGER.*','.*TACO.*', '.*TORTA.*',\\\n",
    "                                                        '.*TAQUER.*','.*HOT DOG.*',\\\n",
    "                                                        '.*COMEDOR.*', '.*ERIA.*','.*BURGU.*'],'Eatery', regex=True)\n",
    "    clients.ix[:, 'Client_Type'] = clients.ix[:, 'Client_Type'].str.replace('.*SUPER.*','Supermarket')\n",
    "    clients.ix[:, 'Client_Type'] = clients.ix[:, 'Client_Type'].replace(['.*COMERCIAL.*','.*BODEGA.*','.*DEPOSITO.*',\\\n",
    "                                                            '.*ABARROTES.*','.*MERCADO.*','.*CAMBIO.*',\\\n",
    "                                                        '.*MARKET.*','.*MART .*','.*MINI .*',\\\n",
    "                                                        '.*PLAZA.*','.*MISC.*','.*ELEVEN.*','.*EXP.*',\\\n",
    "                                                         '.*SNACK.*', '.*PAPELERIA.*', '.*CARNICERIA.*',\\\n",
    "                                                         '.*LOCAL.*','.*COMODIN.*','.*PROVIDENCIA.*'\n",
    "                                                        ],'General Market/Mart'\\\n",
    "                                                       , regex=True)                                                   \n",
    "    clients.ix[:, 'Client_Type'] = clients.ix[:, 'Client_Type'].replace(['.*VERDU.*','.*FRUT.*'],'Fresh Market', regex=True)\n",
    "    clients.ix[:, 'Client_Type'] = clients.ix[:, 'Client_Type'].replace(['.*HOTEL.*','.*MOTEL.*'],'Hotel', regex=True)    \n",
    " \n",
    "    # Filter participles\n",
    "    clients.ix[:, 'Client_Type'] = clients.ix[:, 'Client_Type'].replace([\n",
    "            '.*LA .*','.*EL .*','.*DE .*','.*LOS .*','.*DEL .*','.*Y .*', '.*SAN .*', '.*SANTA .*',\\\n",
    "            '.*AG .*','.*LAS .*','.*MI .*','.*MA .*', '.*II.*', '.*[0-9]+.*'\\\n",
    "                ],'Small Franchise', regex=True)\n",
    "               \n",
    "    # Everything else bucketed into 'Individual'\n",
    "    def filter_remaining(clients):\n",
    "        def function_word(data):\n",
    "            # Avoid the single-words created so far by checking for upper-case\n",
    "            if (data.isupper()) and (data != \"NO IDENTIFICADO\"): \n",
    "                return 'Individual'\n",
    "            else:\n",
    "                return data\n",
    "        clients.ix[:, 'Client_Type'] = clients.ix[:, 'Client_Type'].map(function_word)\n",
    "    filter_remaining(clients)\n",
    "    \n",
    "    # Return data\n",
    "    return clients"
   ]
  },
  {
   "cell_type": "code",
   "execution_count": 43,
   "metadata": {},
   "outputs": [
    {
     "name": "stderr",
     "output_type": "stream",
     "text": [
      "C:\\Users\\user\\Anaconda3\\lib\\site-packages\\ipykernel_launcher.py:9: FutureWarning: \n",
      ".ix is deprecated. Please use\n",
      ".loc for label based indexing or\n",
      ".iloc for positional indexing\n",
      "\n",
      "See the documentation here:\n",
      "http://pandas.pydata.org/pandas-docs/stable/user_guide/indexing.html#ix-indexer-is-deprecated\n",
      "  if __name__ == '__main__':\n",
      "C:\\Users\\user\\Anaconda3\\lib\\site-packages\\ipykernel_launcher.py:12: FutureWarning: \n",
      ".ix is deprecated. Please use\n",
      ".loc for label based indexing or\n",
      ".iloc for positional indexing\n",
      "\n",
      "See the documentation here:\n",
      "http://pandas.pydata.org/pandas-docs/stable/user_guide/indexing.html#ix-indexer-is-deprecated\n",
      "  if sys.path[0] == '':\n",
      "C:\\Users\\user\\Anaconda3\\lib\\site-packages\\ipykernel_launcher.py:15: FutureWarning: \n",
      ".ix is deprecated. Please use\n",
      ".loc for label based indexing or\n",
      ".iloc for positional indexing\n",
      "\n",
      "See the documentation here:\n",
      "http://pandas.pydata.org/pandas-docs/stable/user_guide/indexing.html#ix-indexer-is-deprecated\n",
      "  from ipykernel import kernelapp as app\n",
      "C:\\Users\\user\\Anaconda3\\lib\\site-packages\\ipykernel_launcher.py:16: FutureWarning: \n",
      ".ix is deprecated. Please use\n",
      ".loc for label based indexing or\n",
      ".iloc for positional indexing\n",
      "\n",
      "See the documentation here:\n",
      "http://pandas.pydata.org/pandas-docs/stable/user_guide/indexing.html#ix-indexer-is-deprecated\n",
      "  app.launch_new_instance()\n",
      "C:\\Users\\user\\Anaconda3\\lib\\site-packages\\ipykernel_launcher.py:17: FutureWarning: \n",
      ".ix is deprecated. Please use\n",
      ".loc for label based indexing or\n",
      ".iloc for positional indexing\n",
      "\n",
      "See the documentation here:\n",
      "http://pandas.pydata.org/pandas-docs/stable/user_guide/indexing.html#ix-indexer-is-deprecated\n",
      "C:\\Users\\user\\Anaconda3\\lib\\site-packages\\ipykernel_launcher.py:18: FutureWarning: \n",
      ".ix is deprecated. Please use\n",
      ".loc for label based indexing or\n",
      ".iloc for positional indexing\n",
      "\n",
      "See the documentation here:\n",
      "http://pandas.pydata.org/pandas-docs/stable/user_guide/indexing.html#ix-indexer-is-deprecated\n",
      "C:\\Users\\user\\Anaconda3\\lib\\site-packages\\ipykernel_launcher.py:19: FutureWarning: \n",
      ".ix is deprecated. Please use\n",
      ".loc for label based indexing or\n",
      ".iloc for positional indexing\n",
      "\n",
      "See the documentation here:\n",
      "http://pandas.pydata.org/pandas-docs/stable/user_guide/indexing.html#ix-indexer-is-deprecated\n",
      "C:\\Users\\user\\Anaconda3\\lib\\site-packages\\ipykernel_launcher.py:22: FutureWarning: \n",
      ".ix is deprecated. Please use\n",
      ".loc for label based indexing or\n",
      ".iloc for positional indexing\n",
      "\n",
      "See the documentation here:\n",
      "http://pandas.pydata.org/pandas-docs/stable/user_guide/indexing.html#ix-indexer-is-deprecated\n",
      "C:\\Users\\user\\Anaconda3\\lib\\site-packages\\ipykernel_launcher.py:23: FutureWarning: \n",
      ".ix is deprecated. Please use\n",
      ".loc for label based indexing or\n",
      ".iloc for positional indexing\n",
      "\n",
      "See the documentation here:\n",
      "http://pandas.pydata.org/pandas-docs/stable/user_guide/indexing.html#ix-indexer-is-deprecated\n",
      "C:\\Users\\user\\Anaconda3\\lib\\site-packages\\ipykernel_launcher.py:24: FutureWarning: \n",
      ".ix is deprecated. Please use\n",
      ".loc for label based indexing or\n",
      ".iloc for positional indexing\n",
      "\n",
      "See the documentation here:\n",
      "http://pandas.pydata.org/pandas-docs/stable/user_guide/indexing.html#ix-indexer-is-deprecated\n",
      "C:\\Users\\user\\Anaconda3\\lib\\site-packages\\ipykernel_launcher.py:25: FutureWarning: \n",
      ".ix is deprecated. Please use\n",
      ".loc for label based indexing or\n",
      ".iloc for positional indexing\n",
      "\n",
      "See the documentation here:\n",
      "http://pandas.pydata.org/pandas-docs/stable/user_guide/indexing.html#ix-indexer-is-deprecated\n",
      "C:\\Users\\user\\Anaconda3\\lib\\site-packages\\ipykernel_launcher.py:26: FutureWarning: \n",
      ".ix is deprecated. Please use\n",
      ".loc for label based indexing or\n",
      ".iloc for positional indexing\n",
      "\n",
      "See the documentation here:\n",
      "http://pandas.pydata.org/pandas-docs/stable/user_guide/indexing.html#ix-indexer-is-deprecated\n",
      "C:\\Users\\user\\Anaconda3\\lib\\site-packages\\ipykernel_launcher.py:29: FutureWarning: \n",
      ".ix is deprecated. Please use\n",
      ".loc for label based indexing or\n",
      ".iloc for positional indexing\n",
      "\n",
      "See the documentation here:\n",
      "http://pandas.pydata.org/pandas-docs/stable/user_guide/indexing.html#ix-indexer-is-deprecated\n",
      "C:\\Users\\user\\Anaconda3\\lib\\site-packages\\ipykernel_launcher.py:30: FutureWarning: \n",
      ".ix is deprecated. Please use\n",
      ".loc for label based indexing or\n",
      ".iloc for positional indexing\n",
      "\n",
      "See the documentation here:\n",
      "http://pandas.pydata.org/pandas-docs/stable/user_guide/indexing.html#ix-indexer-is-deprecated\n",
      "C:\\Users\\user\\Anaconda3\\lib\\site-packages\\ipykernel_launcher.py:31: FutureWarning: \n",
      ".ix is deprecated. Please use\n",
      ".loc for label based indexing or\n",
      ".iloc for positional indexing\n",
      "\n",
      "See the documentation here:\n",
      "http://pandas.pydata.org/pandas-docs/stable/user_guide/indexing.html#ix-indexer-is-deprecated\n",
      "C:\\Users\\user\\Anaconda3\\lib\\site-packages\\ipykernel_launcher.py:38: FutureWarning: \n",
      ".ix is deprecated. Please use\n",
      ".loc for label based indexing or\n",
      ".iloc for positional indexing\n",
      "\n",
      "See the documentation here:\n",
      "http://pandas.pydata.org/pandas-docs/stable/user_guide/indexing.html#ix-indexer-is-deprecated\n",
      "C:\\Users\\user\\Anaconda3\\lib\\site-packages\\ipykernel_launcher.py:39: FutureWarning: \n",
      ".ix is deprecated. Please use\n",
      ".loc for label based indexing or\n",
      ".iloc for positional indexing\n",
      "\n",
      "See the documentation here:\n",
      "http://pandas.pydata.org/pandas-docs/stable/user_guide/indexing.html#ix-indexer-is-deprecated\n",
      "C:\\Users\\user\\Anaconda3\\lib\\site-packages\\ipykernel_launcher.py:40: FutureWarning: \n",
      ".ix is deprecated. Please use\n",
      ".loc for label based indexing or\n",
      ".iloc for positional indexing\n",
      "\n",
      "See the documentation here:\n",
      "http://pandas.pydata.org/pandas-docs/stable/user_guide/indexing.html#ix-indexer-is-deprecated\n",
      "C:\\Users\\user\\Anaconda3\\lib\\site-packages\\ipykernel_launcher.py:43: FutureWarning: \n",
      ".ix is deprecated. Please use\n",
      ".loc for label based indexing or\n",
      ".iloc for positional indexing\n",
      "\n",
      "See the documentation here:\n",
      "http://pandas.pydata.org/pandas-docs/stable/user_guide/indexing.html#ix-indexer-is-deprecated\n",
      "C:\\Users\\user\\Anaconda3\\lib\\site-packages\\ipykernel_launcher.py:46: FutureWarning: \n",
      ".ix is deprecated. Please use\n",
      ".loc for label based indexing or\n",
      ".iloc for positional indexing\n",
      "\n",
      "See the documentation here:\n",
      "http://pandas.pydata.org/pandas-docs/stable/user_guide/indexing.html#ix-indexer-is-deprecated\n",
      "C:\\Users\\user\\Anaconda3\\lib\\site-packages\\ipykernel_launcher.py:56: FutureWarning: \n",
      ".ix is deprecated. Please use\n",
      ".loc for label based indexing or\n",
      ".iloc for positional indexing\n",
      "\n",
      "See the documentation here:\n",
      "http://pandas.pydata.org/pandas-docs/stable/user_guide/indexing.html#ix-indexer-is-deprecated\n"
     ]
    },
    {
     "data": {
      "text/html": [
       "<div>\n",
       "<style scoped>\n",
       "    .dataframe tbody tr th:only-of-type {\n",
       "        vertical-align: middle;\n",
       "    }\n",
       "\n",
       "    .dataframe tbody tr th {\n",
       "        vertical-align: top;\n",
       "    }\n",
       "\n",
       "    .dataframe thead th {\n",
       "        text-align: right;\n",
       "    }\n",
       "</style>\n",
       "<table border=\"1\" class=\"dataframe\">\n",
       "  <thead>\n",
       "    <tr style=\"text-align: right;\">\n",
       "      <th></th>\n",
       "      <th>Cliente_ID</th>\n",
       "      <th>NombreCliente</th>\n",
       "      <th>Client_Type</th>\n",
       "    </tr>\n",
       "  </thead>\n",
       "  <tbody>\n",
       "    <tr>\n",
       "      <th>0</th>\n",
       "      <td>0</td>\n",
       "      <td>SIN NOMBRE</td>\n",
       "      <td>Individual</td>\n",
       "    </tr>\n",
       "    <tr>\n",
       "      <th>1</th>\n",
       "      <td>1</td>\n",
       "      <td>OXXO XINANTECATL</td>\n",
       "      <td>Oxxo Store</td>\n",
       "    </tr>\n",
       "    <tr>\n",
       "      <th>2</th>\n",
       "      <td>2</td>\n",
       "      <td>SIN NOMBRE</td>\n",
       "      <td>Individual</td>\n",
       "    </tr>\n",
       "    <tr>\n",
       "      <th>3</th>\n",
       "      <td>3</td>\n",
       "      <td>EL MORENO</td>\n",
       "      <td>Small Franchise</td>\n",
       "    </tr>\n",
       "    <tr>\n",
       "      <th>4</th>\n",
       "      <td>4</td>\n",
       "      <td>SDN SER  DE ALIM  CUERPO SA CIA  DE INT</td>\n",
       "      <td>Small Franchise</td>\n",
       "    </tr>\n",
       "  </tbody>\n",
       "</table>\n",
       "</div>"
      ],
      "text/plain": [
       "   Cliente_ID                            NombreCliente      Client_Type\n",
       "0           0                               SIN NOMBRE       Individual\n",
       "1           1                         OXXO XINANTECATL       Oxxo Store\n",
       "2           2                               SIN NOMBRE       Individual\n",
       "3           3                                EL MORENO  Small Franchise\n",
       "4           4  SDN SER  DE ALIM  CUERPO SA CIA  DE INT  Small Franchise"
      ]
     },
     "execution_count": 43,
     "metadata": {},
     "output_type": "execute_result"
    }
   ],
   "source": [
    "clients = create_client_features(clients)\n",
    "clients.head()"
   ]
  },
  {
   "cell_type": "code",
   "execution_count": 44,
   "metadata": {},
   "outputs": [
    {
     "data": {
      "text/html": [
       "<div>\n",
       "<style scoped>\n",
       "    .dataframe tbody tr th:only-of-type {\n",
       "        vertical-align: middle;\n",
       "    }\n",
       "\n",
       "    .dataframe tbody tr th {\n",
       "        vertical-align: top;\n",
       "    }\n",
       "\n",
       "    .dataframe thead th {\n",
       "        text-align: right;\n",
       "    }\n",
       "</style>\n",
       "<table border=\"1\" class=\"dataframe\">\n",
       "  <thead>\n",
       "    <tr style=\"text-align: right;\">\n",
       "      <th></th>\n",
       "      <th>Cliente_ID</th>\n",
       "      <th>NombreCliente</th>\n",
       "      <th>Client_Type</th>\n",
       "    </tr>\n",
       "  </thead>\n",
       "  <tbody>\n",
       "    <tr>\n",
       "      <th>0</th>\n",
       "      <td>0</td>\n",
       "      <td>SIN NOMBRE</td>\n",
       "      <td>Individual</td>\n",
       "    </tr>\n",
       "    <tr>\n",
       "      <th>1</th>\n",
       "      <td>1</td>\n",
       "      <td>OXXO XINANTECATL</td>\n",
       "      <td>Oxxo Store</td>\n",
       "    </tr>\n",
       "    <tr>\n",
       "      <th>2</th>\n",
       "      <td>2</td>\n",
       "      <td>SIN NOMBRE</td>\n",
       "      <td>Individual</td>\n",
       "    </tr>\n",
       "    <tr>\n",
       "      <th>3</th>\n",
       "      <td>3</td>\n",
       "      <td>EL MORENO</td>\n",
       "      <td>Small Franchise</td>\n",
       "    </tr>\n",
       "    <tr>\n",
       "      <th>4</th>\n",
       "      <td>4</td>\n",
       "      <td>SDN SER  DE ALIM  CUERPO SA CIA  DE INT</td>\n",
       "      <td>Small Franchise</td>\n",
       "    </tr>\n",
       "    <tr>\n",
       "      <th>6</th>\n",
       "      <td>5</td>\n",
       "      <td>LA VAQUITA</td>\n",
       "      <td>Small Franchise</td>\n",
       "    </tr>\n",
       "    <tr>\n",
       "      <th>7</th>\n",
       "      <td>6</td>\n",
       "      <td>LUPITA</td>\n",
       "      <td>Individual</td>\n",
       "    </tr>\n",
       "    <tr>\n",
       "      <th>8</th>\n",
       "      <td>7</td>\n",
       "      <td>I M EL GUERO</td>\n",
       "      <td>Small Franchise</td>\n",
       "    </tr>\n",
       "    <tr>\n",
       "      <th>9</th>\n",
       "      <td>8</td>\n",
       "      <td>MINI SUPER LOS LUPES</td>\n",
       "      <td>Supermarket</td>\n",
       "    </tr>\n",
       "    <tr>\n",
       "      <th>10</th>\n",
       "      <td>9</td>\n",
       "      <td>SUPER KOMPRAS MICRO COLON</td>\n",
       "      <td>Supermarket</td>\n",
       "    </tr>\n",
       "    <tr>\n",
       "      <th>11</th>\n",
       "      <td>10</td>\n",
       "      <td>LONJA MERCANTIL DE TODO</td>\n",
       "      <td>Small Franchise</td>\n",
       "    </tr>\n",
       "    <tr>\n",
       "      <th>12</th>\n",
       "      <td>11</td>\n",
       "      <td>FARMACIA NICOLAS SAN JUAN</td>\n",
       "      <td>Hospital/Pharmacy</td>\n",
       "    </tr>\n",
       "    <tr>\n",
       "      <th>13</th>\n",
       "      <td>12</td>\n",
       "      <td>PAPELERIA CATALA</td>\n",
       "      <td>Eatery</td>\n",
       "    </tr>\n",
       "    <tr>\n",
       "      <th>14</th>\n",
       "      <td>13</td>\n",
       "      <td>ELENA</td>\n",
       "      <td>Individual</td>\n",
       "    </tr>\n",
       "    <tr>\n",
       "      <th>15</th>\n",
       "      <td>14</td>\n",
       "      <td>CASA TRINO</td>\n",
       "      <td>Individual</td>\n",
       "    </tr>\n",
       "    <tr>\n",
       "      <th>16</th>\n",
       "      <td>15</td>\n",
       "      <td>FMA035947 BIMBO SA DE CV</td>\n",
       "      <td>Bimbo Store</td>\n",
       "    </tr>\n",
       "    <tr>\n",
       "      <th>17</th>\n",
       "      <td>16</td>\n",
       "      <td>JOYS</td>\n",
       "      <td>Individual</td>\n",
       "    </tr>\n",
       "    <tr>\n",
       "      <th>18</th>\n",
       "      <td>17</td>\n",
       "      <td>DE MARCO</td>\n",
       "      <td>Small Franchise</td>\n",
       "    </tr>\n",
       "    <tr>\n",
       "      <th>19</th>\n",
       "      <td>18</td>\n",
       "      <td>LUPES II</td>\n",
       "      <td>Small Franchise</td>\n",
       "    </tr>\n",
       "    <tr>\n",
       "      <th>20</th>\n",
       "      <td>19</td>\n",
       "      <td>LA TIENDITA</td>\n",
       "      <td>Small Franchise</td>\n",
       "    </tr>\n",
       "  </tbody>\n",
       "</table>\n",
       "</div>"
      ],
      "text/plain": [
       "    Cliente_ID                            NombreCliente        Client_Type\n",
       "0            0                               SIN NOMBRE         Individual\n",
       "1            1                         OXXO XINANTECATL         Oxxo Store\n",
       "2            2                               SIN NOMBRE         Individual\n",
       "3            3                                EL MORENO    Small Franchise\n",
       "4            4  SDN SER  DE ALIM  CUERPO SA CIA  DE INT    Small Franchise\n",
       "6            5                               LA VAQUITA    Small Franchise\n",
       "7            6                                   LUPITA         Individual\n",
       "8            7                             I M EL GUERO    Small Franchise\n",
       "9            8                     MINI SUPER LOS LUPES        Supermarket\n",
       "10           9                SUPER KOMPRAS MICRO COLON        Supermarket\n",
       "11          10                  LONJA MERCANTIL DE TODO    Small Franchise\n",
       "12          11                FARMACIA NICOLAS SAN JUAN  Hospital/Pharmacy\n",
       "13          12                         PAPELERIA CATALA             Eatery\n",
       "14          13                                    ELENA         Individual\n",
       "15          14                               CASA TRINO         Individual\n",
       "16          15                 FMA035947 BIMBO SA DE CV        Bimbo Store\n",
       "17          16                                     JOYS         Individual\n",
       "18          17                                 DE MARCO    Small Franchise\n",
       "19          18                                 LUPES II    Small Franchise\n",
       "20          19                              LA TIENDITA    Small Franchise"
      ]
     },
     "execution_count": 44,
     "metadata": {},
     "output_type": "execute_result"
    }
   ],
   "source": [
    "clients.head(20)"
   ]
  },
  {
   "cell_type": "code",
   "execution_count": 45,
   "metadata": {},
   "outputs": [
    {
     "name": "stdout",
     "output_type": "stream",
     "text": [
      "# Unique Client_Type: 16\n"
     ]
    },
    {
     "data": {
      "text/html": [
       "<div>\n",
       "<style scoped>\n",
       "    .dataframe tbody tr th:only-of-type {\n",
       "        vertical-align: middle;\n",
       "    }\n",
       "\n",
       "    .dataframe tbody tr th {\n",
       "        vertical-align: top;\n",
       "    }\n",
       "\n",
       "    .dataframe thead th {\n",
       "        text-align: right;\n",
       "    }\n",
       "</style>\n",
       "<table border=\"1\" class=\"dataframe\">\n",
       "  <thead>\n",
       "    <tr style=\"text-align: right;\">\n",
       "      <th></th>\n",
       "      <th>Client_Type</th>\n",
       "      <th>Frequency</th>\n",
       "      <th>Pct</th>\n",
       "    </tr>\n",
       "  </thead>\n",
       "  <tbody>\n",
       "    <tr>\n",
       "      <th>8</th>\n",
       "      <td>Individual</td>\n",
       "      <td>351908</td>\n",
       "      <td>37.819237</td>\n",
       "    </tr>\n",
       "    <tr>\n",
       "      <th>9</th>\n",
       "      <td>NO IDENTIFICADO</td>\n",
       "      <td>281670</td>\n",
       "      <td>30.270822</td>\n",
       "    </tr>\n",
       "    <tr>\n",
       "      <th>13</th>\n",
       "      <td>Small Franchise</td>\n",
       "      <td>158357</td>\n",
       "      <td>17.018485</td>\n",
       "    </tr>\n",
       "    <tr>\n",
       "      <th>4</th>\n",
       "      <td>General Market/Mart</td>\n",
       "      <td>65516</td>\n",
       "      <td>7.040946</td>\n",
       "    </tr>\n",
       "    <tr>\n",
       "      <th>2</th>\n",
       "      <td>Eatery</td>\n",
       "      <td>30277</td>\n",
       "      <td>3.253842</td>\n",
       "    </tr>\n",
       "    <tr>\n",
       "      <th>14</th>\n",
       "      <td>Supermarket</td>\n",
       "      <td>15911</td>\n",
       "      <td>1.709941</td>\n",
       "    </tr>\n",
       "    <tr>\n",
       "      <th>10</th>\n",
       "      <td>Oxxo Store</td>\n",
       "      <td>9276</td>\n",
       "      <td>0.996883</td>\n",
       "    </tr>\n",
       "    <tr>\n",
       "      <th>6</th>\n",
       "      <td>Hospital/Pharmacy</td>\n",
       "      <td>5693</td>\n",
       "      <td>0.611822</td>\n",
       "    </tr>\n",
       "    <tr>\n",
       "      <th>12</th>\n",
       "      <td>School</td>\n",
       "      <td>5562</td>\n",
       "      <td>0.597743</td>\n",
       "    </tr>\n",
       "    <tr>\n",
       "      <th>11</th>\n",
       "      <td>Post</td>\n",
       "      <td>2658</td>\n",
       "      <td>0.285653</td>\n",
       "    </tr>\n",
       "    <tr>\n",
       "      <th>7</th>\n",
       "      <td>Hotel</td>\n",
       "      <td>1104</td>\n",
       "      <td>0.118646</td>\n",
       "    </tr>\n",
       "    <tr>\n",
       "      <th>3</th>\n",
       "      <td>Fresh Market</td>\n",
       "      <td>1060</td>\n",
       "      <td>0.113917</td>\n",
       "    </tr>\n",
       "    <tr>\n",
       "      <th>5</th>\n",
       "      <td>Govt Store</td>\n",
       "      <td>958</td>\n",
       "      <td>0.102955</td>\n",
       "    </tr>\n",
       "    <tr>\n",
       "      <th>0</th>\n",
       "      <td>Bimbo Store</td>\n",
       "      <td>319</td>\n",
       "      <td>0.034283</td>\n",
       "    </tr>\n",
       "    <tr>\n",
       "      <th>15</th>\n",
       "      <td>Walmart</td>\n",
       "      <td>217</td>\n",
       "      <td>0.023321</td>\n",
       "    </tr>\n",
       "    <tr>\n",
       "      <th>1</th>\n",
       "      <td>Consignment</td>\n",
       "      <td>14</td>\n",
       "      <td>0.001505</td>\n",
       "    </tr>\n",
       "  </tbody>\n",
       "</table>\n",
       "</div>"
      ],
      "text/plain": [
       "            Client_Type  Frequency        Pct\n",
       "8            Individual     351908  37.819237\n",
       "9       NO IDENTIFICADO     281670  30.270822\n",
       "13      Small Franchise     158357  17.018485\n",
       "4   General Market/Mart      65516   7.040946\n",
       "2                Eatery      30277   3.253842\n",
       "14          Supermarket      15911   1.709941\n",
       "10           Oxxo Store       9276   0.996883\n",
       "6     Hospital/Pharmacy       5693   0.611822\n",
       "12               School       5562   0.597743\n",
       "11                 Post       2658   0.285653\n",
       "7                 Hotel       1104   0.118646\n",
       "3          Fresh Market       1060   0.113917\n",
       "5            Govt Store        958   0.102955\n",
       "0           Bimbo Store        319   0.034283\n",
       "15              Walmart        217   0.023321\n",
       "1           Consignment         14   0.001505"
      ]
     },
     "execution_count": 45,
     "metadata": {},
     "output_type": "execute_result"
    }
   ],
   "source": [
    "print ('# Unique Client_Type: ' + str(len(clients['Client_Type'].unique())))\n",
    "common_client_types = pd.DataFrame({'Frequency': clients.groupby(['Client_Type'])['Client_Type'].count()}).reset_index()\n",
    "common_client_types['Pct'] = 100.0 * common_client_types['Frequency'] / common_client_types['Frequency'].sum()\n",
    "common_client_types = common_client_types.sort_values(by = 'Frequency', ascending = False)\n",
    "common_client_types"
   ]
  },
  {
   "cell_type": "code",
   "execution_count": 47,
   "metadata": {},
   "outputs": [
    {
     "name": "stdout",
     "output_type": "stream",
     "text": [
      "Shape Before Merge: (74180464, 9)\n",
      "Shape After Merge: (74180464, 11)\n"
     ]
    },
    {
     "data": {
      "text/html": [
       "<div>\n",
       "<style scoped>\n",
       "    .dataframe tbody tr th:only-of-type {\n",
       "        vertical-align: middle;\n",
       "    }\n",
       "\n",
       "    .dataframe tbody tr th {\n",
       "        vertical-align: top;\n",
       "    }\n",
       "\n",
       "    .dataframe thead th {\n",
       "        text-align: right;\n",
       "    }\n",
       "</style>\n",
       "<table border=\"1\" class=\"dataframe\">\n",
       "  <thead>\n",
       "    <tr style=\"text-align: right;\">\n",
       "      <th></th>\n",
       "      <th>Producto_ID</th>\n",
       "      <th>Cliente_ID</th>\n",
       "      <th>Agencia_ID</th>\n",
       "      <th>Demanda_uni_equil</th>\n",
       "      <th>NombreProducto</th>\n",
       "      <th>short_product_name</th>\n",
       "      <th>pieces</th>\n",
       "      <th>weight</th>\n",
       "      <th>brand</th>\n",
       "      <th>NombreCliente</th>\n",
       "      <th>Client_Type</th>\n",
       "    </tr>\n",
       "  </thead>\n",
       "  <tbody>\n",
       "    <tr>\n",
       "      <th>0</th>\n",
       "      <td>1212</td>\n",
       "      <td>15766</td>\n",
       "      <td>1110</td>\n",
       "      <td>3</td>\n",
       "      <td>Roles Canela 2p 120g BIM 1212</td>\n",
       "      <td>rol canel</td>\n",
       "      <td>2.0</td>\n",
       "      <td>120.0</td>\n",
       "      <td>BIM</td>\n",
       "      <td>PUESTO DE PERIODICOS LAZARO</td>\n",
       "      <td>Post</td>\n",
       "    </tr>\n",
       "    <tr>\n",
       "      <th>1</th>\n",
       "      <td>1216</td>\n",
       "      <td>15766</td>\n",
       "      <td>1110</td>\n",
       "      <td>4</td>\n",
       "      <td>Roles Glass 2p 135g BIM 1216</td>\n",
       "      <td>rol glass</td>\n",
       "      <td>2.0</td>\n",
       "      <td>135.0</td>\n",
       "      <td>BIM</td>\n",
       "      <td>PUESTO DE PERIODICOS LAZARO</td>\n",
       "      <td>Post</td>\n",
       "    </tr>\n",
       "    <tr>\n",
       "      <th>2</th>\n",
       "      <td>1238</td>\n",
       "      <td>15766</td>\n",
       "      <td>1110</td>\n",
       "      <td>4</td>\n",
       "      <td>Panquecito Gota Choc 2p 140g BIM 1238</td>\n",
       "      <td>panquecit got choc</td>\n",
       "      <td>2.0</td>\n",
       "      <td>140.0</td>\n",
       "      <td>BIM</td>\n",
       "      <td>PUESTO DE PERIODICOS LAZARO</td>\n",
       "      <td>Post</td>\n",
       "    </tr>\n",
       "    <tr>\n",
       "      <th>3</th>\n",
       "      <td>1240</td>\n",
       "      <td>15766</td>\n",
       "      <td>1110</td>\n",
       "      <td>4</td>\n",
       "      <td>Mantecadas Vainilla 4p 125g BIM 1240</td>\n",
       "      <td>mantec vainill</td>\n",
       "      <td>4.0</td>\n",
       "      <td>125.0</td>\n",
       "      <td>BIM</td>\n",
       "      <td>PUESTO DE PERIODICOS LAZARO</td>\n",
       "      <td>Post</td>\n",
       "    </tr>\n",
       "    <tr>\n",
       "      <th>4</th>\n",
       "      <td>1242</td>\n",
       "      <td>15766</td>\n",
       "      <td>1110</td>\n",
       "      <td>3</td>\n",
       "      <td>Donitas Espolvoreadas 6p 105g BIM 1242</td>\n",
       "      <td>donit espolvor</td>\n",
       "      <td>6.0</td>\n",
       "      <td>105.0</td>\n",
       "      <td>BIM</td>\n",
       "      <td>PUESTO DE PERIODICOS LAZARO</td>\n",
       "      <td>Post</td>\n",
       "    </tr>\n",
       "  </tbody>\n",
       "</table>\n",
       "</div>"
      ],
      "text/plain": [
       "   Producto_ID  Cliente_ID  Agencia_ID  Demanda_uni_equil  \\\n",
       "0         1212       15766        1110                  3   \n",
       "1         1216       15766        1110                  4   \n",
       "2         1238       15766        1110                  4   \n",
       "3         1240       15766        1110                  4   \n",
       "4         1242       15766        1110                  3   \n",
       "\n",
       "                           NombreProducto  short_product_name  pieces  weight  \\\n",
       "0           Roles Canela 2p 120g BIM 1212           rol canel     2.0   120.0   \n",
       "1            Roles Glass 2p 135g BIM 1216           rol glass     2.0   135.0   \n",
       "2   Panquecito Gota Choc 2p 140g BIM 1238  panquecit got choc     2.0   140.0   \n",
       "3    Mantecadas Vainilla 4p 125g BIM 1240      mantec vainill     4.0   125.0   \n",
       "4  Donitas Espolvoreadas 6p 105g BIM 1242      donit espolvor     6.0   105.0   \n",
       "\n",
       "  brand                NombreCliente Client_Type  \n",
       "0   BIM  PUESTO DE PERIODICOS LAZARO        Post  \n",
       "1   BIM  PUESTO DE PERIODICOS LAZARO        Post  \n",
       "2   BIM  PUESTO DE PERIODICOS LAZARO        Post  \n",
       "3   BIM  PUESTO DE PERIODICOS LAZARO        Post  \n",
       "4   BIM  PUESTO DE PERIODICOS LAZARO        Post  "
      ]
     },
     "execution_count": 47,
     "metadata": {},
     "output_type": "execute_result"
    }
   ],
   "source": [
    "#merge client with training data\n",
    "print ('Shape Before Merge: ' + str(train.shape))\n",
    "train = train.merge(clients, on = 'Cliente_ID', how = 'left')\n",
    "print ('Shape After Merge: ' + str(train.shape))\n",
    "train.head()"
   ]
  },
  {
   "cell_type": "code",
   "execution_count": 48,
   "metadata": {},
   "outputs": [
    {
     "data": {
      "text/html": [
       "<div>\n",
       "<style scoped>\n",
       "    .dataframe tbody tr th:only-of-type {\n",
       "        vertical-align: middle;\n",
       "    }\n",
       "\n",
       "    .dataframe tbody tr th {\n",
       "        vertical-align: top;\n",
       "    }\n",
       "\n",
       "    .dataframe thead th {\n",
       "        text-align: right;\n",
       "    }\n",
       "</style>\n",
       "<table border=\"1\" class=\"dataframe\">\n",
       "  <thead>\n",
       "    <tr style=\"text-align: right;\">\n",
       "      <th></th>\n",
       "      <th>Client_Type</th>\n",
       "      <th>Adjusted Sales</th>\n",
       "      <th>%</th>\n",
       "    </tr>\n",
       "  </thead>\n",
       "  <tbody>\n",
       "    <tr>\n",
       "      <th>8</th>\n",
       "      <td>Individual</td>\n",
       "      <td>191529780</td>\n",
       "      <td>35.738401</td>\n",
       "    </tr>\n",
       "    <tr>\n",
       "      <th>13</th>\n",
       "      <td>Small Franchise</td>\n",
       "      <td>100650079</td>\n",
       "      <td>18.780750</td>\n",
       "    </tr>\n",
       "    <tr>\n",
       "      <th>9</th>\n",
       "      <td>NO IDENTIFICADO</td>\n",
       "      <td>82784610</td>\n",
       "      <td>15.447152</td>\n",
       "    </tr>\n",
       "    <tr>\n",
       "      <th>4</th>\n",
       "      <td>General Market/Mart</td>\n",
       "      <td>55937875</td>\n",
       "      <td>10.437699</td>\n",
       "    </tr>\n",
       "    <tr>\n",
       "      <th>10</th>\n",
       "      <td>Oxxo Store</td>\n",
       "      <td>26720081</td>\n",
       "      <td>4.985820</td>\n",
       "    </tr>\n",
       "    <tr>\n",
       "      <th>14</th>\n",
       "      <td>Supermarket</td>\n",
       "      <td>24389983</td>\n",
       "      <td>4.551036</td>\n",
       "    </tr>\n",
       "    <tr>\n",
       "      <th>1</th>\n",
       "      <td>Consignment</td>\n",
       "      <td>19691066</td>\n",
       "      <td>3.674244</td>\n",
       "    </tr>\n",
       "    <tr>\n",
       "      <th>2</th>\n",
       "      <td>Eatery</td>\n",
       "      <td>14818703</td>\n",
       "      <td>2.765088</td>\n",
       "    </tr>\n",
       "    <tr>\n",
       "      <th>15</th>\n",
       "      <td>Walmart</td>\n",
       "      <td>8483857</td>\n",
       "      <td>1.583041</td>\n",
       "    </tr>\n",
       "    <tr>\n",
       "      <th>6</th>\n",
       "      <td>Hospital/Pharmacy</td>\n",
       "      <td>4665340</td>\n",
       "      <td>0.870527</td>\n",
       "    </tr>\n",
       "    <tr>\n",
       "      <th>12</th>\n",
       "      <td>School</td>\n",
       "      <td>3172893</td>\n",
       "      <td>0.592044</td>\n",
       "    </tr>\n",
       "    <tr>\n",
       "      <th>11</th>\n",
       "      <td>Post</td>\n",
       "      <td>885621</td>\n",
       "      <td>0.165252</td>\n",
       "    </tr>\n",
       "    <tr>\n",
       "      <th>5</th>\n",
       "      <td>Govt Store</td>\n",
       "      <td>592964</td>\n",
       "      <td>0.110644</td>\n",
       "    </tr>\n",
       "    <tr>\n",
       "      <th>7</th>\n",
       "      <td>Hotel</td>\n",
       "      <td>584411</td>\n",
       "      <td>0.109048</td>\n",
       "    </tr>\n",
       "    <tr>\n",
       "      <th>3</th>\n",
       "      <td>Fresh Market</td>\n",
       "      <td>584001</td>\n",
       "      <td>0.108971</td>\n",
       "    </tr>\n",
       "    <tr>\n",
       "      <th>0</th>\n",
       "      <td>Bimbo Store</td>\n",
       "      <td>430246</td>\n",
       "      <td>0.080282</td>\n",
       "    </tr>\n",
       "  </tbody>\n",
       "</table>\n",
       "</div>"
      ],
      "text/plain": [
       "            Client_Type  Adjusted Sales          %\n",
       "8            Individual       191529780  35.738401\n",
       "13      Small Franchise       100650079  18.780750\n",
       "9       NO IDENTIFICADO        82784610  15.447152\n",
       "4   General Market/Mart        55937875  10.437699\n",
       "10           Oxxo Store        26720081   4.985820\n",
       "14          Supermarket        24389983   4.551036\n",
       "1           Consignment        19691066   3.674244\n",
       "2                Eatery        14818703   2.765088\n",
       "15              Walmart         8483857   1.583041\n",
       "6     Hospital/Pharmacy         4665340   0.870527\n",
       "12               School         3172893   0.592044\n",
       "11                 Post          885621   0.165252\n",
       "5            Govt Store          592964   0.110644\n",
       "7                 Hotel          584411   0.109048\n",
       "3          Fresh Market          584001   0.108971\n",
       "0           Bimbo Store          430246   0.080282"
      ]
     },
     "execution_count": 48,
     "metadata": {},
     "output_type": "execute_result"
    }
   ],
   "source": [
    "\n",
    "best_selling_types = pd.DataFrame({'Adjusted Sales': train.groupby(['Client_Type'])['Demanda_uni_equil'].sum()}).reset_index()\n",
    "best_selling_types['%'] = 100.0 * best_selling_types['Adjusted Sales'] / best_selling_types['Adjusted Sales'].sum()\n",
    "best_selling_types = best_selling_types.sort_values(by = 'Adjusted Sales', ascending = False)\n",
    "best_selling_types\n",
    "\n"
   ]
  },
  {
   "cell_type": "code",
   "execution_count": 51,
   "metadata": {},
   "outputs": [
    {
     "data": {
      "application/vnd.plotly.v1+json": {
       "config": {
        "plotlyServerURL": "https://plot.ly"
       },
       "data": [
        {
         "alignmentgroup": "True",
         "customdata": [
          [
           35.73840131925289,
           191529780
          ]
         ],
         "hoverlabel": {
          "namelength": 0
         },
         "hovertemplate": "Client_Type=%{x}<br>%=%{customdata[0]}<br>Adjusted Sales=%{customdata[1]}",
         "legendgroup": "Client_Type=Individual",
         "marker": {
          "color": "#636efa"
         },
         "name": "Client_Type=Individual",
         "offsetgroup": "Client_Type=Individual",
         "orientation": "v",
         "showlegend": true,
         "textposition": "auto",
         "type": "bar",
         "x": [
          "Individual"
         ],
         "xaxis": "x",
         "y": [
          35.73840131925289
         ],
         "yaxis": "y"
        },
        {
         "alignmentgroup": "True",
         "customdata": [
          [
           18.780750001991898,
           100650079
          ]
         ],
         "hoverlabel": {
          "namelength": 0
         },
         "hovertemplate": "Client_Type=%{x}<br>%=%{customdata[0]}<br>Adjusted Sales=%{customdata[1]}",
         "legendgroup": "Client_Type=Small Franchise",
         "marker": {
          "color": "#EF553B"
         },
         "name": "Client_Type=Small Franchise",
         "offsetgroup": "Client_Type=Small Franchise",
         "orientation": "v",
         "showlegend": true,
         "textposition": "auto",
         "type": "bar",
         "x": [
          "Small Franchise"
         ],
         "xaxis": "x",
         "y": [
          18.780750001991898
         ],
         "yaxis": "y"
        },
        {
         "alignmentgroup": "True",
         "customdata": [
          [
           15.447151953277636,
           82784610
          ]
         ],
         "hoverlabel": {
          "namelength": 0
         },
         "hovertemplate": "Client_Type=%{x}<br>%=%{customdata[0]}<br>Adjusted Sales=%{customdata[1]}",
         "legendgroup": "Client_Type=NO IDENTIFICADO",
         "marker": {
          "color": "#00cc96"
         },
         "name": "Client_Type=NO IDENTIFICADO",
         "offsetgroup": "Client_Type=NO IDENTIFICADO",
         "orientation": "v",
         "showlegend": true,
         "textposition": "auto",
         "type": "bar",
         "x": [
          "NO IDENTIFICADO"
         ],
         "xaxis": "x",
         "y": [
          15.447151953277636
         ],
         "yaxis": "y"
        },
        {
         "alignmentgroup": "True",
         "customdata": [
          [
           10.43769916979074,
           55937875
          ]
         ],
         "hoverlabel": {
          "namelength": 0
         },
         "hovertemplate": "Client_Type=%{x}<br>%=%{customdata[0]}<br>Adjusted Sales=%{customdata[1]}",
         "legendgroup": "Client_Type=General Market/Mart",
         "marker": {
          "color": "#ab63fa"
         },
         "name": "Client_Type=General Market/Mart",
         "offsetgroup": "Client_Type=General Market/Mart",
         "orientation": "v",
         "showlegend": true,
         "textposition": "auto",
         "type": "bar",
         "x": [
          "General Market/Mart"
         ],
         "xaxis": "x",
         "y": [
          10.43769916979074
         ],
         "yaxis": "y"
        },
        {
         "alignmentgroup": "True",
         "customdata": [
          [
           4.985819845148593,
           26720081
          ]
         ],
         "hoverlabel": {
          "namelength": 0
         },
         "hovertemplate": "Client_Type=%{x}<br>%=%{customdata[0]}<br>Adjusted Sales=%{customdata[1]}",
         "legendgroup": "Client_Type=Oxxo Store",
         "marker": {
          "color": "#FFA15A"
         },
         "name": "Client_Type=Oxxo Store",
         "offsetgroup": "Client_Type=Oxxo Store",
         "orientation": "v",
         "showlegend": true,
         "textposition": "auto",
         "type": "bar",
         "x": [
          "Oxxo Store"
         ],
         "xaxis": "x",
         "y": [
          4.985819845148593
         ],
         "yaxis": "y"
        },
        {
         "alignmentgroup": "True",
         "customdata": [
          [
           4.551036400834144,
           24389983
          ]
         ],
         "hoverlabel": {
          "namelength": 0
         },
         "hovertemplate": "Client_Type=%{x}<br>%=%{customdata[0]}<br>Adjusted Sales=%{customdata[1]}",
         "legendgroup": "Client_Type=Supermarket",
         "marker": {
          "color": "#19d3f3"
         },
         "name": "Client_Type=Supermarket",
         "offsetgroup": "Client_Type=Supermarket",
         "orientation": "v",
         "showlegend": true,
         "textposition": "auto",
         "type": "bar",
         "x": [
          "Supermarket"
         ],
         "xaxis": "x",
         "y": [
          4.551036400834144
         ],
         "yaxis": "y"
        },
        {
         "alignmentgroup": "True",
         "customdata": [
          [
           3.6742443870185393,
           19691066
          ]
         ],
         "hoverlabel": {
          "namelength": 0
         },
         "hovertemplate": "Client_Type=%{x}<br>%=%{customdata[0]}<br>Adjusted Sales=%{customdata[1]}",
         "legendgroup": "Client_Type=Consignment",
         "marker": {
          "color": "#FF6692"
         },
         "name": "Client_Type=Consignment",
         "offsetgroup": "Client_Type=Consignment",
         "orientation": "v",
         "showlegend": true,
         "textposition": "auto",
         "type": "bar",
         "x": [
          "Consignment"
         ],
         "xaxis": "x",
         "y": [
          3.6742443870185393
         ],
         "yaxis": "y"
        },
        {
         "alignmentgroup": "True",
         "customdata": [
          [
           2.7650883055617603,
           14818703
          ]
         ],
         "hoverlabel": {
          "namelength": 0
         },
         "hovertemplate": "Client_Type=%{x}<br>%=%{customdata[0]}<br>Adjusted Sales=%{customdata[1]}",
         "legendgroup": "Client_Type=Eatery",
         "marker": {
          "color": "#B6E880"
         },
         "name": "Client_Type=Eatery",
         "offsetgroup": "Client_Type=Eatery",
         "orientation": "v",
         "showlegend": true,
         "textposition": "auto",
         "type": "bar",
         "x": [
          "Eatery"
         ],
         "xaxis": "x",
         "y": [
          2.7650883055617603
         ],
         "yaxis": "y"
        },
        {
         "alignmentgroup": "True",
         "customdata": [
          [
           1.5830409568744497,
           8483857
          ]
         ],
         "hoverlabel": {
          "namelength": 0
         },
         "hovertemplate": "Client_Type=%{x}<br>%=%{customdata[0]}<br>Adjusted Sales=%{customdata[1]}",
         "legendgroup": "Client_Type=Walmart",
         "marker": {
          "color": "#FF97FF"
         },
         "name": "Client_Type=Walmart",
         "offsetgroup": "Client_Type=Walmart",
         "orientation": "v",
         "showlegend": true,
         "textposition": "auto",
         "type": "bar",
         "x": [
          "Walmart"
         ],
         "xaxis": "x",
         "y": [
          1.5830409568744497
         ],
         "yaxis": "y"
        },
        {
         "alignmentgroup": "True",
         "customdata": [
          [
           0.8705267306774084,
           4665340
          ]
         ],
         "hoverlabel": {
          "namelength": 0
         },
         "hovertemplate": "Client_Type=%{x}<br>%=%{customdata[0]}<br>Adjusted Sales=%{customdata[1]}",
         "legendgroup": "Client_Type=Hospital/Pharmacy",
         "marker": {
          "color": "#FECB52"
         },
         "name": "Client_Type=Hospital/Pharmacy",
         "offsetgroup": "Client_Type=Hospital/Pharmacy",
         "orientation": "v",
         "showlegend": true,
         "textposition": "auto",
         "type": "bar",
         "x": [
          "Hospital/Pharmacy"
         ],
         "xaxis": "x",
         "y": [
          0.8705267306774084
         ],
         "yaxis": "y"
        },
        {
         "alignmentgroup": "True",
         "customdata": [
          [
           0.5920443461953971,
           3172893
          ]
         ],
         "hoverlabel": {
          "namelength": 0
         },
         "hovertemplate": "Client_Type=%{x}<br>%=%{customdata[0]}<br>Adjusted Sales=%{customdata[1]}",
         "legendgroup": "Client_Type=School",
         "marker": {
          "color": "#636efa"
         },
         "name": "Client_Type=School",
         "offsetgroup": "Client_Type=School",
         "orientation": "v",
         "showlegend": true,
         "textposition": "auto",
         "type": "bar",
         "x": [
          "School"
         ],
         "xaxis": "x",
         "y": [
          0.5920443461953971
         ],
         "yaxis": "y"
        },
        {
         "alignmentgroup": "True",
         "customdata": [
          [
           0.1652519974426852,
           885621
          ]
         ],
         "hoverlabel": {
          "namelength": 0
         },
         "hovertemplate": "Client_Type=%{x}<br>%=%{customdata[0]}<br>Adjusted Sales=%{customdata[1]}",
         "legendgroup": "Client_Type=Post",
         "marker": {
          "color": "#EF553B"
         },
         "name": "Client_Type=Post",
         "offsetgroup": "Client_Type=Post",
         "orientation": "v",
         "showlegend": true,
         "textposition": "auto",
         "type": "bar",
         "x": [
          "Post"
         ],
         "xaxis": "x",
         "y": [
          0.1652519974426852
         ],
         "yaxis": "y"
        },
        {
         "alignmentgroup": "True",
         "customdata": [
          [
           0.11064381424063385,
           592964
          ]
         ],
         "hoverlabel": {
          "namelength": 0
         },
         "hovertemplate": "Client_Type=%{x}<br>%=%{customdata[0]}<br>Adjusted Sales=%{customdata[1]}",
         "legendgroup": "Client_Type=Govt Store",
         "marker": {
          "color": "#00cc96"
         },
         "name": "Client_Type=Govt Store",
         "offsetgroup": "Client_Type=Govt Store",
         "orientation": "v",
         "showlegend": true,
         "textposition": "auto",
         "type": "bar",
         "x": [
          "Govt Store"
         ],
         "xaxis": "x",
         "y": [
          0.11064381424063385
         ],
         "yaxis": "y"
        },
        {
         "alignmentgroup": "True",
         "customdata": [
          [
           0.10904787158104552,
           584411
          ]
         ],
         "hoverlabel": {
          "namelength": 0
         },
         "hovertemplate": "Client_Type=%{x}<br>%=%{customdata[0]}<br>Adjusted Sales=%{customdata[1]}",
         "legendgroup": "Client_Type=Hotel",
         "marker": {
          "color": "#ab63fa"
         },
         "name": "Client_Type=Hotel",
         "offsetgroup": "Client_Type=Hotel",
         "orientation": "v",
         "showlegend": true,
         "textposition": "auto",
         "type": "bar",
         "x": [
          "Hotel"
         ],
         "xaxis": "x",
         "y": [
          0.10904787158104552
         ],
         "yaxis": "y"
        },
        {
         "alignmentgroup": "True",
         "customdata": [
          [
           0.10897136784078698,
           584001
          ]
         ],
         "hoverlabel": {
          "namelength": 0
         },
         "hovertemplate": "Client_Type=%{x}<br>%=%{customdata[0]}<br>Adjusted Sales=%{customdata[1]}",
         "legendgroup": "Client_Type=Fresh Market",
         "marker": {
          "color": "#FFA15A"
         },
         "name": "Client_Type=Fresh Market",
         "offsetgroup": "Client_Type=Fresh Market",
         "orientation": "v",
         "showlegend": true,
         "textposition": "auto",
         "type": "bar",
         "x": [
          "Fresh Market"
         ],
         "xaxis": "x",
         "y": [
          0.10897136784078698
         ],
         "yaxis": "y"
        },
        {
         "alignmentgroup": "True",
         "customdata": [
          [
           0.08028153227139549,
           430246
          ]
         ],
         "hoverlabel": {
          "namelength": 0
         },
         "hovertemplate": "Client_Type=%{x}<br>%=%{customdata[0]}<br>Adjusted Sales=%{customdata[1]}",
         "legendgroup": "Client_Type=Bimbo Store",
         "marker": {
          "color": "#19d3f3"
         },
         "name": "Client_Type=Bimbo Store",
         "offsetgroup": "Client_Type=Bimbo Store",
         "orientation": "v",
         "showlegend": true,
         "textposition": "auto",
         "type": "bar",
         "x": [
          "Bimbo Store"
         ],
         "xaxis": "x",
         "y": [
          0.08028153227139549
         ],
         "yaxis": "y"
        }
       ],
       "layout": {
        "barmode": "relative",
        "height": 600,
        "legend": {
         "tracegroupgap": 0
        },
        "margin": {
         "t": 60
        },
        "template": {
         "data": {
          "bar": [
           {
            "error_x": {
             "color": "#2a3f5f"
            },
            "error_y": {
             "color": "#2a3f5f"
            },
            "marker": {
             "line": {
              "color": "#E5ECF6",
              "width": 0.5
             }
            },
            "type": "bar"
           }
          ],
          "barpolar": [
           {
            "marker": {
             "line": {
              "color": "#E5ECF6",
              "width": 0.5
             }
            },
            "type": "barpolar"
           }
          ],
          "carpet": [
           {
            "aaxis": {
             "endlinecolor": "#2a3f5f",
             "gridcolor": "white",
             "linecolor": "white",
             "minorgridcolor": "white",
             "startlinecolor": "#2a3f5f"
            },
            "baxis": {
             "endlinecolor": "#2a3f5f",
             "gridcolor": "white",
             "linecolor": "white",
             "minorgridcolor": "white",
             "startlinecolor": "#2a3f5f"
            },
            "type": "carpet"
           }
          ],
          "choropleth": [
           {
            "colorbar": {
             "outlinewidth": 0,
             "ticks": ""
            },
            "type": "choropleth"
           }
          ],
          "contour": [
           {
            "colorbar": {
             "outlinewidth": 0,
             "ticks": ""
            },
            "colorscale": [
             [
              0,
              "#0d0887"
             ],
             [
              0.1111111111111111,
              "#46039f"
             ],
             [
              0.2222222222222222,
              "#7201a8"
             ],
             [
              0.3333333333333333,
              "#9c179e"
             ],
             [
              0.4444444444444444,
              "#bd3786"
             ],
             [
              0.5555555555555556,
              "#d8576b"
             ],
             [
              0.6666666666666666,
              "#ed7953"
             ],
             [
              0.7777777777777778,
              "#fb9f3a"
             ],
             [
              0.8888888888888888,
              "#fdca26"
             ],
             [
              1,
              "#f0f921"
             ]
            ],
            "type": "contour"
           }
          ],
          "contourcarpet": [
           {
            "colorbar": {
             "outlinewidth": 0,
             "ticks": ""
            },
            "type": "contourcarpet"
           }
          ],
          "heatmap": [
           {
            "colorbar": {
             "outlinewidth": 0,
             "ticks": ""
            },
            "colorscale": [
             [
              0,
              "#0d0887"
             ],
             [
              0.1111111111111111,
              "#46039f"
             ],
             [
              0.2222222222222222,
              "#7201a8"
             ],
             [
              0.3333333333333333,
              "#9c179e"
             ],
             [
              0.4444444444444444,
              "#bd3786"
             ],
             [
              0.5555555555555556,
              "#d8576b"
             ],
             [
              0.6666666666666666,
              "#ed7953"
             ],
             [
              0.7777777777777778,
              "#fb9f3a"
             ],
             [
              0.8888888888888888,
              "#fdca26"
             ],
             [
              1,
              "#f0f921"
             ]
            ],
            "type": "heatmap"
           }
          ],
          "heatmapgl": [
           {
            "colorbar": {
             "outlinewidth": 0,
             "ticks": ""
            },
            "colorscale": [
             [
              0,
              "#0d0887"
             ],
             [
              0.1111111111111111,
              "#46039f"
             ],
             [
              0.2222222222222222,
              "#7201a8"
             ],
             [
              0.3333333333333333,
              "#9c179e"
             ],
             [
              0.4444444444444444,
              "#bd3786"
             ],
             [
              0.5555555555555556,
              "#d8576b"
             ],
             [
              0.6666666666666666,
              "#ed7953"
             ],
             [
              0.7777777777777778,
              "#fb9f3a"
             ],
             [
              0.8888888888888888,
              "#fdca26"
             ],
             [
              1,
              "#f0f921"
             ]
            ],
            "type": "heatmapgl"
           }
          ],
          "histogram": [
           {
            "marker": {
             "colorbar": {
              "outlinewidth": 0,
              "ticks": ""
             }
            },
            "type": "histogram"
           }
          ],
          "histogram2d": [
           {
            "colorbar": {
             "outlinewidth": 0,
             "ticks": ""
            },
            "colorscale": [
             [
              0,
              "#0d0887"
             ],
             [
              0.1111111111111111,
              "#46039f"
             ],
             [
              0.2222222222222222,
              "#7201a8"
             ],
             [
              0.3333333333333333,
              "#9c179e"
             ],
             [
              0.4444444444444444,
              "#bd3786"
             ],
             [
              0.5555555555555556,
              "#d8576b"
             ],
             [
              0.6666666666666666,
              "#ed7953"
             ],
             [
              0.7777777777777778,
              "#fb9f3a"
             ],
             [
              0.8888888888888888,
              "#fdca26"
             ],
             [
              1,
              "#f0f921"
             ]
            ],
            "type": "histogram2d"
           }
          ],
          "histogram2dcontour": [
           {
            "colorbar": {
             "outlinewidth": 0,
             "ticks": ""
            },
            "colorscale": [
             [
              0,
              "#0d0887"
             ],
             [
              0.1111111111111111,
              "#46039f"
             ],
             [
              0.2222222222222222,
              "#7201a8"
             ],
             [
              0.3333333333333333,
              "#9c179e"
             ],
             [
              0.4444444444444444,
              "#bd3786"
             ],
             [
              0.5555555555555556,
              "#d8576b"
             ],
             [
              0.6666666666666666,
              "#ed7953"
             ],
             [
              0.7777777777777778,
              "#fb9f3a"
             ],
             [
              0.8888888888888888,
              "#fdca26"
             ],
             [
              1,
              "#f0f921"
             ]
            ],
            "type": "histogram2dcontour"
           }
          ],
          "mesh3d": [
           {
            "colorbar": {
             "outlinewidth": 0,
             "ticks": ""
            },
            "type": "mesh3d"
           }
          ],
          "parcoords": [
           {
            "line": {
             "colorbar": {
              "outlinewidth": 0,
              "ticks": ""
             }
            },
            "type": "parcoords"
           }
          ],
          "scatter": [
           {
            "marker": {
             "colorbar": {
              "outlinewidth": 0,
              "ticks": ""
             }
            },
            "type": "scatter"
           }
          ],
          "scatter3d": [
           {
            "line": {
             "colorbar": {
              "outlinewidth": 0,
              "ticks": ""
             }
            },
            "marker": {
             "colorbar": {
              "outlinewidth": 0,
              "ticks": ""
             }
            },
            "type": "scatter3d"
           }
          ],
          "scattercarpet": [
           {
            "marker": {
             "colorbar": {
              "outlinewidth": 0,
              "ticks": ""
             }
            },
            "type": "scattercarpet"
           }
          ],
          "scattergeo": [
           {
            "marker": {
             "colorbar": {
              "outlinewidth": 0,
              "ticks": ""
             }
            },
            "type": "scattergeo"
           }
          ],
          "scattergl": [
           {
            "marker": {
             "colorbar": {
              "outlinewidth": 0,
              "ticks": ""
             }
            },
            "type": "scattergl"
           }
          ],
          "scattermapbox": [
           {
            "marker": {
             "colorbar": {
              "outlinewidth": 0,
              "ticks": ""
             }
            },
            "type": "scattermapbox"
           }
          ],
          "scatterpolar": [
           {
            "marker": {
             "colorbar": {
              "outlinewidth": 0,
              "ticks": ""
             }
            },
            "type": "scatterpolar"
           }
          ],
          "scatterpolargl": [
           {
            "marker": {
             "colorbar": {
              "outlinewidth": 0,
              "ticks": ""
             }
            },
            "type": "scatterpolargl"
           }
          ],
          "scatterternary": [
           {
            "marker": {
             "colorbar": {
              "outlinewidth": 0,
              "ticks": ""
             }
            },
            "type": "scatterternary"
           }
          ],
          "surface": [
           {
            "colorbar": {
             "outlinewidth": 0,
             "ticks": ""
            },
            "colorscale": [
             [
              0,
              "#0d0887"
             ],
             [
              0.1111111111111111,
              "#46039f"
             ],
             [
              0.2222222222222222,
              "#7201a8"
             ],
             [
              0.3333333333333333,
              "#9c179e"
             ],
             [
              0.4444444444444444,
              "#bd3786"
             ],
             [
              0.5555555555555556,
              "#d8576b"
             ],
             [
              0.6666666666666666,
              "#ed7953"
             ],
             [
              0.7777777777777778,
              "#fb9f3a"
             ],
             [
              0.8888888888888888,
              "#fdca26"
             ],
             [
              1,
              "#f0f921"
             ]
            ],
            "type": "surface"
           }
          ],
          "table": [
           {
            "cells": {
             "fill": {
              "color": "#EBF0F8"
             },
             "line": {
              "color": "white"
             }
            },
            "header": {
             "fill": {
              "color": "#C8D4E3"
             },
             "line": {
              "color": "white"
             }
            },
            "type": "table"
           }
          ]
         },
         "layout": {
          "annotationdefaults": {
           "arrowcolor": "#2a3f5f",
           "arrowhead": 0,
           "arrowwidth": 1
          },
          "colorscale": {
           "diverging": [
            [
             0,
             "#8e0152"
            ],
            [
             0.1,
             "#c51b7d"
            ],
            [
             0.2,
             "#de77ae"
            ],
            [
             0.3,
             "#f1b6da"
            ],
            [
             0.4,
             "#fde0ef"
            ],
            [
             0.5,
             "#f7f7f7"
            ],
            [
             0.6,
             "#e6f5d0"
            ],
            [
             0.7,
             "#b8e186"
            ],
            [
             0.8,
             "#7fbc41"
            ],
            [
             0.9,
             "#4d9221"
            ],
            [
             1,
             "#276419"
            ]
           ],
           "sequential": [
            [
             0,
             "#0d0887"
            ],
            [
             0.1111111111111111,
             "#46039f"
            ],
            [
             0.2222222222222222,
             "#7201a8"
            ],
            [
             0.3333333333333333,
             "#9c179e"
            ],
            [
             0.4444444444444444,
             "#bd3786"
            ],
            [
             0.5555555555555556,
             "#d8576b"
            ],
            [
             0.6666666666666666,
             "#ed7953"
            ],
            [
             0.7777777777777778,
             "#fb9f3a"
            ],
            [
             0.8888888888888888,
             "#fdca26"
            ],
            [
             1,
             "#f0f921"
            ]
           ],
           "sequentialminus": [
            [
             0,
             "#0d0887"
            ],
            [
             0.1111111111111111,
             "#46039f"
            ],
            [
             0.2222222222222222,
             "#7201a8"
            ],
            [
             0.3333333333333333,
             "#9c179e"
            ],
            [
             0.4444444444444444,
             "#bd3786"
            ],
            [
             0.5555555555555556,
             "#d8576b"
            ],
            [
             0.6666666666666666,
             "#ed7953"
            ],
            [
             0.7777777777777778,
             "#fb9f3a"
            ],
            [
             0.8888888888888888,
             "#fdca26"
            ],
            [
             1,
             "#f0f921"
            ]
           ]
          },
          "colorway": [
           "#636efa",
           "#EF553B",
           "#00cc96",
           "#ab63fa",
           "#FFA15A",
           "#19d3f3",
           "#FF6692",
           "#B6E880",
           "#FF97FF",
           "#FECB52"
          ],
          "font": {
           "color": "#2a3f5f"
          },
          "geo": {
           "bgcolor": "white",
           "lakecolor": "white",
           "landcolor": "#E5ECF6",
           "showlakes": true,
           "showland": true,
           "subunitcolor": "white"
          },
          "hoverlabel": {
           "align": "left"
          },
          "hovermode": "closest",
          "mapbox": {
           "style": "light"
          },
          "paper_bgcolor": "white",
          "plot_bgcolor": "#E5ECF6",
          "polar": {
           "angularaxis": {
            "gridcolor": "white",
            "linecolor": "white",
            "ticks": ""
           },
           "bgcolor": "#E5ECF6",
           "radialaxis": {
            "gridcolor": "white",
            "linecolor": "white",
            "ticks": ""
           }
          },
          "scene": {
           "xaxis": {
            "backgroundcolor": "#E5ECF6",
            "gridcolor": "white",
            "gridwidth": 2,
            "linecolor": "white",
            "showbackground": true,
            "ticks": "",
            "zerolinecolor": "white"
           },
           "yaxis": {
            "backgroundcolor": "#E5ECF6",
            "gridcolor": "white",
            "gridwidth": 2,
            "linecolor": "white",
            "showbackground": true,
            "ticks": "",
            "zerolinecolor": "white"
           },
           "zaxis": {
            "backgroundcolor": "#E5ECF6",
            "gridcolor": "white",
            "gridwidth": 2,
            "linecolor": "white",
            "showbackground": true,
            "ticks": "",
            "zerolinecolor": "white"
           }
          },
          "shapedefaults": {
           "line": {
            "color": "#2a3f5f"
           }
          },
          "ternary": {
           "aaxis": {
            "gridcolor": "white",
            "linecolor": "white",
            "ticks": ""
           },
           "baxis": {
            "gridcolor": "white",
            "linecolor": "white",
            "ticks": ""
           },
           "bgcolor": "#E5ECF6",
           "caxis": {
            "gridcolor": "white",
            "linecolor": "white",
            "ticks": ""
           }
          },
          "title": {
           "x": 0.05
          },
          "xaxis": {
           "automargin": true,
           "gridcolor": "white",
           "linecolor": "white",
           "ticks": "",
           "zerolinecolor": "white",
           "zerolinewidth": 2
          },
          "yaxis": {
           "automargin": true,
           "gridcolor": "white",
           "linecolor": "white",
           "ticks": "",
           "zerolinecolor": "white",
           "zerolinewidth": 2
          }
         }
        },
        "xaxis": {
         "anchor": "y",
         "categoryarray": [
          "Individual",
          "Small Franchise",
          "NO IDENTIFICADO",
          "General Market/Mart",
          "Oxxo Store",
          "Supermarket",
          "Consignment",
          "Eatery",
          "Walmart",
          "Hospital/Pharmacy",
          "School",
          "Post",
          "Govt Store",
          "Hotel",
          "Fresh Market",
          "Bimbo Store"
         ],
         "categoryorder": "array",
         "domain": [
          0,
          0.98
         ],
         "title": {
          "text": "Client_Type"
         }
        },
        "yaxis": {
         "anchor": "x",
         "domain": [
          0,
          1
         ],
         "title": {
          "text": "%"
         }
        }
       }
      },
      "text/html": [
       "<div>\n",
       "        \n",
       "        \n",
       "            <div id=\"263f8b4f-17a7-4cd2-95f8-0e3cc00e2e64\" class=\"plotly-graph-div\" style=\"height:600px; width:100%;\"></div>\n",
       "            <script type=\"text/javascript\">\n",
       "                require([\"plotly\"], function(Plotly) {\n",
       "                    window.PLOTLYENV=window.PLOTLYENV || {};\n",
       "                    \n",
       "                if (document.getElementById(\"263f8b4f-17a7-4cd2-95f8-0e3cc00e2e64\")) {\n",
       "                    Plotly.newPlot(\n",
       "                        '263f8b4f-17a7-4cd2-95f8-0e3cc00e2e64',\n",
       "                        [{\"alignmentgroup\": \"True\", \"customdata\": [[35.73840131925289, 191529780.0]], \"hoverlabel\": {\"namelength\": 0}, \"hovertemplate\": \"Client_Type=%{x}<br>%=%{customdata[0]}<br>Adjusted Sales=%{customdata[1]}\", \"legendgroup\": \"Client_Type=Individual\", \"marker\": {\"color\": \"#636efa\"}, \"name\": \"Client_Type=Individual\", \"offsetgroup\": \"Client_Type=Individual\", \"orientation\": \"v\", \"showlegend\": true, \"textposition\": \"auto\", \"type\": \"bar\", \"x\": [\"Individual\"], \"xaxis\": \"x\", \"y\": [35.73840131925289], \"yaxis\": \"y\"}, {\"alignmentgroup\": \"True\", \"customdata\": [[18.780750001991898, 100650079.0]], \"hoverlabel\": {\"namelength\": 0}, \"hovertemplate\": \"Client_Type=%{x}<br>%=%{customdata[0]}<br>Adjusted Sales=%{customdata[1]}\", \"legendgroup\": \"Client_Type=Small Franchise\", \"marker\": {\"color\": \"#EF553B\"}, \"name\": \"Client_Type=Small Franchise\", \"offsetgroup\": \"Client_Type=Small Franchise\", \"orientation\": \"v\", \"showlegend\": true, \"textposition\": \"auto\", \"type\": \"bar\", \"x\": [\"Small Franchise\"], \"xaxis\": \"x\", \"y\": [18.780750001991898], \"yaxis\": \"y\"}, {\"alignmentgroup\": \"True\", \"customdata\": [[15.447151953277636, 82784610.0]], \"hoverlabel\": {\"namelength\": 0}, \"hovertemplate\": \"Client_Type=%{x}<br>%=%{customdata[0]}<br>Adjusted Sales=%{customdata[1]}\", \"legendgroup\": \"Client_Type=NO IDENTIFICADO\", \"marker\": {\"color\": \"#00cc96\"}, \"name\": \"Client_Type=NO IDENTIFICADO\", \"offsetgroup\": \"Client_Type=NO IDENTIFICADO\", \"orientation\": \"v\", \"showlegend\": true, \"textposition\": \"auto\", \"type\": \"bar\", \"x\": [\"NO IDENTIFICADO\"], \"xaxis\": \"x\", \"y\": [15.447151953277636], \"yaxis\": \"y\"}, {\"alignmentgroup\": \"True\", \"customdata\": [[10.43769916979074, 55937875.0]], \"hoverlabel\": {\"namelength\": 0}, \"hovertemplate\": \"Client_Type=%{x}<br>%=%{customdata[0]}<br>Adjusted Sales=%{customdata[1]}\", \"legendgroup\": \"Client_Type=General Market/Mart\", \"marker\": {\"color\": \"#ab63fa\"}, \"name\": \"Client_Type=General Market/Mart\", \"offsetgroup\": \"Client_Type=General Market/Mart\", \"orientation\": \"v\", \"showlegend\": true, \"textposition\": \"auto\", \"type\": \"bar\", \"x\": [\"General Market/Mart\"], \"xaxis\": \"x\", \"y\": [10.43769916979074], \"yaxis\": \"y\"}, {\"alignmentgroup\": \"True\", \"customdata\": [[4.985819845148593, 26720081.0]], \"hoverlabel\": {\"namelength\": 0}, \"hovertemplate\": \"Client_Type=%{x}<br>%=%{customdata[0]}<br>Adjusted Sales=%{customdata[1]}\", \"legendgroup\": \"Client_Type=Oxxo Store\", \"marker\": {\"color\": \"#FFA15A\"}, \"name\": \"Client_Type=Oxxo Store\", \"offsetgroup\": \"Client_Type=Oxxo Store\", \"orientation\": \"v\", \"showlegend\": true, \"textposition\": \"auto\", \"type\": \"bar\", \"x\": [\"Oxxo Store\"], \"xaxis\": \"x\", \"y\": [4.985819845148593], \"yaxis\": \"y\"}, {\"alignmentgroup\": \"True\", \"customdata\": [[4.551036400834144, 24389983.0]], \"hoverlabel\": {\"namelength\": 0}, \"hovertemplate\": \"Client_Type=%{x}<br>%=%{customdata[0]}<br>Adjusted Sales=%{customdata[1]}\", \"legendgroup\": \"Client_Type=Supermarket\", \"marker\": {\"color\": \"#19d3f3\"}, \"name\": \"Client_Type=Supermarket\", \"offsetgroup\": \"Client_Type=Supermarket\", \"orientation\": \"v\", \"showlegend\": true, \"textposition\": \"auto\", \"type\": \"bar\", \"x\": [\"Supermarket\"], \"xaxis\": \"x\", \"y\": [4.551036400834144], \"yaxis\": \"y\"}, {\"alignmentgroup\": \"True\", \"customdata\": [[3.6742443870185393, 19691066.0]], \"hoverlabel\": {\"namelength\": 0}, \"hovertemplate\": \"Client_Type=%{x}<br>%=%{customdata[0]}<br>Adjusted Sales=%{customdata[1]}\", \"legendgroup\": \"Client_Type=Consignment\", \"marker\": {\"color\": \"#FF6692\"}, \"name\": \"Client_Type=Consignment\", \"offsetgroup\": \"Client_Type=Consignment\", \"orientation\": \"v\", \"showlegend\": true, \"textposition\": \"auto\", \"type\": \"bar\", \"x\": [\"Consignment\"], \"xaxis\": \"x\", \"y\": [3.6742443870185393], \"yaxis\": \"y\"}, {\"alignmentgroup\": \"True\", \"customdata\": [[2.7650883055617603, 14818703.0]], \"hoverlabel\": {\"namelength\": 0}, \"hovertemplate\": \"Client_Type=%{x}<br>%=%{customdata[0]}<br>Adjusted Sales=%{customdata[1]}\", \"legendgroup\": \"Client_Type=Eatery\", \"marker\": {\"color\": \"#B6E880\"}, \"name\": \"Client_Type=Eatery\", \"offsetgroup\": \"Client_Type=Eatery\", \"orientation\": \"v\", \"showlegend\": true, \"textposition\": \"auto\", \"type\": \"bar\", \"x\": [\"Eatery\"], \"xaxis\": \"x\", \"y\": [2.7650883055617603], \"yaxis\": \"y\"}, {\"alignmentgroup\": \"True\", \"customdata\": [[1.5830409568744497, 8483857.0]], \"hoverlabel\": {\"namelength\": 0}, \"hovertemplate\": \"Client_Type=%{x}<br>%=%{customdata[0]}<br>Adjusted Sales=%{customdata[1]}\", \"legendgroup\": \"Client_Type=Walmart\", \"marker\": {\"color\": \"#FF97FF\"}, \"name\": \"Client_Type=Walmart\", \"offsetgroup\": \"Client_Type=Walmart\", \"orientation\": \"v\", \"showlegend\": true, \"textposition\": \"auto\", \"type\": \"bar\", \"x\": [\"Walmart\"], \"xaxis\": \"x\", \"y\": [1.5830409568744497], \"yaxis\": \"y\"}, {\"alignmentgroup\": \"True\", \"customdata\": [[0.8705267306774084, 4665340.0]], \"hoverlabel\": {\"namelength\": 0}, \"hovertemplate\": \"Client_Type=%{x}<br>%=%{customdata[0]}<br>Adjusted Sales=%{customdata[1]}\", \"legendgroup\": \"Client_Type=Hospital/Pharmacy\", \"marker\": {\"color\": \"#FECB52\"}, \"name\": \"Client_Type=Hospital/Pharmacy\", \"offsetgroup\": \"Client_Type=Hospital/Pharmacy\", \"orientation\": \"v\", \"showlegend\": true, \"textposition\": \"auto\", \"type\": \"bar\", \"x\": [\"Hospital/Pharmacy\"], \"xaxis\": \"x\", \"y\": [0.8705267306774084], \"yaxis\": \"y\"}, {\"alignmentgroup\": \"True\", \"customdata\": [[0.5920443461953971, 3172893.0]], \"hoverlabel\": {\"namelength\": 0}, \"hovertemplate\": \"Client_Type=%{x}<br>%=%{customdata[0]}<br>Adjusted Sales=%{customdata[1]}\", \"legendgroup\": \"Client_Type=School\", \"marker\": {\"color\": \"#636efa\"}, \"name\": \"Client_Type=School\", \"offsetgroup\": \"Client_Type=School\", \"orientation\": \"v\", \"showlegend\": true, \"textposition\": \"auto\", \"type\": \"bar\", \"x\": [\"School\"], \"xaxis\": \"x\", \"y\": [0.5920443461953971], \"yaxis\": \"y\"}, {\"alignmentgroup\": \"True\", \"customdata\": [[0.1652519974426852, 885621.0]], \"hoverlabel\": {\"namelength\": 0}, \"hovertemplate\": \"Client_Type=%{x}<br>%=%{customdata[0]}<br>Adjusted Sales=%{customdata[1]}\", \"legendgroup\": \"Client_Type=Post\", \"marker\": {\"color\": \"#EF553B\"}, \"name\": \"Client_Type=Post\", \"offsetgroup\": \"Client_Type=Post\", \"orientation\": \"v\", \"showlegend\": true, \"textposition\": \"auto\", \"type\": \"bar\", \"x\": [\"Post\"], \"xaxis\": \"x\", \"y\": [0.1652519974426852], \"yaxis\": \"y\"}, {\"alignmentgroup\": \"True\", \"customdata\": [[0.11064381424063385, 592964.0]], \"hoverlabel\": {\"namelength\": 0}, \"hovertemplate\": \"Client_Type=%{x}<br>%=%{customdata[0]}<br>Adjusted Sales=%{customdata[1]}\", \"legendgroup\": \"Client_Type=Govt Store\", \"marker\": {\"color\": \"#00cc96\"}, \"name\": \"Client_Type=Govt Store\", \"offsetgroup\": \"Client_Type=Govt Store\", \"orientation\": \"v\", \"showlegend\": true, \"textposition\": \"auto\", \"type\": \"bar\", \"x\": [\"Govt Store\"], \"xaxis\": \"x\", \"y\": [0.11064381424063385], \"yaxis\": \"y\"}, {\"alignmentgroup\": \"True\", \"customdata\": [[0.10904787158104552, 584411.0]], \"hoverlabel\": {\"namelength\": 0}, \"hovertemplate\": \"Client_Type=%{x}<br>%=%{customdata[0]}<br>Adjusted Sales=%{customdata[1]}\", \"legendgroup\": \"Client_Type=Hotel\", \"marker\": {\"color\": \"#ab63fa\"}, \"name\": \"Client_Type=Hotel\", \"offsetgroup\": \"Client_Type=Hotel\", \"orientation\": \"v\", \"showlegend\": true, \"textposition\": \"auto\", \"type\": \"bar\", \"x\": [\"Hotel\"], \"xaxis\": \"x\", \"y\": [0.10904787158104552], \"yaxis\": \"y\"}, {\"alignmentgroup\": \"True\", \"customdata\": [[0.10897136784078698, 584001.0]], \"hoverlabel\": {\"namelength\": 0}, \"hovertemplate\": \"Client_Type=%{x}<br>%=%{customdata[0]}<br>Adjusted Sales=%{customdata[1]}\", \"legendgroup\": \"Client_Type=Fresh Market\", \"marker\": {\"color\": \"#FFA15A\"}, \"name\": \"Client_Type=Fresh Market\", \"offsetgroup\": \"Client_Type=Fresh Market\", \"orientation\": \"v\", \"showlegend\": true, \"textposition\": \"auto\", \"type\": \"bar\", \"x\": [\"Fresh Market\"], \"xaxis\": \"x\", \"y\": [0.10897136784078698], \"yaxis\": \"y\"}, {\"alignmentgroup\": \"True\", \"customdata\": [[0.08028153227139549, 430246.0]], \"hoverlabel\": {\"namelength\": 0}, \"hovertemplate\": \"Client_Type=%{x}<br>%=%{customdata[0]}<br>Adjusted Sales=%{customdata[1]}\", \"legendgroup\": \"Client_Type=Bimbo Store\", \"marker\": {\"color\": \"#19d3f3\"}, \"name\": \"Client_Type=Bimbo Store\", \"offsetgroup\": \"Client_Type=Bimbo Store\", \"orientation\": \"v\", \"showlegend\": true, \"textposition\": \"auto\", \"type\": \"bar\", \"x\": [\"Bimbo Store\"], \"xaxis\": \"x\", \"y\": [0.08028153227139549], \"yaxis\": \"y\"}],\n",
       "                        {\"barmode\": \"relative\", \"height\": 600, \"legend\": {\"tracegroupgap\": 0}, \"margin\": {\"t\": 60}, \"template\": {\"data\": {\"bar\": [{\"error_x\": {\"color\": \"#2a3f5f\"}, \"error_y\": {\"color\": \"#2a3f5f\"}, \"marker\": {\"line\": {\"color\": \"#E5ECF6\", \"width\": 0.5}}, \"type\": \"bar\"}], \"barpolar\": [{\"marker\": {\"line\": {\"color\": \"#E5ECF6\", \"width\": 0.5}}, \"type\": \"barpolar\"}], \"carpet\": [{\"aaxis\": {\"endlinecolor\": \"#2a3f5f\", \"gridcolor\": \"white\", \"linecolor\": \"white\", \"minorgridcolor\": \"white\", \"startlinecolor\": \"#2a3f5f\"}, \"baxis\": {\"endlinecolor\": \"#2a3f5f\", \"gridcolor\": \"white\", \"linecolor\": \"white\", \"minorgridcolor\": \"white\", \"startlinecolor\": \"#2a3f5f\"}, \"type\": \"carpet\"}], \"choropleth\": [{\"colorbar\": {\"outlinewidth\": 0, \"ticks\": \"\"}, \"type\": \"choropleth\"}], \"contour\": [{\"colorbar\": {\"outlinewidth\": 0, \"ticks\": \"\"}, \"colorscale\": [[0.0, \"#0d0887\"], [0.1111111111111111, \"#46039f\"], [0.2222222222222222, \"#7201a8\"], [0.3333333333333333, \"#9c179e\"], [0.4444444444444444, \"#bd3786\"], [0.5555555555555556, \"#d8576b\"], [0.6666666666666666, \"#ed7953\"], [0.7777777777777778, \"#fb9f3a\"], [0.8888888888888888, \"#fdca26\"], [1.0, \"#f0f921\"]], \"type\": \"contour\"}], \"contourcarpet\": [{\"colorbar\": {\"outlinewidth\": 0, \"ticks\": \"\"}, \"type\": \"contourcarpet\"}], \"heatmap\": [{\"colorbar\": {\"outlinewidth\": 0, \"ticks\": \"\"}, \"colorscale\": [[0.0, \"#0d0887\"], [0.1111111111111111, \"#46039f\"], [0.2222222222222222, \"#7201a8\"], [0.3333333333333333, \"#9c179e\"], [0.4444444444444444, \"#bd3786\"], [0.5555555555555556, \"#d8576b\"], [0.6666666666666666, \"#ed7953\"], [0.7777777777777778, \"#fb9f3a\"], [0.8888888888888888, \"#fdca26\"], [1.0, \"#f0f921\"]], \"type\": \"heatmap\"}], \"heatmapgl\": [{\"colorbar\": {\"outlinewidth\": 0, \"ticks\": \"\"}, \"colorscale\": [[0.0, \"#0d0887\"], [0.1111111111111111, \"#46039f\"], [0.2222222222222222, \"#7201a8\"], [0.3333333333333333, \"#9c179e\"], [0.4444444444444444, \"#bd3786\"], [0.5555555555555556, \"#d8576b\"], [0.6666666666666666, \"#ed7953\"], [0.7777777777777778, \"#fb9f3a\"], [0.8888888888888888, \"#fdca26\"], [1.0, \"#f0f921\"]], \"type\": \"heatmapgl\"}], \"histogram\": [{\"marker\": {\"colorbar\": {\"outlinewidth\": 0, \"ticks\": \"\"}}, \"type\": \"histogram\"}], \"histogram2d\": [{\"colorbar\": {\"outlinewidth\": 0, \"ticks\": \"\"}, \"colorscale\": [[0.0, \"#0d0887\"], [0.1111111111111111, \"#46039f\"], [0.2222222222222222, \"#7201a8\"], [0.3333333333333333, \"#9c179e\"], [0.4444444444444444, \"#bd3786\"], [0.5555555555555556, \"#d8576b\"], [0.6666666666666666, \"#ed7953\"], [0.7777777777777778, \"#fb9f3a\"], [0.8888888888888888, \"#fdca26\"], [1.0, \"#f0f921\"]], \"type\": \"histogram2d\"}], \"histogram2dcontour\": [{\"colorbar\": {\"outlinewidth\": 0, \"ticks\": \"\"}, \"colorscale\": [[0.0, \"#0d0887\"], [0.1111111111111111, \"#46039f\"], [0.2222222222222222, \"#7201a8\"], [0.3333333333333333, \"#9c179e\"], [0.4444444444444444, \"#bd3786\"], [0.5555555555555556, \"#d8576b\"], [0.6666666666666666, \"#ed7953\"], [0.7777777777777778, \"#fb9f3a\"], [0.8888888888888888, \"#fdca26\"], [1.0, \"#f0f921\"]], \"type\": \"histogram2dcontour\"}], \"mesh3d\": [{\"colorbar\": {\"outlinewidth\": 0, \"ticks\": \"\"}, \"type\": \"mesh3d\"}], \"parcoords\": [{\"line\": {\"colorbar\": {\"outlinewidth\": 0, \"ticks\": \"\"}}, \"type\": \"parcoords\"}], \"scatter\": [{\"marker\": {\"colorbar\": {\"outlinewidth\": 0, \"ticks\": \"\"}}, \"type\": \"scatter\"}], \"scatter3d\": [{\"line\": {\"colorbar\": {\"outlinewidth\": 0, \"ticks\": \"\"}}, \"marker\": {\"colorbar\": {\"outlinewidth\": 0, \"ticks\": \"\"}}, \"type\": \"scatter3d\"}], \"scattercarpet\": [{\"marker\": {\"colorbar\": {\"outlinewidth\": 0, \"ticks\": \"\"}}, \"type\": \"scattercarpet\"}], \"scattergeo\": [{\"marker\": {\"colorbar\": {\"outlinewidth\": 0, \"ticks\": \"\"}}, \"type\": \"scattergeo\"}], \"scattergl\": [{\"marker\": {\"colorbar\": {\"outlinewidth\": 0, \"ticks\": \"\"}}, \"type\": \"scattergl\"}], \"scattermapbox\": [{\"marker\": {\"colorbar\": {\"outlinewidth\": 0, \"ticks\": \"\"}}, \"type\": \"scattermapbox\"}], \"scatterpolar\": [{\"marker\": {\"colorbar\": {\"outlinewidth\": 0, \"ticks\": \"\"}}, \"type\": \"scatterpolar\"}], \"scatterpolargl\": [{\"marker\": {\"colorbar\": {\"outlinewidth\": 0, \"ticks\": \"\"}}, \"type\": \"scatterpolargl\"}], \"scatterternary\": [{\"marker\": {\"colorbar\": {\"outlinewidth\": 0, \"ticks\": \"\"}}, \"type\": \"scatterternary\"}], \"surface\": [{\"colorbar\": {\"outlinewidth\": 0, \"ticks\": \"\"}, \"colorscale\": [[0.0, \"#0d0887\"], [0.1111111111111111, \"#46039f\"], [0.2222222222222222, \"#7201a8\"], [0.3333333333333333, \"#9c179e\"], [0.4444444444444444, \"#bd3786\"], [0.5555555555555556, \"#d8576b\"], [0.6666666666666666, \"#ed7953\"], [0.7777777777777778, \"#fb9f3a\"], [0.8888888888888888, \"#fdca26\"], [1.0, \"#f0f921\"]], \"type\": \"surface\"}], \"table\": [{\"cells\": {\"fill\": {\"color\": \"#EBF0F8\"}, \"line\": {\"color\": \"white\"}}, \"header\": {\"fill\": {\"color\": \"#C8D4E3\"}, \"line\": {\"color\": \"white\"}}, \"type\": \"table\"}]}, \"layout\": {\"annotationdefaults\": {\"arrowcolor\": \"#2a3f5f\", \"arrowhead\": 0, \"arrowwidth\": 1}, \"colorscale\": {\"diverging\": [[0, \"#8e0152\"], [0.1, \"#c51b7d\"], [0.2, \"#de77ae\"], [0.3, \"#f1b6da\"], [0.4, \"#fde0ef\"], [0.5, \"#f7f7f7\"], [0.6, \"#e6f5d0\"], [0.7, \"#b8e186\"], [0.8, \"#7fbc41\"], [0.9, \"#4d9221\"], [1, \"#276419\"]], \"sequential\": [[0.0, \"#0d0887\"], [0.1111111111111111, \"#46039f\"], [0.2222222222222222, \"#7201a8\"], [0.3333333333333333, \"#9c179e\"], [0.4444444444444444, \"#bd3786\"], [0.5555555555555556, \"#d8576b\"], [0.6666666666666666, \"#ed7953\"], [0.7777777777777778, \"#fb9f3a\"], [0.8888888888888888, \"#fdca26\"], [1.0, \"#f0f921\"]], \"sequentialminus\": [[0.0, \"#0d0887\"], [0.1111111111111111, \"#46039f\"], [0.2222222222222222, \"#7201a8\"], [0.3333333333333333, \"#9c179e\"], [0.4444444444444444, \"#bd3786\"], [0.5555555555555556, \"#d8576b\"], [0.6666666666666666, \"#ed7953\"], [0.7777777777777778, \"#fb9f3a\"], [0.8888888888888888, \"#fdca26\"], [1.0, \"#f0f921\"]]}, \"colorway\": [\"#636efa\", \"#EF553B\", \"#00cc96\", \"#ab63fa\", \"#FFA15A\", \"#19d3f3\", \"#FF6692\", \"#B6E880\", \"#FF97FF\", \"#FECB52\"], \"font\": {\"color\": \"#2a3f5f\"}, \"geo\": {\"bgcolor\": \"white\", \"lakecolor\": \"white\", \"landcolor\": \"#E5ECF6\", \"showlakes\": true, \"showland\": true, \"subunitcolor\": \"white\"}, \"hoverlabel\": {\"align\": \"left\"}, \"hovermode\": \"closest\", \"mapbox\": {\"style\": \"light\"}, \"paper_bgcolor\": \"white\", \"plot_bgcolor\": \"#E5ECF6\", \"polar\": {\"angularaxis\": {\"gridcolor\": \"white\", \"linecolor\": \"white\", \"ticks\": \"\"}, \"bgcolor\": \"#E5ECF6\", \"radialaxis\": {\"gridcolor\": \"white\", \"linecolor\": \"white\", \"ticks\": \"\"}}, \"scene\": {\"xaxis\": {\"backgroundcolor\": \"#E5ECF6\", \"gridcolor\": \"white\", \"gridwidth\": 2, \"linecolor\": \"white\", \"showbackground\": true, \"ticks\": \"\", \"zerolinecolor\": \"white\"}, \"yaxis\": {\"backgroundcolor\": \"#E5ECF6\", \"gridcolor\": \"white\", \"gridwidth\": 2, \"linecolor\": \"white\", \"showbackground\": true, \"ticks\": \"\", \"zerolinecolor\": \"white\"}, \"zaxis\": {\"backgroundcolor\": \"#E5ECF6\", \"gridcolor\": \"white\", \"gridwidth\": 2, \"linecolor\": \"white\", \"showbackground\": true, \"ticks\": \"\", \"zerolinecolor\": \"white\"}}, \"shapedefaults\": {\"line\": {\"color\": \"#2a3f5f\"}}, \"ternary\": {\"aaxis\": {\"gridcolor\": \"white\", \"linecolor\": \"white\", \"ticks\": \"\"}, \"baxis\": {\"gridcolor\": \"white\", \"linecolor\": \"white\", \"ticks\": \"\"}, \"bgcolor\": \"#E5ECF6\", \"caxis\": {\"gridcolor\": \"white\", \"linecolor\": \"white\", \"ticks\": \"\"}}, \"title\": {\"x\": 0.05}, \"xaxis\": {\"automargin\": true, \"gridcolor\": \"white\", \"linecolor\": \"white\", \"ticks\": \"\", \"zerolinecolor\": \"white\", \"zerolinewidth\": 2}, \"yaxis\": {\"automargin\": true, \"gridcolor\": \"white\", \"linecolor\": \"white\", \"ticks\": \"\", \"zerolinecolor\": \"white\", \"zerolinewidth\": 2}}}, \"xaxis\": {\"anchor\": \"y\", \"categoryarray\": [\"Individual\", \"Small Franchise\", \"NO IDENTIFICADO\", \"General Market/Mart\", \"Oxxo Store\", \"Supermarket\", \"Consignment\", \"Eatery\", \"Walmart\", \"Hospital/Pharmacy\", \"School\", \"Post\", \"Govt Store\", \"Hotel\", \"Fresh Market\", \"Bimbo Store\"], \"categoryorder\": \"array\", \"domain\": [0.0, 0.98], \"title\": {\"text\": \"Client_Type\"}}, \"yaxis\": {\"anchor\": \"x\", \"domain\": [0.0, 1.0], \"title\": {\"text\": \"%\"}}},\n",
       "                        {\"responsive\": true}\n",
       "                    ).then(function(){\n",
       "                            \n",
       "var gd = document.getElementById('263f8b4f-17a7-4cd2-95f8-0e3cc00e2e64');\n",
       "var x = new MutationObserver(function (mutations, observer) {{\n",
       "        var display = window.getComputedStyle(gd).display;\n",
       "        if (!display || display === 'none') {{\n",
       "            console.log([gd, 'removed!']);\n",
       "            Plotly.purge(gd);\n",
       "            observer.disconnect();\n",
       "        }}\n",
       "}});\n",
       "\n",
       "// Listen for the removal of the full notebook cells\n",
       "var notebookContainer = gd.closest('#notebook-container');\n",
       "if (notebookContainer) {{\n",
       "    x.observe(notebookContainer, {childList: true});\n",
       "}}\n",
       "\n",
       "// Listen for the clearing of the current output cell\n",
       "var outputEl = gd.closest('.output');\n",
       "if (outputEl) {{\n",
       "    x.observe(outputEl, {childList: true});\n",
       "}}\n",
       "\n",
       "                        })\n",
       "                };\n",
       "                });\n",
       "            </script>\n",
       "        </div>"
      ]
     },
     "metadata": {},
     "output_type": "display_data"
    }
   ],
   "source": [
    "\n",
    "\n",
    "import plotly.express as px\n",
    "\n",
    "fig = px.bar(best_selling_types, x='Client_Type', y='%',\n",
    "             hover_data=['%', 'Adjusted Sales'], color='Client_Type')\n",
    "\n",
    "fig.show()"
   ]
  },
  {
   "cell_type": "code",
   "execution_count": 53,
   "metadata": {},
   "outputs": [
    {
     "data": {
      "text/html": [
       "<div>\n",
       "<style scoped>\n",
       "    .dataframe tbody tr th:only-of-type {\n",
       "        vertical-align: middle;\n",
       "    }\n",
       "\n",
       "    .dataframe tbody tr th {\n",
       "        vertical-align: top;\n",
       "    }\n",
       "\n",
       "    .dataframe thead th {\n",
       "        text-align: right;\n",
       "    }\n",
       "</style>\n",
       "<table border=\"1\" class=\"dataframe\">\n",
       "  <thead>\n",
       "    <tr style=\"text-align: right;\">\n",
       "      <th></th>\n",
       "      <th>Producto_ID</th>\n",
       "      <th>NombreProducto</th>\n",
       "      <th>short_product_name</th>\n",
       "      <th>pieces</th>\n",
       "      <th>weight</th>\n",
       "      <th>brand</th>\n",
       "      <th>weight_per_piece</th>\n",
       "    </tr>\n",
       "  </thead>\n",
       "  <tbody>\n",
       "    <tr>\n",
       "      <th>0</th>\n",
       "      <td>0</td>\n",
       "      <td>NO IDENTIFICADO 0</td>\n",
       "      <td>identific</td>\n",
       "      <td>NaN</td>\n",
       "      <td>NaN</td>\n",
       "      <td>IDENTIFICADO</td>\n",
       "      <td>NaN</td>\n",
       "    </tr>\n",
       "    <tr>\n",
       "      <th>1</th>\n",
       "      <td>9</td>\n",
       "      <td>Capuccino Moka 750g NES 9</td>\n",
       "      <td>capuccin mok</td>\n",
       "      <td>NaN</td>\n",
       "      <td>750.0</td>\n",
       "      <td>NES</td>\n",
       "      <td>NaN</td>\n",
       "    </tr>\n",
       "    <tr>\n",
       "      <th>2</th>\n",
       "      <td>41</td>\n",
       "      <td>Bimbollos Ext sAjonjoli 6p 480g BIM 41</td>\n",
       "      <td>bimboll ext sajonjoli</td>\n",
       "      <td>6.0</td>\n",
       "      <td>480.0</td>\n",
       "      <td>BIM</td>\n",
       "      <td>80.00</td>\n",
       "    </tr>\n",
       "    <tr>\n",
       "      <th>3</th>\n",
       "      <td>53</td>\n",
       "      <td>Burritos Sincro 170g CU LON 53</td>\n",
       "      <td>burrit sincr</td>\n",
       "      <td>NaN</td>\n",
       "      <td>170.0</td>\n",
       "      <td>LON</td>\n",
       "      <td>NaN</td>\n",
       "    </tr>\n",
       "    <tr>\n",
       "      <th>4</th>\n",
       "      <td>72</td>\n",
       "      <td>Div Tira Mini Doradita 4p 45g TR 72</td>\n",
       "      <td>div tir mini doradit</td>\n",
       "      <td>4.0</td>\n",
       "      <td>45.0</td>\n",
       "      <td>TR</td>\n",
       "      <td>11.25</td>\n",
       "    </tr>\n",
       "  </tbody>\n",
       "</table>\n",
       "</div>"
      ],
      "text/plain": [
       "   Producto_ID                          NombreProducto     short_product_name  \\\n",
       "0            0                       NO IDENTIFICADO 0              identific   \n",
       "1            9               Capuccino Moka 750g NES 9           capuccin mok   \n",
       "2           41  Bimbollos Ext sAjonjoli 6p 480g BIM 41  bimboll ext sajonjoli   \n",
       "3           53          Burritos Sincro 170g CU LON 53           burrit sincr   \n",
       "4           72     Div Tira Mini Doradita 4p 45g TR 72   div tir mini doradit   \n",
       "\n",
       "   pieces  weight         brand  weight_per_piece  \n",
       "0     NaN     NaN  IDENTIFICADO               NaN  \n",
       "1     NaN   750.0           NES               NaN  \n",
       "2     6.0   480.0           BIM             80.00  \n",
       "3     NaN   170.0           LON               NaN  \n",
       "4     4.0    45.0            TR             11.25  "
      ]
     },
     "execution_count": 53,
     "metadata": {},
     "output_type": "execute_result"
    }
   ],
   "source": [
    "products['weight_per_piece'] = products['weight'] / products['pieces']\n",
    "products.head()"
   ]
  },
  {
   "cell_type": "code",
   "execution_count": 55,
   "metadata": {},
   "outputs": [
    {
     "name": "stdout",
     "output_type": "stream",
     "text": [
      "Generating CSV...\n",
      "Done\n"
     ]
    }
   ],
   "source": [
    "print(\"Generating CSV...\")\n",
    "clients.to_csv(\"client_modified.csv\", index = False, header = True)\n",
    "products.to_csv(\"product_modified.csv\", index = False, header = True)\n",
    "print(\"Done\")"
   ]
  },
  {
   "cell_type": "code",
   "execution_count": 2,
   "metadata": {},
   "outputs": [],
   "source": [
    "def checkMemoryUsage(data):\n",
    "    print()\n",
    "    print('Checking memory usage statistics for {} data... '.format(data))\n",
    "    print(data.info(memory_usage=True))\n",
    "    print()"
   ]
  },
  {
   "cell_type": "code",
   "execution_count": 5,
   "metadata": {},
   "outputs": [
    {
     "name": "stdout",
     "output_type": "stream",
     "text": [
      "\n",
      "Checking memory usage statistics for           Semana  Agencia_ID  Canal_ID  Ruta_SAK  Cliente_ID  Producto_ID  \\\n",
      "0              3        1110         7      3301       15766         1212   \n",
      "1              3        1110         7      3301       15766         1216   \n",
      "2              3        1110         7      3301       15766         1238   \n",
      "3              3        1110         7      3301       15766         1240   \n",
      "4              3        1110         7      3301       15766         1242   \n",
      "...          ...         ...       ...       ...         ...          ...   \n",
      "74180459       9       25759         1      5517     4528866        32873   \n",
      "74180460       9       25759         1      5517     4528866        34226   \n",
      "74180461       9       25759         1      5517     4528866        45112   \n",
      "74180462       9       25759         1      5517     4547943        40217   \n",
      "74180463       9       25759         1      5517     4708097        43159   \n",
      "\n",
      "          Venta_uni_hoy  Venta_hoy  Dev_uni_proxima  Dev_proxima  \\\n",
      "0                     3      25.14                0         0.00   \n",
      "1                     4      33.52                0         0.00   \n",
      "2                     4      39.32                0         0.00   \n",
      "3                     4      33.52                0         0.00   \n",
      "4                     3      22.92                0         0.00   \n",
      "...                 ...        ...              ...          ...   \n",
      "74180459              4      27.76                0         0.00   \n",
      "74180460              4      37.04                0         0.00   \n",
      "74180461              4      51.00                0         0.00   \n",
      "74180462              3      26.94                3        26.94   \n",
      "74180463              1      10.40                0         0.00   \n",
      "\n",
      "          Demanda_uni_equil  \n",
      "0                         3  \n",
      "1                         4  \n",
      "2                         4  \n",
      "3                         4  \n",
      "4                         3  \n",
      "...                     ...  \n",
      "74180459                  4  \n",
      "74180460                  4  \n",
      "74180461                  4  \n",
      "74180462                  0  \n",
      "74180463                  1  \n",
      "\n",
      "[74180464 rows x 11 columns] data... \n",
      "<class 'pandas.core.frame.DataFrame'>\n",
      "RangeIndex: 74180464 entries, 0 to 74180463\n",
      "Data columns (total 11 columns):\n",
      "Semana               uint8\n",
      "Agencia_ID           uint16\n",
      "Canal_ID             uint8\n",
      "Ruta_SAK             uint16\n",
      "Cliente_ID           uint32\n",
      "Producto_ID          uint16\n",
      "Venta_uni_hoy        int64\n",
      "Venta_hoy            float64\n",
      "Dev_uni_proxima      int64\n",
      "Dev_proxima          float64\n",
      "Demanda_uni_equil    uint16\n",
      "dtypes: float64(2), int64(2), uint16(4), uint32(1), uint8(2)\n",
      "memory usage: 3.2 GB\n",
      "None\n",
      "\n",
      "\n",
      "Checking memory usage statistics for               id  Semana  Agencia_ID  Canal_ID  Ruta_SAK  Cliente_ID  \\\n",
      "0              0      11        4037         1      2209     4639078   \n",
      "1              1      11        2237         1      1226     4705135   \n",
      "2              2      10        2045         1      2831     4549769   \n",
      "3              3      11        1227         1      4448     4717855   \n",
      "4              4      11        1219         1      1130      966351   \n",
      "...          ...     ...         ...       ...       ...         ...   \n",
      "6999246  6999246      11        2057         1      1153     4379638   \n",
      "6999247  6999247      10        1334         1      2008      970421   \n",
      "6999248  6999248      11        1622         1      2869      192749   \n",
      "6999249  6999249      11        1636         1      4401      286071   \n",
      "6999250  6999250      11        1625         1      1259      978760   \n",
      "\n",
      "         Producto_ID  \n",
      "0              35305  \n",
      "1               1238  \n",
      "2              32940  \n",
      "3              43066  \n",
      "4               1277  \n",
      "...              ...  \n",
      "6999246         1232  \n",
      "6999247        43069  \n",
      "6999248        30532  \n",
      "6999249        35107  \n",
      "6999250         1232  \n",
      "\n",
      "[6999251 rows x 7 columns] data... \n",
      "<class 'pandas.core.frame.DataFrame'>\n",
      "RangeIndex: 6999251 entries, 0 to 6999250\n",
      "Data columns (total 7 columns):\n",
      "id             int64\n",
      "Semana         int64\n",
      "Agencia_ID     int64\n",
      "Canal_ID       int64\n",
      "Ruta_SAK       int64\n",
      "Cliente_ID     int64\n",
      "Producto_ID    int64\n",
      "dtypes: int64(7)\n",
      "memory usage: 373.8 MB\n",
      "None\n",
      "\n",
      "\n",
      "Checking memory usage statistics for         Cliente_ID                            NombreCliente      Client_Type\n",
      "0                0                               SIN NOMBRE       Individual\n",
      "1                1                         OXXO XINANTECATL       Oxxo Store\n",
      "2                2                               SIN NOMBRE       Individual\n",
      "3                3                                EL MORENO  Small Franchise\n",
      "4                4  SDN SER  DE ALIM  CUERPO SA CIA  DE INT  Small Franchise\n",
      "...            ...                                      ...              ...\n",
      "930495    11011586                               OXXO PETEN       Oxxo Store\n",
      "930496    11693264                     SUPER ABARROTES MARY      Supermarket\n",
      "930497    19988629                          NO IDENTIFICADO  NO IDENTIFICADO\n",
      "930498    99999999                          NO IDENTIFICADO  NO IDENTIFICADO\n",
      "930499  2015152015                          NO IDENTIFICADO  NO IDENTIFICADO\n",
      "\n",
      "[930500 rows x 3 columns] data... \n",
      "<class 'pandas.core.frame.DataFrame'>\n",
      "RangeIndex: 930500 entries, 0 to 930499\n",
      "Data columns (total 3 columns):\n",
      "Cliente_ID       930500 non-null int64\n",
      "NombreCliente    930500 non-null object\n",
      "Client_Type      930500 non-null object\n",
      "dtypes: int64(1), object(2)\n",
      "memory usage: 21.3+ MB\n",
      "None\n",
      "\n",
      "\n",
      "Checking memory usage statistics for       Producto_ID                                  NombreProducto  \\\n",
      "0               0                               NO IDENTIFICADO 0   \n",
      "1               9                       Capuccino Moka 750g NES 9   \n",
      "2              41          Bimbollos Ext sAjonjoli 6p 480g BIM 41   \n",
      "3              53                  Burritos Sincro 170g CU LON 53   \n",
      "4              72             Div Tira Mini Doradita 4p 45g TR 72   \n",
      "...           ...                                             ...   \n",
      "2587        49992             Tostado Integral 180g MTA WON 49992   \n",
      "2588        49993             Tostado Integral 180g TAB WON 49993   \n",
      "2589        49994      Tostado Int 0pct Grasa Azuc 200g WON 49994   \n",
      "2590        49996  Tostado Int 0pct Grasa Azuc 200g MTA WON 49996   \n",
      "2591        49997  Tostado Int 0pct Grasa Azuc 200g TAB WON 49997   \n",
      "\n",
      "         short_product_name  pieces  weight         brand  weight_per_piece  \n",
      "0                 identific     NaN     NaN  IDENTIFICADO               NaN  \n",
      "1              capuccin mok     NaN   750.0           NES               NaN  \n",
      "2     bimboll ext sajonjoli     6.0   480.0           BIM             80.00  \n",
      "3              burrit sincr     NaN   170.0           LON               NaN  \n",
      "4      div tir mini doradit     4.0    45.0            TR             11.25  \n",
      "...                     ...     ...     ...           ...               ...  \n",
      "2587          tost integral     NaN   180.0           WON               NaN  \n",
      "2588          tost integral     NaN   180.0           WON               NaN  \n",
      "2589               tost int     NaN   200.0           WON               NaN  \n",
      "2590               tost int     NaN   200.0           WON               NaN  \n",
      "2591               tost int     NaN   200.0           WON               NaN  \n",
      "\n",
      "[2592 rows x 7 columns] data... \n",
      "<class 'pandas.core.frame.DataFrame'>\n",
      "RangeIndex: 2592 entries, 0 to 2591\n",
      "Data columns (total 7 columns):\n",
      "Producto_ID           2592 non-null int64\n",
      "NombreProducto        2592 non-null object\n",
      "short_product_name    2583 non-null object\n",
      "pieces                1117 non-null float64\n",
      "weight                2483 non-null float64\n",
      "brand                 2591 non-null object\n",
      "weight_per_piece      1078 non-null float64\n",
      "dtypes: float64(3), int64(1), object(3)\n",
      "memory usage: 141.9+ KB\n",
      "None\n",
      "\n"
     ]
    }
   ],
   "source": [
    " train_types = {\n",
    "                    'Semana': np.uint8, 'Agencia_ID': np.uint16, 'Canal_ID': np.uint8\n",
    "                    ,'Ruta_SAK': np.uint16, 'Cliente_ID': np.uint32, 'Producto_ID': np.uint16\n",
    "                    ,'Demanda_uni_equil': np.uint16\n",
    " } \n",
    "\n",
    "train = pd.read_csv(\"./data/train.csv\", sep = \",\",dtype = train_types)\n",
    "checkMemoryUsage(train)\n",
    "test = pd.read_csv(\"./data/test.csv\", sep = \",\")\n",
    "checkMemoryUsage(test)\n",
    "    \n",
    "clients = pd.read_csv(\"./data/client_modified.csv\", sep = \",\") \n",
    "checkMemoryUsage(clients)\n",
    "products = pd.read_csv(\"./data/product_modified.csv\", sep = \",\") \n",
    "checkMemoryUsage(products)"
   ]
  },
  {
   "cell_type": "code",
   "execution_count": 6,
   "metadata": {},
   "outputs": [
    {
     "name": "stderr",
     "output_type": "stream",
     "text": [
      "C:\\Users\\user\\Anaconda3\\lib\\site-packages\\ipykernel_launcher.py:7: FutureWarning: \n",
      ".ix is deprecated. Please use\n",
      ".loc for label based indexing or\n",
      ".iloc for positional indexing\n",
      "\n",
      "See the documentation here:\n",
      "http://pandas.pydata.org/pandas-docs/stable/user_guide/indexing.html#ix-indexer-is-deprecated\n",
      "  import sys\n",
      "C:\\Users\\user\\Anaconda3\\lib\\site-packages\\pandas\\core\\indexing.py:822: FutureWarning: \n",
      ".ix is deprecated. Please use\n",
      ".loc for label based indexing or\n",
      ".iloc for positional indexing\n",
      "\n",
      "See the documentation here:\n",
      "http://pandas.pydata.org/pandas-docs/stable/user_guide/indexing.html#ix-indexer-is-deprecated\n",
      "  retval = getattr(retval, self.name)._getitem_axis(key, axis=i)\n"
     ]
    },
    {
     "name": "stdout",
     "output_type": "stream",
     "text": [
      "\n",
      "Checking memory usage statistics for           Semana  Agencia_ID  Canal_ID  Ruta_SAK  Cliente_ID  Producto_ID  \\\n",
      "0              3        1110         7      3301       15766         1212   \n",
      "1              3        1110         7      3301       15766         1216   \n",
      "2              3        1110         7      3301       15766         1238   \n",
      "3              3        1110         7      3301       15766         1240   \n",
      "4              3        1110         7      3301       15766         1242   \n",
      "...          ...         ...       ...       ...         ...          ...   \n",
      "74180459       9       25759         1      5517     4528866        32873   \n",
      "74180460       9       25759         1      5517     4528866        34226   \n",
      "74180461       9       25759         1      5517     4528866        45112   \n",
      "74180462       9       25759         1      5517     4547943        40217   \n",
      "74180463       9       25759         1      5517     4708097        43159   \n",
      "\n",
      "          Venta_uni_hoy  Venta_hoy  Dev_uni_proxima  Dev_proxima  \\\n",
      "0                     3      25.14                0         0.00   \n",
      "1                     4      33.52                0         0.00   \n",
      "2                     4      39.32                0         0.00   \n",
      "3                     4      33.52                0         0.00   \n",
      "4                     3      22.92                0         0.00   \n",
      "...                 ...        ...              ...          ...   \n",
      "74180459              4      27.76                0         0.00   \n",
      "74180460              4      37.04                0         0.00   \n",
      "74180461              4      51.00                0         0.00   \n",
      "74180462              3      26.94                3        26.94   \n",
      "74180463              1      10.40                0         0.00   \n",
      "\n",
      "          Demanda_uni_equil                            NombreProducto  \\\n",
      "0                         3             Roles Canela 2p 120g BIM 1212   \n",
      "1                         4              Roles Glass 2p 135g BIM 1216   \n",
      "2                         4     Panquecito Gota Choc 2p 140g BIM 1238   \n",
      "3                         4      Mantecadas Vainilla 4p 125g BIM 1240   \n",
      "4                         3    Donitas Espolvoreadas 6p 105g BIM 1242   \n",
      "...                     ...                                       ...   \n",
      "74180459                  4           Canapinas 140g SP MTA LAR 32873   \n",
      "74180460                  4              Magnas 200g SP MTB LAR 34226   \n",
      "74180461                  4         Conchas 3p 180g Prom MTA TR 45112   \n",
      "74180462                  0  Mantecada Vainilla 3p 157g Prom TR 40217   \n",
      "74180463                  1       Tostada Plana 15p 175g MTB MR 43159   \n",
      "\n",
      "          short_product_name  pieces  weight brand  weight_per_piece  \\\n",
      "0                  rol canel     2.0   120.0   BIM         60.000000   \n",
      "1                  rol glass     2.0   135.0   BIM         67.500000   \n",
      "2         panquecit got choc     2.0   140.0   BIM         70.000000   \n",
      "3             mantec vainill     4.0   125.0   BIM         31.250000   \n",
      "4             donit espolvor     6.0   105.0   BIM         17.500000   \n",
      "...                      ...     ...     ...   ...               ...   \n",
      "74180459             canapin     NaN   140.0   LAR               NaN   \n",
      "74180460                magn     NaN   200.0   LAR               NaN   \n",
      "74180461               conch     3.0   180.0    TR         60.000000   \n",
      "74180462      mantec vainill     3.0   157.0    TR         52.333333   \n",
      "74180463           tost plan    15.0   175.0    MR         11.666667   \n",
      "\n",
      "              Client_Type  \n",
      "0                    Post  \n",
      "1                    Post  \n",
      "2                    Post  \n",
      "3                    Post  \n",
      "4                    Post  \n",
      "...                   ...  \n",
      "74180459  NO IDENTIFICADO  \n",
      "74180460  NO IDENTIFICADO  \n",
      "74180461  NO IDENTIFICADO  \n",
      "74180462  NO IDENTIFICADO  \n",
      "74180463  NO IDENTIFICADO  \n",
      "\n",
      "[74180464 rows x 18 columns] data... \n",
      "<class 'pandas.core.frame.DataFrame'>\n",
      "Int64Index: 74180464 entries, 0 to 74180463\n",
      "Data columns (total 18 columns):\n",
      "Semana                uint8\n",
      "Agencia_ID            uint16\n",
      "Canal_ID              uint8\n",
      "Ruta_SAK              uint16\n",
      "Cliente_ID            uint32\n",
      "Producto_ID           uint16\n",
      "Venta_uni_hoy         int64\n",
      "Venta_hoy             float64\n",
      "Dev_uni_proxima       int64\n",
      "Dev_proxima           float64\n",
      "Demanda_uni_equil     uint16\n",
      "NombreProducto        object\n",
      "short_product_name    object\n",
      "pieces                float64\n",
      "weight                float64\n",
      "brand                 object\n",
      "weight_per_piece      float64\n",
      "Client_Type           object\n",
      "dtypes: float64(5), int64(2), object(4), uint16(4), uint32(1), uint8(2)\n",
      "memory usage: 7.6+ GB\n",
      "None\n",
      "\n"
     ]
    },
    {
     "name": "stderr",
     "output_type": "stream",
     "text": [
      "C:\\Users\\user\\Anaconda3\\lib\\site-packages\\ipykernel_launcher.py:9: FutureWarning: \n",
      ".ix is deprecated. Please use\n",
      ".loc for label based indexing or\n",
      ".iloc for positional indexing\n",
      "\n",
      "See the documentation here:\n",
      "http://pandas.pydata.org/pandas-docs/stable/user_guide/indexing.html#ix-indexer-is-deprecated\n",
      "  if __name__ == '__main__':\n"
     ]
    },
    {
     "name": "stdout",
     "output_type": "stream",
     "text": [
      "\n",
      "Checking memory usage statistics for               id  Semana  Agencia_ID  Canal_ID  Ruta_SAK  Cliente_ID  \\\n",
      "0              0      11        4037         1      2209     4639078   \n",
      "1              1      11        2237         1      1226     4705135   \n",
      "2              2      10        2045         1      2831     4549769   \n",
      "3              3      11        1227         1      4448     4717855   \n",
      "4              4      11        1219         1      1130      966351   \n",
      "...          ...     ...         ...       ...       ...         ...   \n",
      "6999246  6999246      11        2057         1      1153     4379638   \n",
      "6999247  6999247      10        1334         1      2008      970421   \n",
      "6999248  6999248      11        1622         1      2869      192749   \n",
      "6999249  6999249      11        1636         1      4401      286071   \n",
      "6999250  6999250      11        1625         1      1259      978760   \n",
      "\n",
      "         Producto_ID                                 NombreProducto  \\\n",
      "0              35305          Barritas Fresa 75g Prom MTB MLA 35305   \n",
      "1               1238          Panquecito Gota Choc 2p 140g BIM 1238   \n",
      "2              32940  Principe Choc Bco 10p 110g Prom MTB MLA 32940   \n",
      "3              43066                  Pay Pina 1p 85g MTB MLA 43066   \n",
      "4               1277             Nito Edicion Especial 62g BIM 1277   \n",
      "...              ...                                            ...   \n",
      "6999246         1232                      Panque Nuez 255g BIM 1232   \n",
      "6999247        43069                 Pinguinos 2p 80g MTA MLA 43069   \n",
      "6999248        30532           Principe 10p 106g Prom MTB MLA 30532   \n",
      "6999249        35107       Deliciosas Vainilla 75g SP MTA LAR 35107   \n",
      "6999250         1232                      Panque Nuez 255g BIM 1232   \n",
      "\n",
      "           short_product_name  pieces  weight brand  weight_per_piece  \\\n",
      "0                 barrit fres     NaN    75.0   MLA               NaN   \n",
      "1          panquecit got choc     2.0   140.0   BIM              70.0   \n",
      "2            princip choc bco    10.0   110.0   MLA              11.0   \n",
      "3                     pay pin     1.0    85.0   MLA              85.0   \n",
      "4        nit edicion especial     NaN    62.0   BIM               NaN   \n",
      "...                       ...     ...     ...   ...               ...   \n",
      "6999246            panqu nuez     NaN   255.0   BIM               NaN   \n",
      "6999247               pinguin     2.0    80.0   MLA              40.0   \n",
      "6999248               princip    10.0   106.0   MLA              10.6   \n",
      "6999249        delici vainill     NaN    75.0   LAR               NaN   \n",
      "6999250            panqu nuez     NaN   255.0   BIM               NaN   \n",
      "\n",
      "                 Client_Type  \n",
      "0            NO IDENTIFICADO  \n",
      "1            NO IDENTIFICADO  \n",
      "2            NO IDENTIFICADO  \n",
      "3            NO IDENTIFICADO  \n",
      "4            Small Franchise  \n",
      "...                      ...  \n",
      "6999246      NO IDENTIFICADO  \n",
      "6999247      Small Franchise  \n",
      "6999248  General Market/Mart  \n",
      "6999249           Individual  \n",
      "6999250           Individual  \n",
      "\n",
      "[6999251 rows x 14 columns] data... \n",
      "<class 'pandas.core.frame.DataFrame'>\n",
      "Int64Index: 6999251 entries, 0 to 6999250\n",
      "Data columns (total 14 columns):\n",
      "id                    int64\n",
      "Semana                int64\n",
      "Agencia_ID            int64\n",
      "Canal_ID              int64\n",
      "Ruta_SAK              int64\n",
      "Cliente_ID            int64\n",
      "Producto_ID           int64\n",
      "NombreProducto        object\n",
      "short_product_name    object\n",
      "pieces                float64\n",
      "weight                float64\n",
      "brand                 object\n",
      "weight_per_piece      float64\n",
      "Client_Type           object\n",
      "dtypes: float64(3), int64(7), object(4)\n",
      "memory usage: 801.0+ MB\n",
      "None\n",
      "\n"
     ]
    }
   ],
   "source": [
    " # Merge product information\n",
    "train = train.merge(products, how = 'left', on = ['Producto_ID'])\n",
    "\n",
    "test = test.merge(products, how = 'left', on = ['Producto_ID'])\n",
    "\n",
    "# Merge cliente information\n",
    "train = train.merge(clients.ix[:, ['Cliente_ID', 'Client_Type']], how = 'left', on = ['Cliente_ID'])\n",
    "checkMemoryUsage(train)\n",
    "test = test.merge(clients.ix[:, ['Cliente_ID', 'Client_Type']], how = 'left', on = ['Cliente_ID']) \n",
    "checkMemoryUsage(test)\n"
   ]
  },
  {
   "cell_type": "code",
   "execution_count": 7,
   "metadata": {},
   "outputs": [],
   "source": [
    "def add_time_series_features(train, test):\n",
    "    \"\"\" Takes train and test data as inputs. \n",
    "        Adds lagged adjusted demand variables to the data periods t-2, t-3, t-4, and t-5.\n",
    "        Returns modified data. \n",
    "    \"\"\"\n",
    "    # Adding lagged time series variables to data Groups by (Cliente_ID, Producto_ID)\n",
    "    for i in range(1, 6):\n",
    "        # Add tminus to train\n",
    "        columns = ['Semana', 'Cliente_ID', 'Producto_ID', 'Demanda_uni_equil']       \n",
    "        train_tminus = train.ix[:, columns]\n",
    "        train_tminus = train_tminus.rename(columns = {'Demanda_uni_equil': 'Demanda_uni_equil_tminus' + str(i)})\n",
    "        train_tminus['Semana'] = train_tminus['Semana'] + i\n",
    "        columns.remove('Demanda_uni_equil')\n",
    "        train_tminus = pd.DataFrame({'Demanda_uni_equil_tminus' + str(i) : train_tminus.groupby(columns)['Demanda_uni_equil_tminus' + str(i)].mean()}).reset_index()         \n",
    "        \n",
    "        train = train.merge(train_tminus, how = 'left', on = ['Semana', 'Cliente_ID', 'Producto_ID'])   \n",
    "        train['Demanda_uni_equil_tminus' + str(i)] = train['Demanda_uni_equil_tminus' + str(i)].astype(np.float16)\n",
    "                \n",
    "        # Add tminus for Semana == 10\n",
    "        columns = ['Semana', 'Cliente_ID', 'Producto_ID', 'Demanda_uni_equil_tminus' + str(i)]\n",
    "        test = test.merge(train_tminus.ix[train_tminus['Semana'] == 10, columns], how = 'left', on = ['Semana', 'Cliente_ID', 'Producto_ID'])\n",
    "        test['Demanda_uni_equil_tminus' + str(i)] = test['Demanda_uni_equil_tminus' + str(i)].astype(np.float16)     \n",
    "    \n",
    "        # Add tminus for Semana == 11\n",
    "        if(i != 1):\n",
    "            test = test.merge(train_tminus.ix[train_tminus['Semana'] == 11, columns], how = 'left', on = ['Semana', 'Cliente_ID', 'Producto_ID']) \n",
    "            test = test.rename(columns = {'Demanda_uni_equil_tminus' + str(i) + '_x': 'Demanda_uni_equil_tminus' + str(i)})\n",
    "            test.ix[test['Semana'] == 11, 'Demanda_uni_equil_tminus' + str(i)] = test.ix[test['Semana'] == 11, 'Demanda_uni_equil_tminus' + str(i) + '_y']\n",
    "            test = test.drop('Demanda_uni_equil_tminus' + str(i) + '_y', axis = 1)\n",
    "            test['Demanda_uni_equil_tminus' + str(i)] = test['Demanda_uni_equil_tminus' + str(i)].astype(np.float16)\n",
    "        \n",
    "        # Replace null values with zeros\n",
    "        train.ix[train['Demanda_uni_equil_tminus' + str(i)].isnull(), 'Demanda_uni_equil_tminus' + str(i)] = 0\n",
    "        test.ix[test['Demanda_uni_equil_tminus' + str(i)].isnull(), 'Demanda_uni_equil_tminus' + str(i)] = 0    \n",
    "            \n",
    "    return train, test"
   ]
  },
  {
   "cell_type": "code",
   "execution_count": 8,
   "metadata": {},
   "outputs": [
    {
     "name": "stdout",
     "output_type": "stream",
     "text": [
      " Adding time series features...\n"
     ]
    },
    {
     "name": "stderr",
     "output_type": "stream",
     "text": [
      "C:\\Users\\user\\Anaconda3\\lib\\site-packages\\ipykernel_launcher.py:10: FutureWarning: \n",
      ".ix is deprecated. Please use\n",
      ".loc for label based indexing or\n",
      ".iloc for positional indexing\n",
      "\n",
      "See the documentation here:\n",
      "http://pandas.pydata.org/pandas-docs/stable/user_guide/indexing.html#ix-indexer-is-deprecated\n",
      "  # Remove the CWD from sys.path while we load stuff.\n",
      "C:\\Users\\user\\Anaconda3\\lib\\site-packages\\pandas\\core\\indexing.py:822: FutureWarning: \n",
      ".ix is deprecated. Please use\n",
      ".loc for label based indexing or\n",
      ".iloc for positional indexing\n",
      "\n",
      "See the documentation here:\n",
      "http://pandas.pydata.org/pandas-docs/stable/user_guide/indexing.html#ix-indexer-is-deprecated\n",
      "  retval = getattr(retval, self.name)._getitem_axis(key, axis=i)\n",
      "C:\\Users\\user\\Anaconda3\\lib\\site-packages\\ipykernel_launcher.py:21: FutureWarning: \n",
      ".ix is deprecated. Please use\n",
      ".loc for label based indexing or\n",
      ".iloc for positional indexing\n",
      "\n",
      "See the documentation here:\n",
      "http://pandas.pydata.org/pandas-docs/stable/user_guide/indexing.html#ix-indexer-is-deprecated\n",
      "C:\\Users\\user\\Anaconda3\\lib\\site-packages\\ipykernel_launcher.py:33: FutureWarning: \n",
      ".ix is deprecated. Please use\n",
      ".loc for label based indexing or\n",
      ".iloc for positional indexing\n",
      "\n",
      "See the documentation here:\n",
      "http://pandas.pydata.org/pandas-docs/stable/user_guide/indexing.html#ix-indexer-is-deprecated\n",
      "C:\\Users\\user\\Anaconda3\\lib\\site-packages\\ipykernel_launcher.py:34: FutureWarning: \n",
      ".ix is deprecated. Please use\n",
      ".loc for label based indexing or\n",
      ".iloc for positional indexing\n",
      "\n",
      "See the documentation here:\n",
      "http://pandas.pydata.org/pandas-docs/stable/user_guide/indexing.html#ix-indexer-is-deprecated\n",
      "C:\\Users\\user\\Anaconda3\\lib\\site-packages\\ipykernel_launcher.py:26: FutureWarning: \n",
      ".ix is deprecated. Please use\n",
      ".loc for label based indexing or\n",
      ".iloc for positional indexing\n",
      "\n",
      "See the documentation here:\n",
      "http://pandas.pydata.org/pandas-docs/stable/user_guide/indexing.html#ix-indexer-is-deprecated\n",
      "C:\\Users\\user\\Anaconda3\\lib\\site-packages\\ipykernel_launcher.py:28: FutureWarning: \n",
      ".ix is deprecated. Please use\n",
      ".loc for label based indexing or\n",
      ".iloc for positional indexing\n",
      "\n",
      "See the documentation here:\n",
      "http://pandas.pydata.org/pandas-docs/stable/user_guide/indexing.html#ix-indexer-is-deprecated\n",
      "C:\\Users\\user\\Anaconda3\\lib\\site-packages\\pandas\\core\\indexing.py:961: FutureWarning: \n",
      ".ix is deprecated. Please use\n",
      ".loc for label based indexing or\n",
      ".iloc for positional indexing\n",
      "\n",
      "See the documentation here:\n",
      "http://pandas.pydata.org/pandas-docs/stable/user_guide/indexing.html#ix-indexer-is-deprecated\n",
      "  return getattr(section, self.name)[new_key]\n"
     ]
    },
    {
     "name": "stdout",
     "output_type": "stream",
     "text": [
      "Complete!\n",
      "\n",
      "\n",
      "Checking memory usage statistics for           Semana  Agencia_ID  Canal_ID  Ruta_SAK  Cliente_ID  Producto_ID  \\\n",
      "0              3        1110         7      3301       15766         1212   \n",
      "1              3        1110         7      3301       15766         1216   \n",
      "2              3        1110         7      3301       15766         1238   \n",
      "3              3        1110         7      3301       15766         1240   \n",
      "4              3        1110         7      3301       15766         1242   \n",
      "...          ...         ...       ...       ...         ...          ...   \n",
      "74180459       9       25759         1      5517     4528866        32873   \n",
      "74180460       9       25759         1      5517     4528866        34226   \n",
      "74180461       9       25759         1      5517     4528866        45112   \n",
      "74180462       9       25759         1      5517     4547943        40217   \n",
      "74180463       9       25759         1      5517     4708097        43159   \n",
      "\n",
      "          Venta_uni_hoy  Venta_hoy  Dev_uni_proxima  Dev_proxima  ...  pieces  \\\n",
      "0                     3      25.14                0         0.00  ...     2.0   \n",
      "1                     4      33.52                0         0.00  ...     2.0   \n",
      "2                     4      39.32                0         0.00  ...     2.0   \n",
      "3                     4      33.52                0         0.00  ...     4.0   \n",
      "4                     3      22.92                0         0.00  ...     6.0   \n",
      "...                 ...        ...              ...          ...  ...     ...   \n",
      "74180459              4      27.76                0         0.00  ...     NaN   \n",
      "74180460              4      37.04                0         0.00  ...     NaN   \n",
      "74180461              4      51.00                0         0.00  ...     3.0   \n",
      "74180462              3      26.94                3        26.94  ...     3.0   \n",
      "74180463              1      10.40                0         0.00  ...    15.0   \n",
      "\n",
      "         weight brand  weight_per_piece      Client_Type  \\\n",
      "0         120.0   BIM         60.000000             Post   \n",
      "1         135.0   BIM         67.500000             Post   \n",
      "2         140.0   BIM         70.000000             Post   \n",
      "3         125.0   BIM         31.250000             Post   \n",
      "4         105.0   BIM         17.500000             Post   \n",
      "...         ...   ...               ...              ...   \n",
      "74180459  140.0   LAR               NaN  NO IDENTIFICADO   \n",
      "74180460  200.0   LAR               NaN  NO IDENTIFICADO   \n",
      "74180461  180.0    TR         60.000000  NO IDENTIFICADO   \n",
      "74180462  157.0    TR         52.333333  NO IDENTIFICADO   \n",
      "74180463  175.0    MR         11.666667  NO IDENTIFICADO   \n",
      "\n",
      "         Demanda_uni_equil_tminus1  Demanda_uni_equil_tminus2  \\\n",
      "0                              0.0                        0.0   \n",
      "1                              0.0                        0.0   \n",
      "2                              0.0                        0.0   \n",
      "3                              0.0                        0.0   \n",
      "4                              0.0                        0.0   \n",
      "...                            ...                        ...   \n",
      "74180459                       0.0                        0.0   \n",
      "74180460                       0.0                        0.0   \n",
      "74180461                       0.0                        0.0   \n",
      "74180462                       6.0                        5.0   \n",
      "74180463                       0.0                        0.0   \n",
      "\n",
      "         Demanda_uni_equil_tminus3  Demanda_uni_equil_tminus4  \\\n",
      "0                              0.0                        0.0   \n",
      "1                              0.0                        0.0   \n",
      "2                              0.0                        0.0   \n",
      "3                              0.0                        0.0   \n",
      "4                              0.0                        0.0   \n",
      "...                            ...                        ...   \n",
      "74180459                       0.0                        0.0   \n",
      "74180460                       0.0                        0.0   \n",
      "74180461                       0.0                        0.0   \n",
      "74180462                       0.0                        0.0   \n",
      "74180463                       0.0                        0.0   \n",
      "\n",
      "          Demanda_uni_equil_tminus5  \n",
      "0                               0.0  \n",
      "1                               0.0  \n",
      "2                               0.0  \n",
      "3                               0.0  \n",
      "4                               0.0  \n",
      "...                             ...  \n",
      "74180459                        0.0  \n",
      "74180460                        0.0  \n",
      "74180461                        0.0  \n",
      "74180462                        6.0  \n",
      "74180463                        0.0  \n",
      "\n",
      "[74180464 rows x 23 columns] data... \n",
      "<class 'pandas.core.frame.DataFrame'>\n",
      "Int64Index: 74180464 entries, 0 to 74180463\n",
      "Data columns (total 23 columns):\n",
      "Semana                       uint8\n",
      "Agencia_ID                   uint16\n",
      "Canal_ID                     uint8\n",
      "Ruta_SAK                     uint16\n",
      "Cliente_ID                   uint32\n",
      "Producto_ID                  uint16\n",
      "Venta_uni_hoy                int64\n",
      "Venta_hoy                    float64\n",
      "Dev_uni_proxima              int64\n",
      "Dev_proxima                  float64\n",
      "Demanda_uni_equil            uint16\n",
      "NombreProducto               object\n",
      "short_product_name           object\n",
      "pieces                       float64\n",
      "weight                       float64\n",
      "brand                        object\n",
      "weight_per_piece             float64\n",
      "Client_Type                  object\n",
      "Demanda_uni_equil_tminus1    float16\n",
      "Demanda_uni_equil_tminus2    float16\n",
      "Demanda_uni_equil_tminus3    float16\n",
      "Demanda_uni_equil_tminus4    float16\n",
      "Demanda_uni_equil_tminus5    float16\n",
      "dtypes: float16(5), float64(5), int64(2), object(4), uint16(4), uint32(1), uint8(2)\n",
      "memory usage: 8.3+ GB\n",
      "None\n",
      "\n"
     ]
    }
   ],
   "source": [
    "\n",
    "\n",
    "print (\" Adding time series features...\")\n",
    "train, test = add_time_series_features(train, test)  \n",
    "print (\"Complete!\")\n",
    "print()\n",
    "checkMemoryUsage(train)\n",
    "\n"
   ]
  },
  {
   "cell_type": "code",
   "execution_count": 9,
   "metadata": {},
   "outputs": [
    {
     "data": {
      "text/html": [
       "<div>\n",
       "<style scoped>\n",
       "    .dataframe tbody tr th:only-of-type {\n",
       "        vertical-align: middle;\n",
       "    }\n",
       "\n",
       "    .dataframe tbody tr th {\n",
       "        vertical-align: top;\n",
       "    }\n",
       "\n",
       "    .dataframe thead th {\n",
       "        text-align: right;\n",
       "    }\n",
       "</style>\n",
       "<table border=\"1\" class=\"dataframe\">\n",
       "  <thead>\n",
       "    <tr style=\"text-align: right;\">\n",
       "      <th></th>\n",
       "      <th>Semana</th>\n",
       "      <th>Agencia_ID</th>\n",
       "      <th>Canal_ID</th>\n",
       "      <th>Ruta_SAK</th>\n",
       "      <th>Cliente_ID</th>\n",
       "      <th>Producto_ID</th>\n",
       "      <th>Venta_uni_hoy</th>\n",
       "      <th>Venta_hoy</th>\n",
       "      <th>Dev_uni_proxima</th>\n",
       "      <th>Dev_proxima</th>\n",
       "      <th>...</th>\n",
       "      <th>pieces</th>\n",
       "      <th>weight</th>\n",
       "      <th>brand</th>\n",
       "      <th>weight_per_piece</th>\n",
       "      <th>Client_Type</th>\n",
       "      <th>Demanda_uni_equil_tminus1</th>\n",
       "      <th>Demanda_uni_equil_tminus2</th>\n",
       "      <th>Demanda_uni_equil_tminus3</th>\n",
       "      <th>Demanda_uni_equil_tminus4</th>\n",
       "      <th>Demanda_uni_equil_tminus5</th>\n",
       "    </tr>\n",
       "  </thead>\n",
       "  <tbody>\n",
       "    <tr>\n",
       "      <th>0</th>\n",
       "      <td>3</td>\n",
       "      <td>1110</td>\n",
       "      <td>7</td>\n",
       "      <td>3301</td>\n",
       "      <td>15766</td>\n",
       "      <td>1212</td>\n",
       "      <td>3</td>\n",
       "      <td>25.14</td>\n",
       "      <td>0</td>\n",
       "      <td>0.0</td>\n",
       "      <td>...</td>\n",
       "      <td>2.0</td>\n",
       "      <td>120.0</td>\n",
       "      <td>BIM</td>\n",
       "      <td>60.00</td>\n",
       "      <td>Post</td>\n",
       "      <td>0.0</td>\n",
       "      <td>0.0</td>\n",
       "      <td>0.0</td>\n",
       "      <td>0.0</td>\n",
       "      <td>0.0</td>\n",
       "    </tr>\n",
       "    <tr>\n",
       "      <th>1</th>\n",
       "      <td>3</td>\n",
       "      <td>1110</td>\n",
       "      <td>7</td>\n",
       "      <td>3301</td>\n",
       "      <td>15766</td>\n",
       "      <td>1216</td>\n",
       "      <td>4</td>\n",
       "      <td>33.52</td>\n",
       "      <td>0</td>\n",
       "      <td>0.0</td>\n",
       "      <td>...</td>\n",
       "      <td>2.0</td>\n",
       "      <td>135.0</td>\n",
       "      <td>BIM</td>\n",
       "      <td>67.50</td>\n",
       "      <td>Post</td>\n",
       "      <td>0.0</td>\n",
       "      <td>0.0</td>\n",
       "      <td>0.0</td>\n",
       "      <td>0.0</td>\n",
       "      <td>0.0</td>\n",
       "    </tr>\n",
       "    <tr>\n",
       "      <th>2</th>\n",
       "      <td>3</td>\n",
       "      <td>1110</td>\n",
       "      <td>7</td>\n",
       "      <td>3301</td>\n",
       "      <td>15766</td>\n",
       "      <td>1238</td>\n",
       "      <td>4</td>\n",
       "      <td>39.32</td>\n",
       "      <td>0</td>\n",
       "      <td>0.0</td>\n",
       "      <td>...</td>\n",
       "      <td>2.0</td>\n",
       "      <td>140.0</td>\n",
       "      <td>BIM</td>\n",
       "      <td>70.00</td>\n",
       "      <td>Post</td>\n",
       "      <td>0.0</td>\n",
       "      <td>0.0</td>\n",
       "      <td>0.0</td>\n",
       "      <td>0.0</td>\n",
       "      <td>0.0</td>\n",
       "    </tr>\n",
       "    <tr>\n",
       "      <th>3</th>\n",
       "      <td>3</td>\n",
       "      <td>1110</td>\n",
       "      <td>7</td>\n",
       "      <td>3301</td>\n",
       "      <td>15766</td>\n",
       "      <td>1240</td>\n",
       "      <td>4</td>\n",
       "      <td>33.52</td>\n",
       "      <td>0</td>\n",
       "      <td>0.0</td>\n",
       "      <td>...</td>\n",
       "      <td>4.0</td>\n",
       "      <td>125.0</td>\n",
       "      <td>BIM</td>\n",
       "      <td>31.25</td>\n",
       "      <td>Post</td>\n",
       "      <td>0.0</td>\n",
       "      <td>0.0</td>\n",
       "      <td>0.0</td>\n",
       "      <td>0.0</td>\n",
       "      <td>0.0</td>\n",
       "    </tr>\n",
       "    <tr>\n",
       "      <th>4</th>\n",
       "      <td>3</td>\n",
       "      <td>1110</td>\n",
       "      <td>7</td>\n",
       "      <td>3301</td>\n",
       "      <td>15766</td>\n",
       "      <td>1242</td>\n",
       "      <td>3</td>\n",
       "      <td>22.92</td>\n",
       "      <td>0</td>\n",
       "      <td>0.0</td>\n",
       "      <td>...</td>\n",
       "      <td>6.0</td>\n",
       "      <td>105.0</td>\n",
       "      <td>BIM</td>\n",
       "      <td>17.50</td>\n",
       "      <td>Post</td>\n",
       "      <td>0.0</td>\n",
       "      <td>0.0</td>\n",
       "      <td>0.0</td>\n",
       "      <td>0.0</td>\n",
       "      <td>0.0</td>\n",
       "    </tr>\n",
       "  </tbody>\n",
       "</table>\n",
       "<p>5 rows × 23 columns</p>\n",
       "</div>"
      ],
      "text/plain": [
       "   Semana  Agencia_ID  Canal_ID  Ruta_SAK  Cliente_ID  Producto_ID  \\\n",
       "0       3        1110         7      3301       15766         1212   \n",
       "1       3        1110         7      3301       15766         1216   \n",
       "2       3        1110         7      3301       15766         1238   \n",
       "3       3        1110         7      3301       15766         1240   \n",
       "4       3        1110         7      3301       15766         1242   \n",
       "\n",
       "   Venta_uni_hoy  Venta_hoy  Dev_uni_proxima  Dev_proxima  ...  pieces weight  \\\n",
       "0              3      25.14                0          0.0  ...     2.0  120.0   \n",
       "1              4      33.52                0          0.0  ...     2.0  135.0   \n",
       "2              4      39.32                0          0.0  ...     2.0  140.0   \n",
       "3              4      33.52                0          0.0  ...     4.0  125.0   \n",
       "4              3      22.92                0          0.0  ...     6.0  105.0   \n",
       "\n",
       "  brand  weight_per_piece  Client_Type Demanda_uni_equil_tminus1  \\\n",
       "0   BIM             60.00         Post                       0.0   \n",
       "1   BIM             67.50         Post                       0.0   \n",
       "2   BIM             70.00         Post                       0.0   \n",
       "3   BIM             31.25         Post                       0.0   \n",
       "4   BIM             17.50         Post                       0.0   \n",
       "\n",
       "   Demanda_uni_equil_tminus2 Demanda_uni_equil_tminus3  \\\n",
       "0                        0.0                       0.0   \n",
       "1                        0.0                       0.0   \n",
       "2                        0.0                       0.0   \n",
       "3                        0.0                       0.0   \n",
       "4                        0.0                       0.0   \n",
       "\n",
       "   Demanda_uni_equil_tminus4  Demanda_uni_equil_tminus5  \n",
       "0                        0.0                        0.0  \n",
       "1                        0.0                        0.0  \n",
       "2                        0.0                        0.0  \n",
       "3                        0.0                        0.0  \n",
       "4                        0.0                        0.0  \n",
       "\n",
       "[5 rows x 23 columns]"
      ]
     },
     "execution_count": 9,
     "metadata": {},
     "output_type": "execute_result"
    }
   ],
   "source": [
    "train.head()"
   ]
  },
  {
   "cell_type": "code",
   "execution_count": 10,
   "metadata": {},
   "outputs": [],
   "source": [
    "\n",
    "\n",
    "def add_mean_freq_by_id(train, test):\n",
    "    \"\"\" Takes train and test data as inputs. \n",
    "        Adds mean of frequencies of different id features by week (semana).\n",
    "        Returns train and test data.\n",
    "    \"\"\"\n",
    "    columns =  ['Agencia_ID', 'Canal_ID', 'Ruta_SAK', 'Cliente_ID', 'Producto_ID', 'short_product_name', 'Client_Type'] \n",
    "    for column in columns:\n",
    "        \n",
    "        # Create mean of weekly id counts\n",
    "        train_counts = pd.DataFrame({column + '_count' : train[[column, 'Semana']].groupby([column, 'Semana']).size()}).reset_index()\n",
    "        test_counts = pd.DataFrame({column + '_count' : test[[column, 'Semana']].groupby([column, 'Semana']).size()}).reset_index()\n",
    "        counts = train_counts.append(test_counts)      \n",
    "        counts = pd.DataFrame({column + '_count' : counts.groupby([column])[column + '_count'].mean()}).reset_index()\n",
    "        counts[column + '_count'] = counts[column + '_count'].astype(np.float32) \n",
    "\n",
    "        # Merge with train and test data\n",
    "        train = train.merge(counts, how = 'left', on = column)    \n",
    "        test = test.merge(counts, how = 'left', on = column)  \n",
    "        \n",
    "    return train, test\n",
    "\n"
   ]
  },
  {
   "cell_type": "code",
   "execution_count": 12,
   "metadata": {},
   "outputs": [
    {
     "name": "stdout",
     "output_type": "stream",
     "text": [
      "Adding id frequency variables... \n",
      "Complete!\n",
      "\n",
      "\n",
      "Checking memory usage statistics for           Semana  Agencia_ID  Canal_ID  Ruta_SAK  Cliente_ID  Producto_ID  \\\n",
      "0              3        1110         7      3301       15766         1212   \n",
      "1              3        1110         7      3301       15766         1216   \n",
      "2              3        1110         7      3301       15766         1238   \n",
      "3              3        1110         7      3301       15766         1240   \n",
      "4              3        1110         7      3301       15766         1242   \n",
      "...          ...         ...       ...       ...         ...          ...   \n",
      "74180459       9       25759         1      5517     4528866        32873   \n",
      "74180460       9       25759         1      5517     4528866        34226   \n",
      "74180461       9       25759         1      5517     4528866        45112   \n",
      "74180462       9       25759         1      5517     4547943        40217   \n",
      "74180463       9       25759         1      5517     4708097        43159   \n",
      "\n",
      "          Venta_uni_hoy  Venta_hoy  Dev_uni_proxima  Dev_proxima  ...  \\\n",
      "0                     3      25.14                0         0.00  ...   \n",
      "1                     4      33.52                0         0.00  ...   \n",
      "2                     4      39.32                0         0.00  ...   \n",
      "3                     4      33.52                0         0.00  ...   \n",
      "4                     3      22.92                0         0.00  ...   \n",
      "...                 ...        ...              ...          ...  ...   \n",
      "74180459              4      27.76                0         0.00  ...   \n",
      "74180460              4      37.04                0         0.00  ...   \n",
      "74180461              4      51.00                0         0.00  ...   \n",
      "74180462              3      26.94                3        26.94  ...   \n",
      "74180463              1      10.40                0         0.00  ...   \n",
      "\n",
      "          Demanda_uni_equil_tminus3 Demanda_uni_equil_tminus4  \\\n",
      "0                               0.0                       0.0   \n",
      "1                               0.0                       0.0   \n",
      "2                               0.0                       0.0   \n",
      "3                               0.0                       0.0   \n",
      "4                               0.0                       0.0   \n",
      "...                             ...                       ...   \n",
      "74180459                        0.0                       0.0   \n",
      "74180460                        0.0                       0.0   \n",
      "74180461                        0.0                       0.0   \n",
      "74180462                        0.0                       0.0   \n",
      "74180463                        0.0                       0.0   \n",
      "\n",
      "         Demanda_uni_equil_tminus5  Agencia_ID_count  Canal_ID_count  \\\n",
      "0                              0.0       6726.222168    8.129734e+04   \n",
      "1                              0.0       6726.222168    8.129734e+04   \n",
      "2                              0.0       6726.222168    8.129734e+04   \n",
      "3                              0.0       6726.222168    8.129734e+04   \n",
      "4                              0.0       6726.222168    8.129734e+04   \n",
      "...                            ...               ...             ...   \n",
      "74180459                       0.0      26337.222656    8.197713e+06   \n",
      "74180460                       0.0      26337.222656    8.197713e+06   \n",
      "74180461                       0.0      26337.222656    8.197713e+06   \n",
      "74180462                       6.0      26337.222656    8.197713e+06   \n",
      "74180463                       0.0      26337.222656    8.197713e+06   \n",
      "\n",
      "         Ruta_SAK_count  Cliente_ID_count Producto_ID_count  \\\n",
      "0           3480.222168         19.555555     144403.000000   \n",
      "1           3480.222168         19.555555     123046.554688   \n",
      "2           3480.222168         19.555555     143756.671875   \n",
      "3           3480.222168         19.555555     253942.781250   \n",
      "4           3480.222168         19.555555     246030.671875   \n",
      "...                 ...               ...               ...   \n",
      "74180459     460.888885          9.222222       9255.666992   \n",
      "74180460     460.888885          9.222222      18476.445312   \n",
      "74180461     460.888885          9.222222      12181.777344   \n",
      "74180462     460.888885         10.888889      34827.554688   \n",
      "74180463     460.888885          2.125000       1874.111084   \n",
      "\n",
      "          short_product_name_count  Client_Type_count  \n",
      "0                    245876.671875       1.745511e+04  \n",
      "1                    204310.000000       1.745511e+04  \n",
      "2                    165374.890625       1.745511e+04  \n",
      "3                    348308.875000       1.745511e+04  \n",
      "4                    293833.656250       1.745511e+04  \n",
      "...                            ...                ...  \n",
      "74180459              28186.777344       1.616014e+06  \n",
      "74180460              22459.888672       1.616014e+06  \n",
      "74180461              82222.109375       1.616014e+06  \n",
      "74180462             348308.875000       1.616014e+06  \n",
      "74180463              16886.222656       1.616014e+06  \n",
      "\n",
      "[74180464 rows x 30 columns] data... \n",
      "<class 'pandas.core.frame.DataFrame'>\n",
      "Int64Index: 74180464 entries, 0 to 74180463\n",
      "Data columns (total 30 columns):\n",
      "Semana                       uint8\n",
      "Agencia_ID                   uint16\n",
      "Canal_ID                     uint8\n",
      "Ruta_SAK                     uint16\n",
      "Cliente_ID                   uint32\n",
      "Producto_ID                  uint16\n",
      "Venta_uni_hoy                int64\n",
      "Venta_hoy                    float64\n",
      "Dev_uni_proxima              int64\n",
      "Dev_proxima                  float64\n",
      "Demanda_uni_equil            uint16\n",
      "NombreProducto               object\n",
      "short_product_name           object\n",
      "pieces                       float64\n",
      "weight                       float64\n",
      "brand                        object\n",
      "weight_per_piece             float64\n",
      "Client_Type                  object\n",
      "Demanda_uni_equil_tminus1    float16\n",
      "Demanda_uni_equil_tminus2    float16\n",
      "Demanda_uni_equil_tminus3    float16\n",
      "Demanda_uni_equil_tminus4    float16\n",
      "Demanda_uni_equil_tminus5    float16\n",
      "Agencia_ID_count             float32\n",
      "Canal_ID_count               float32\n",
      "Ruta_SAK_count               float32\n",
      "Cliente_ID_count             float32\n",
      "Producto_ID_count            float32\n",
      "short_product_name_count     float32\n",
      "Client_Type_count            float32\n",
      "dtypes: float16(5), float32(7), float64(5), int64(2), object(4), uint16(4), uint32(1), uint8(2)\n",
      "memory usage: 10.2+ GB\n",
      "None\n",
      "\n"
     ]
    }
   ],
   "source": [
    "#print train.columns\n",
    "print (\"Adding id frequency variables... \")\n",
    "train, test = add_mean_freq_by_id(train, test)\n",
    "print (\"Complete!\")\n",
    "print ()\n",
    "checkMemoryUsage(train)"
   ]
  },
  {
   "cell_type": "code",
   "execution_count": 13,
   "metadata": {},
   "outputs": [
    {
     "data": {
      "text/html": [
       "<div>\n",
       "<style scoped>\n",
       "    .dataframe tbody tr th:only-of-type {\n",
       "        vertical-align: middle;\n",
       "    }\n",
       "\n",
       "    .dataframe tbody tr th {\n",
       "        vertical-align: top;\n",
       "    }\n",
       "\n",
       "    .dataframe thead th {\n",
       "        text-align: right;\n",
       "    }\n",
       "</style>\n",
       "<table border=\"1\" class=\"dataframe\">\n",
       "  <thead>\n",
       "    <tr style=\"text-align: right;\">\n",
       "      <th></th>\n",
       "      <th>Semana</th>\n",
       "      <th>Agencia_ID</th>\n",
       "      <th>Canal_ID</th>\n",
       "      <th>Ruta_SAK</th>\n",
       "      <th>Cliente_ID</th>\n",
       "      <th>Producto_ID</th>\n",
       "      <th>Venta_uni_hoy</th>\n",
       "      <th>Venta_hoy</th>\n",
       "      <th>Dev_uni_proxima</th>\n",
       "      <th>Dev_proxima</th>\n",
       "      <th>...</th>\n",
       "      <th>Demanda_uni_equil_tminus3</th>\n",
       "      <th>Demanda_uni_equil_tminus4</th>\n",
       "      <th>Demanda_uni_equil_tminus5</th>\n",
       "      <th>Agencia_ID_count</th>\n",
       "      <th>Canal_ID_count</th>\n",
       "      <th>Ruta_SAK_count</th>\n",
       "      <th>Cliente_ID_count</th>\n",
       "      <th>Producto_ID_count</th>\n",
       "      <th>short_product_name_count</th>\n",
       "      <th>Client_Type_count</th>\n",
       "    </tr>\n",
       "  </thead>\n",
       "  <tbody>\n",
       "    <tr>\n",
       "      <th>0</th>\n",
       "      <td>3</td>\n",
       "      <td>1110</td>\n",
       "      <td>7</td>\n",
       "      <td>3301</td>\n",
       "      <td>15766</td>\n",
       "      <td>1212</td>\n",
       "      <td>3</td>\n",
       "      <td>25.14</td>\n",
       "      <td>0</td>\n",
       "      <td>0.0</td>\n",
       "      <td>...</td>\n",
       "      <td>0.0</td>\n",
       "      <td>0.0</td>\n",
       "      <td>0.0</td>\n",
       "      <td>6726.222168</td>\n",
       "      <td>81297.335938</td>\n",
       "      <td>3480.222168</td>\n",
       "      <td>19.555555</td>\n",
       "      <td>144403.000000</td>\n",
       "      <td>245876.671875</td>\n",
       "      <td>17455.111328</td>\n",
       "    </tr>\n",
       "    <tr>\n",
       "      <th>1</th>\n",
       "      <td>3</td>\n",
       "      <td>1110</td>\n",
       "      <td>7</td>\n",
       "      <td>3301</td>\n",
       "      <td>15766</td>\n",
       "      <td>1216</td>\n",
       "      <td>4</td>\n",
       "      <td>33.52</td>\n",
       "      <td>0</td>\n",
       "      <td>0.0</td>\n",
       "      <td>...</td>\n",
       "      <td>0.0</td>\n",
       "      <td>0.0</td>\n",
       "      <td>0.0</td>\n",
       "      <td>6726.222168</td>\n",
       "      <td>81297.335938</td>\n",
       "      <td>3480.222168</td>\n",
       "      <td>19.555555</td>\n",
       "      <td>123046.554688</td>\n",
       "      <td>204310.000000</td>\n",
       "      <td>17455.111328</td>\n",
       "    </tr>\n",
       "    <tr>\n",
       "      <th>2</th>\n",
       "      <td>3</td>\n",
       "      <td>1110</td>\n",
       "      <td>7</td>\n",
       "      <td>3301</td>\n",
       "      <td>15766</td>\n",
       "      <td>1238</td>\n",
       "      <td>4</td>\n",
       "      <td>39.32</td>\n",
       "      <td>0</td>\n",
       "      <td>0.0</td>\n",
       "      <td>...</td>\n",
       "      <td>0.0</td>\n",
       "      <td>0.0</td>\n",
       "      <td>0.0</td>\n",
       "      <td>6726.222168</td>\n",
       "      <td>81297.335938</td>\n",
       "      <td>3480.222168</td>\n",
       "      <td>19.555555</td>\n",
       "      <td>143756.671875</td>\n",
       "      <td>165374.890625</td>\n",
       "      <td>17455.111328</td>\n",
       "    </tr>\n",
       "    <tr>\n",
       "      <th>3</th>\n",
       "      <td>3</td>\n",
       "      <td>1110</td>\n",
       "      <td>7</td>\n",
       "      <td>3301</td>\n",
       "      <td>15766</td>\n",
       "      <td>1240</td>\n",
       "      <td>4</td>\n",
       "      <td>33.52</td>\n",
       "      <td>0</td>\n",
       "      <td>0.0</td>\n",
       "      <td>...</td>\n",
       "      <td>0.0</td>\n",
       "      <td>0.0</td>\n",
       "      <td>0.0</td>\n",
       "      <td>6726.222168</td>\n",
       "      <td>81297.335938</td>\n",
       "      <td>3480.222168</td>\n",
       "      <td>19.555555</td>\n",
       "      <td>253942.781250</td>\n",
       "      <td>348308.875000</td>\n",
       "      <td>17455.111328</td>\n",
       "    </tr>\n",
       "    <tr>\n",
       "      <th>4</th>\n",
       "      <td>3</td>\n",
       "      <td>1110</td>\n",
       "      <td>7</td>\n",
       "      <td>3301</td>\n",
       "      <td>15766</td>\n",
       "      <td>1242</td>\n",
       "      <td>3</td>\n",
       "      <td>22.92</td>\n",
       "      <td>0</td>\n",
       "      <td>0.0</td>\n",
       "      <td>...</td>\n",
       "      <td>0.0</td>\n",
       "      <td>0.0</td>\n",
       "      <td>0.0</td>\n",
       "      <td>6726.222168</td>\n",
       "      <td>81297.335938</td>\n",
       "      <td>3480.222168</td>\n",
       "      <td>19.555555</td>\n",
       "      <td>246030.671875</td>\n",
       "      <td>293833.656250</td>\n",
       "      <td>17455.111328</td>\n",
       "    </tr>\n",
       "  </tbody>\n",
       "</table>\n",
       "<p>5 rows × 30 columns</p>\n",
       "</div>"
      ],
      "text/plain": [
       "   Semana  Agencia_ID  Canal_ID  Ruta_SAK  Cliente_ID  Producto_ID  \\\n",
       "0       3        1110         7      3301       15766         1212   \n",
       "1       3        1110         7      3301       15766         1216   \n",
       "2       3        1110         7      3301       15766         1238   \n",
       "3       3        1110         7      3301       15766         1240   \n",
       "4       3        1110         7      3301       15766         1242   \n",
       "\n",
       "   Venta_uni_hoy  Venta_hoy  Dev_uni_proxima  Dev_proxima  ...  \\\n",
       "0              3      25.14                0          0.0  ...   \n",
       "1              4      33.52                0          0.0  ...   \n",
       "2              4      39.32                0          0.0  ...   \n",
       "3              4      33.52                0          0.0  ...   \n",
       "4              3      22.92                0          0.0  ...   \n",
       "\n",
       "   Demanda_uni_equil_tminus3 Demanda_uni_equil_tminus4  \\\n",
       "0                        0.0                       0.0   \n",
       "1                        0.0                       0.0   \n",
       "2                        0.0                       0.0   \n",
       "3                        0.0                       0.0   \n",
       "4                        0.0                       0.0   \n",
       "\n",
       "  Demanda_uni_equil_tminus5  Agencia_ID_count  Canal_ID_count Ruta_SAK_count  \\\n",
       "0                       0.0       6726.222168    81297.335938    3480.222168   \n",
       "1                       0.0       6726.222168    81297.335938    3480.222168   \n",
       "2                       0.0       6726.222168    81297.335938    3480.222168   \n",
       "3                       0.0       6726.222168    81297.335938    3480.222168   \n",
       "4                       0.0       6726.222168    81297.335938    3480.222168   \n",
       "\n",
       "   Cliente_ID_count Producto_ID_count  short_product_name_count  \\\n",
       "0         19.555555     144403.000000             245876.671875   \n",
       "1         19.555555     123046.554688             204310.000000   \n",
       "2         19.555555     143756.671875             165374.890625   \n",
       "3         19.555555     253942.781250             348308.875000   \n",
       "4         19.555555     246030.671875             293833.656250   \n",
       "\n",
       "   Client_Type_count  \n",
       "0       17455.111328  \n",
       "1       17455.111328  \n",
       "2       17455.111328  \n",
       "3       17455.111328  \n",
       "4       17455.111328  \n",
       "\n",
       "[5 rows x 30 columns]"
      ]
     },
     "execution_count": 13,
     "metadata": {},
     "output_type": "execute_result"
    }
   ],
   "source": [
    "train.head()"
   ]
  },
  {
   "cell_type": "code",
   "execution_count": 32,
   "metadata": {},
   "outputs": [
    {
     "name": "stdout",
     "output_type": "stream",
     "text": [
      "short_product_name    5811\n",
      "brand                    0\n",
      "Client_Type              0\n",
      "dtype: int64\n",
      "short_product_name    0\n",
      "brand                 0\n",
      "Client_Type           0\n",
      "dtype: int64\n"
     ]
    }
   ],
   "source": [
    "columns = list(train.columns[train.dtypes == 'object'])\n",
    "print(train[columns].isnull().sum())\n",
    "train['short_product_name']=train['short_product_name'].fillna('identific')\n",
    "print(train[columns].isnull().sum())"
   ]
  },
  {
   "cell_type": "code",
   "execution_count": 35,
   "metadata": {},
   "outputs": [
    {
     "name": "stdout",
     "output_type": "stream",
     "text": [
      "short_product_name    558\n",
      "brand                   0\n",
      "Client_Type             0\n",
      "dtype: int64\n",
      "short_product_name    0\n",
      "brand                 0\n",
      "Client_Type           0\n",
      "dtype: int64\n"
     ]
    }
   ],
   "source": [
    "columns = list(test.columns[test.dtypes == 'object'])\n",
    "print(test[columns].isnull().sum())\n",
    "test['short_product_name']=test['short_product_name'].fillna('identific')\n",
    "print(test[columns].isnull().sum())"
   ]
  },
  {
   "cell_type": "code",
   "execution_count": 36,
   "metadata": {},
   "outputs": [],
   "source": [
    "\n",
    "\n",
    "def encode_labels(train, test, threshold): \n",
    "    \"\"\" Converts categorical features to integers in train and test data.\n",
    "        Groups values in categorical features appearing less than threshold into a separate category.\n",
    "        Returns train and test data.\n",
    "    \"\"\"\n",
    "    \n",
    "    # Identify columns for label encoding\n",
    "    columns = list(train.columns[train.dtypes == 'object'])\n",
    "       \n",
    "    # Return data if no columns identified   \n",
    "    if(len(columns) == 0):\n",
    "        return train, test\n",
    "    \n",
    "    \n",
    "    \n",
    "    print('Transforming ',columns)\n",
    "    # Transform columns\n",
    "    for column in columns: \n",
    "        \n",
    "        # Filter data\n",
    "        classes = train[column].unique()\n",
    "        counts = train[column].value_counts()\n",
    "        counts_classes = counts.index[counts <= threshold]\n",
    "        \n",
    "        # Set classes under threshold to 'identific'\n",
    "        train.ix[train[column].isin(counts_classes), column] = 'identific'        \n",
    "        test.ix[test[column].isin(counts_classes), column] = 'identific'          \n",
    "        \n",
    "        # Classes in test not in train sent to 'identific'\n",
    "        test.ix[test[column].isin(classes) == False, column] = 'identific'\n",
    "        \n",
    "        # Perform label encoding\n",
    "        le = LabelEncoder()\n",
    "        le.fit(train[column].astype(str))\n",
    "        train[column] = le.transform(train[column]).astype(np.uint32)\n",
    "        test[column] = le.transform(test[column]).astype(np.uint32)\n",
    "        \n",
    "    return train, test\n",
    "\n"
   ]
  },
  {
   "cell_type": "code",
   "execution_count": 37,
   "metadata": {},
   "outputs": [
    {
     "name": "stdout",
     "output_type": "stream",
     "text": [
      "Encoding labels in data...\n",
      "Transforming  ['short_product_name', 'brand', 'Client_Type']\n"
     ]
    },
    {
     "name": "stderr",
     "output_type": "stream",
     "text": [
      "C:\\Users\\user\\Anaconda3\\lib\\site-packages\\ipykernel_launcher.py:28: FutureWarning: \n",
      ".ix is deprecated. Please use\n",
      ".loc for label based indexing or\n",
      ".iloc for positional indexing\n",
      "\n",
      "See the documentation here:\n",
      "http://pandas.pydata.org/pandas-docs/stable/user_guide/indexing.html#ix-indexer-is-deprecated\n",
      "C:\\Users\\user\\Anaconda3\\lib\\site-packages\\ipykernel_launcher.py:29: FutureWarning: \n",
      ".ix is deprecated. Please use\n",
      ".loc for label based indexing or\n",
      ".iloc for positional indexing\n",
      "\n",
      "See the documentation here:\n",
      "http://pandas.pydata.org/pandas-docs/stable/user_guide/indexing.html#ix-indexer-is-deprecated\n",
      "C:\\Users\\user\\Anaconda3\\lib\\site-packages\\ipykernel_launcher.py:32: FutureWarning: \n",
      ".ix is deprecated. Please use\n",
      ".loc for label based indexing or\n",
      ".iloc for positional indexing\n",
      "\n",
      "See the documentation here:\n",
      "http://pandas.pydata.org/pandas-docs/stable/user_guide/indexing.html#ix-indexer-is-deprecated\n"
     ]
    },
    {
     "name": "stdout",
     "output_type": "stream",
     "text": [
      "Done...\n"
     ]
    }
   ],
   "source": [
    "print (\"Encoding labels in data...\")\n",
    "train, test = encode_labels(train, test, threshold = 4)\n",
    "print (\"Done...\")"
   ]
  },
  {
   "cell_type": "code",
   "execution_count": 39,
   "metadata": {},
   "outputs": [
    {
     "data": {
      "text/html": [
       "<div>\n",
       "<style scoped>\n",
       "    .dataframe tbody tr th:only-of-type {\n",
       "        vertical-align: middle;\n",
       "    }\n",
       "\n",
       "    .dataframe tbody tr th {\n",
       "        vertical-align: top;\n",
       "    }\n",
       "\n",
       "    .dataframe thead th {\n",
       "        text-align: right;\n",
       "    }\n",
       "</style>\n",
       "<table border=\"1\" class=\"dataframe\">\n",
       "  <thead>\n",
       "    <tr style=\"text-align: right;\">\n",
       "      <th></th>\n",
       "      <th>Semana</th>\n",
       "      <th>Agencia_ID</th>\n",
       "      <th>Canal_ID</th>\n",
       "      <th>Ruta_SAK</th>\n",
       "      <th>Cliente_ID</th>\n",
       "      <th>Producto_ID</th>\n",
       "      <th>Venta_uni_hoy</th>\n",
       "      <th>Venta_hoy</th>\n",
       "      <th>Dev_uni_proxima</th>\n",
       "      <th>Dev_proxima</th>\n",
       "      <th>Demanda_uni_equil</th>\n",
       "      <th>NombreProducto</th>\n",
       "      <th>short_product_name</th>\n",
       "      <th>pieces</th>\n",
       "      <th>weight</th>\n",
       "      <th>brand</th>\n",
       "      <th>weight_per_piece</th>\n",
       "      <th>Client_Type</th>\n",
       "      <th>Demanda_uni_equil_tminus1</th>\n",
       "      <th>Demanda_uni_equil_tminus2</th>\n",
       "      <th>Demanda_uni_equil_tminus3</th>\n",
       "      <th>Demanda_uni_equil_tminus4</th>\n",
       "      <th>Demanda_uni_equil_tminus5</th>\n",
       "      <th>Agencia_ID_count</th>\n",
       "      <th>Canal_ID_count</th>\n",
       "      <th>Ruta_SAK_count</th>\n",
       "      <th>Cliente_ID_count</th>\n",
       "      <th>Producto_ID_count</th>\n",
       "      <th>short_product_name_count</th>\n",
       "      <th>Client_Type_count</th>\n",
       "    </tr>\n",
       "  </thead>\n",
       "  <tbody>\n",
       "    <tr>\n",
       "      <th>0</th>\n",
       "      <td>3</td>\n",
       "      <td>1110</td>\n",
       "      <td>7</td>\n",
       "      <td>3301</td>\n",
       "      <td>15766</td>\n",
       "      <td>1212</td>\n",
       "      <td>3</td>\n",
       "      <td>25.14</td>\n",
       "      <td>0</td>\n",
       "      <td>0.0</td>\n",
       "      <td>3</td>\n",
       "      <td>1104</td>\n",
       "      <td>427</td>\n",
       "      <td>2.0</td>\n",
       "      <td>120.0</td>\n",
       "      <td>1</td>\n",
       "      <td>60.00</td>\n",
       "      <td>11</td>\n",
       "      <td>0.0</td>\n",
       "      <td>0.0</td>\n",
       "      <td>0.0</td>\n",
       "      <td>0.0</td>\n",
       "      <td>0.0</td>\n",
       "      <td>6726.222168</td>\n",
       "      <td>81297.335938</td>\n",
       "      <td>3480.222168</td>\n",
       "      <td>19.555555</td>\n",
       "      <td>144403.000000</td>\n",
       "      <td>245876.671875</td>\n",
       "      <td>17455.111328</td>\n",
       "    </tr>\n",
       "    <tr>\n",
       "      <th>1</th>\n",
       "      <td>3</td>\n",
       "      <td>1110</td>\n",
       "      <td>7</td>\n",
       "      <td>3301</td>\n",
       "      <td>15766</td>\n",
       "      <td>1216</td>\n",
       "      <td>4</td>\n",
       "      <td>33.52</td>\n",
       "      <td>0</td>\n",
       "      <td>0.0</td>\n",
       "      <td>4</td>\n",
       "      <td>1110</td>\n",
       "      <td>428</td>\n",
       "      <td>2.0</td>\n",
       "      <td>135.0</td>\n",
       "      <td>1</td>\n",
       "      <td>67.50</td>\n",
       "      <td>11</td>\n",
       "      <td>0.0</td>\n",
       "      <td>0.0</td>\n",
       "      <td>0.0</td>\n",
       "      <td>0.0</td>\n",
       "      <td>0.0</td>\n",
       "      <td>6726.222168</td>\n",
       "      <td>81297.335938</td>\n",
       "      <td>3480.222168</td>\n",
       "      <td>19.555555</td>\n",
       "      <td>123046.554688</td>\n",
       "      <td>204310.000000</td>\n",
       "      <td>17455.111328</td>\n",
       "    </tr>\n",
       "    <tr>\n",
       "      <th>2</th>\n",
       "      <td>3</td>\n",
       "      <td>1110</td>\n",
       "      <td>7</td>\n",
       "      <td>3301</td>\n",
       "      <td>15766</td>\n",
       "      <td>1238</td>\n",
       "      <td>4</td>\n",
       "      <td>39.32</td>\n",
       "      <td>0</td>\n",
       "      <td>0.0</td>\n",
       "      <td>4</td>\n",
       "      <td>968</td>\n",
       "      <td>372</td>\n",
       "      <td>2.0</td>\n",
       "      <td>140.0</td>\n",
       "      <td>1</td>\n",
       "      <td>70.00</td>\n",
       "      <td>11</td>\n",
       "      <td>0.0</td>\n",
       "      <td>0.0</td>\n",
       "      <td>0.0</td>\n",
       "      <td>0.0</td>\n",
       "      <td>0.0</td>\n",
       "      <td>6726.222168</td>\n",
       "      <td>81297.335938</td>\n",
       "      <td>3480.222168</td>\n",
       "      <td>19.555555</td>\n",
       "      <td>143756.671875</td>\n",
       "      <td>165374.890625</td>\n",
       "      <td>17455.111328</td>\n",
       "    </tr>\n",
       "    <tr>\n",
       "      <th>3</th>\n",
       "      <td>3</td>\n",
       "      <td>1110</td>\n",
       "      <td>7</td>\n",
       "      <td>3301</td>\n",
       "      <td>15766</td>\n",
       "      <td>1240</td>\n",
       "      <td>4</td>\n",
       "      <td>33.52</td>\n",
       "      <td>0</td>\n",
       "      <td>0.0</td>\n",
       "      <td>4</td>\n",
       "      <td>685</td>\n",
       "      <td>280</td>\n",
       "      <td>4.0</td>\n",
       "      <td>125.0</td>\n",
       "      <td>1</td>\n",
       "      <td>31.25</td>\n",
       "      <td>11</td>\n",
       "      <td>0.0</td>\n",
       "      <td>0.0</td>\n",
       "      <td>0.0</td>\n",
       "      <td>0.0</td>\n",
       "      <td>0.0</td>\n",
       "      <td>6726.222168</td>\n",
       "      <td>81297.335938</td>\n",
       "      <td>3480.222168</td>\n",
       "      <td>19.555555</td>\n",
       "      <td>253942.781250</td>\n",
       "      <td>348308.875000</td>\n",
       "      <td>17455.111328</td>\n",
       "    </tr>\n",
       "    <tr>\n",
       "      <th>4</th>\n",
       "      <td>3</td>\n",
       "      <td>1110</td>\n",
       "      <td>7</td>\n",
       "      <td>3301</td>\n",
       "      <td>15766</td>\n",
       "      <td>1242</td>\n",
       "      <td>3</td>\n",
       "      <td>22.92</td>\n",
       "      <td>0</td>\n",
       "      <td>0.0</td>\n",
       "      <td>3</td>\n",
       "      <td>469</td>\n",
       "      <td>184</td>\n",
       "      <td>6.0</td>\n",
       "      <td>105.0</td>\n",
       "      <td>1</td>\n",
       "      <td>17.50</td>\n",
       "      <td>11</td>\n",
       "      <td>0.0</td>\n",
       "      <td>0.0</td>\n",
       "      <td>0.0</td>\n",
       "      <td>0.0</td>\n",
       "      <td>0.0</td>\n",
       "      <td>6726.222168</td>\n",
       "      <td>81297.335938</td>\n",
       "      <td>3480.222168</td>\n",
       "      <td>19.555555</td>\n",
       "      <td>246030.671875</td>\n",
       "      <td>293833.656250</td>\n",
       "      <td>17455.111328</td>\n",
       "    </tr>\n",
       "  </tbody>\n",
       "</table>\n",
       "</div>"
      ],
      "text/plain": [
       "   Semana  Agencia_ID  Canal_ID  Ruta_SAK  Cliente_ID  Producto_ID  Venta_uni_hoy  Venta_hoy  Dev_uni_proxima  Dev_proxima  Demanda_uni_equil  NombreProducto  short_product_name  pieces  weight  brand  weight_per_piece  Client_Type  Demanda_uni_equil_tminus1  Demanda_uni_equil_tminus2  Demanda_uni_equil_tminus3  Demanda_uni_equil_tminus4  Demanda_uni_equil_tminus5  Agencia_ID_count  Canal_ID_count  Ruta_SAK_count  Cliente_ID_count  Producto_ID_count  short_product_name_count  Client_Type_count\n",
       "0       3        1110         7      3301       15766         1212              3      25.14                0          0.0                  3            1104                 427     2.0   120.0      1             60.00           11                        0.0                        0.0                        0.0                        0.0                        0.0       6726.222168    81297.335938     3480.222168         19.555555      144403.000000             245876.671875       17455.111328\n",
       "1       3        1110         7      3301       15766         1216              4      33.52                0          0.0                  4            1110                 428     2.0   135.0      1             67.50           11                        0.0                        0.0                        0.0                        0.0                        0.0       6726.222168    81297.335938     3480.222168         19.555555      123046.554688             204310.000000       17455.111328\n",
       "2       3        1110         7      3301       15766         1238              4      39.32                0          0.0                  4             968                 372     2.0   140.0      1             70.00           11                        0.0                        0.0                        0.0                        0.0                        0.0       6726.222168    81297.335938     3480.222168         19.555555      143756.671875             165374.890625       17455.111328\n",
       "3       3        1110         7      3301       15766         1240              4      33.52                0          0.0                  4             685                 280     4.0   125.0      1             31.25           11                        0.0                        0.0                        0.0                        0.0                        0.0       6726.222168    81297.335938     3480.222168         19.555555      253942.781250             348308.875000       17455.111328\n",
       "4       3        1110         7      3301       15766         1242              3      22.92                0          0.0                  3             469                 184     6.0   105.0      1             17.50           11                        0.0                        0.0                        0.0                        0.0                        0.0       6726.222168    81297.335938     3480.222168         19.555555      246030.671875             293833.656250       17455.111328"
      ]
     },
     "execution_count": 39,
     "metadata": {},
     "output_type": "execute_result"
    }
   ],
   "source": [
    "pd.set_option('display.max_rows', 500)\n",
    "pd.set_option('display.max_columns', 500)\n",
    "pd.set_option('display.width', 1000)\n",
    "train.head()"
   ]
  },
  {
   "cell_type": "code",
   "execution_count": null,
   "metadata": {},
   "outputs": [],
   "source": []
  },
  {
   "cell_type": "code",
   "execution_count": 40,
   "metadata": {},
   "outputs": [],
   "source": [
    "columns = [\n",
    "            'Semana', 'Agencia_ID', 'Canal_ID', 'Ruta_SAK', 'Cliente_ID', 'Producto_ID'\n",
    "            , 'Client_Type', 'short_product_name' \n",
    "            , 'weight', 'pieces', 'weight_per_piece'\n",
    "            , 'Demanda_uni_equil', 'Demanda_uni_equil_tminus1', 'Demanda_uni_equil_tminus2'\n",
    "            , 'Demanda_uni_equil_tminus3', 'Demanda_uni_equil_tminus4', 'Demanda_uni_equil_tminus5'\n",
    "            , 'Agencia_ID_count', 'Canal_ID_count', 'Ruta_SAK_count', 'Cliente_ID_count'\n",
    "            , 'Producto_ID_count', 'Client_Type_count'\n",
    "          ]\n",
    "\n",
    "train = train.reindex(columns = columns)\n",
    "columns.remove('Demanda_uni_equil')\n",
    "test = test.reindex(columns = columns)"
   ]
  },
  {
   "cell_type": "code",
   "execution_count": 42,
   "metadata": {},
   "outputs": [
    {
     "name": "stdout",
     "output_type": "stream",
     "text": [
      "\n",
      "Checking memory usage statistics for           Semana  Agencia_ID  Canal_ID  Ruta_SAK  Cliente_ID  Producto_ID  Client_Type  short_product_name  weight  pieces  weight_per_piece  Demanda_uni_equil  Demanda_uni_equil_tminus1  Demanda_uni_equil_tminus2  Demanda_uni_equil_tminus3  Demanda_uni_equil_tminus4  Demanda_uni_equil_tminus5  Agencia_ID_count  Canal_ID_count  Ruta_SAK_count  Cliente_ID_count  Producto_ID_count  Client_Type_count\n",
      "0              3        1110         7      3301       15766         1212           11                 427   120.0     2.0         60.000000                  3                        0.0                        0.0                        0.0                        0.0                        0.0       6726.222168    8.129734e+04     3480.222168         19.555555      144403.000000       1.745511e+04\n",
      "1              3        1110         7      3301       15766         1216           11                 428   135.0     2.0         67.500000                  4                        0.0                        0.0                        0.0                        0.0                        0.0       6726.222168    8.129734e+04     3480.222168         19.555555      123046.554688       1.745511e+04\n",
      "2              3        1110         7      3301       15766         1238           11                 372   140.0     2.0         70.000000                  4                        0.0                        0.0                        0.0                        0.0                        0.0       6726.222168    8.129734e+04     3480.222168         19.555555      143756.671875       1.745511e+04\n",
      "3              3        1110         7      3301       15766         1240           11                 280   125.0     4.0         31.250000                  4                        0.0                        0.0                        0.0                        0.0                        0.0       6726.222168    8.129734e+04     3480.222168         19.555555      253942.781250       1.745511e+04\n",
      "4              3        1110         7      3301       15766         1242           11                 184   105.0     6.0         17.500000                  3                        0.0                        0.0                        0.0                        0.0                        0.0       6726.222168    8.129734e+04     3480.222168         19.555555      246030.671875       1.745511e+04\n",
      "...          ...         ...       ...       ...         ...          ...          ...                 ...     ...     ...               ...                ...                        ...                        ...                        ...                        ...                        ...               ...             ...             ...               ...                ...                ...\n",
      "74180459       9       25759         1      5517     4528866        32873            9                 116   140.0     NaN               NaN                  4                        0.0                        0.0                        0.0                        0.0                        0.0      26337.222656    8.197713e+06      460.888885          9.222222        9255.666992       1.616014e+06\n",
      "74180460       9       25759         1      5517     4528866        34226            9                 274   200.0     NaN               NaN                  4                        0.0                        0.0                        0.0                        0.0                        0.0      26337.222656    8.197713e+06      460.888885          9.222222       18476.445312       1.616014e+06\n",
      "74180461       9       25759         1      5517     4528866        45112            9                 152   180.0     3.0         60.000000                  4                        0.0                        0.0                        0.0                        0.0                        0.0      26337.222656    8.197713e+06      460.888885          9.222222       12181.777344       1.616014e+06\n",
      "74180462       9       25759         1      5517     4547943        40217            9                 280   157.0     3.0         52.333333                  0                        6.0                        5.0                        0.0                        0.0                        6.0      26337.222656    8.197713e+06      460.888885         10.888889       34827.554688       1.616014e+06\n",
      "74180463       9       25759         1      5517     4708097        43159            9                 566   175.0    15.0         11.666667                  1                        0.0                        0.0                        0.0                        0.0                        0.0      26337.222656    8.197713e+06      460.888885          2.125000        1874.111084       1.616014e+06\n",
      "\n",
      "[74180464 rows x 23 columns] data... \n",
      "<class 'pandas.core.frame.DataFrame'>\n",
      "Int64Index: 74180464 entries, 0 to 74180463\n",
      "Data columns (total 23 columns):\n",
      "Semana                       uint8\n",
      "Agencia_ID                   uint16\n",
      "Canal_ID                     uint8\n",
      "Ruta_SAK                     uint16\n",
      "Cliente_ID                   uint32\n",
      "Producto_ID                  uint16\n",
      "Client_Type                  uint32\n",
      "short_product_name           uint32\n",
      "weight                       float64\n",
      "pieces                       float64\n",
      "weight_per_piece             float64\n",
      "Demanda_uni_equil            uint16\n",
      "Demanda_uni_equil_tminus1    float16\n",
      "Demanda_uni_equil_tminus2    float16\n",
      "Demanda_uni_equil_tminus3    float16\n",
      "Demanda_uni_equil_tminus4    float16\n",
      "Demanda_uni_equil_tminus5    float16\n",
      "Agencia_ID_count             float32\n",
      "Canal_ID_count               float32\n",
      "Ruta_SAK_count               float32\n",
      "Cliente_ID_count             float32\n",
      "Producto_ID_count            float32\n",
      "Client_Type_count            float32\n",
      "dtypes: float16(5), float32(6), float64(3), uint16(4), uint32(3), uint8(2)\n",
      "memory usage: 6.1 GB\n",
      "None\n",
      "\n"
     ]
    }
   ],
   "source": [
    "checkMemoryUsage(train)\n",
    "train.to_csv(\"train_modified_for_prediction.csv\", index = False, header = True)\n",
    "test.to_csv(\"test_modified_for_prediction.csv\", index = False, header = True)"
   ]
  },
  {
   "cell_type": "markdown",
   "metadata": {},
   "source": [
    "# Model Building and Evaluation"
   ]
  },
  {
   "cell_type": "code",
   "execution_count": 10,
   "metadata": {},
   "outputs": [],
   "source": [
    "import xgboost as xgb\n",
    "\n",
    "import re\n",
    "import gc\n",
    "from sklearn.model_selection import train_test_split\n",
    "import random"
   ]
  },
  {
   "cell_type": "code",
   "execution_count": 4,
   "metadata": {},
   "outputs": [],
   "source": [
    "random.seed(0)  # for reproduciblity purpose"
   ]
  },
  {
   "cell_type": "code",
   "execution_count": 5,
   "metadata": {},
   "outputs": [],
   "source": [
    "def load_data(): \n",
    "    \"\"\" Loads and returns train and test data. \n",
    "    \"\"\"\n",
    "    \n",
    "    \n",
    "    # Load data efficiently by setting numpy data types for variables\n",
    "    train_types = {\n",
    "         'Semana': np.uint8, 'Agencia_ID': np.uint16\n",
    "         , 'Canal_ID': np.uint8\n",
    "         , 'Ruta_SAK': np.uint16, 'Cliente_ID': np.uint32, 'Producto_ID': np.uint16\n",
    "         , 'Client_Type': np.uint32\n",
    "         , 'short_product_name': np.uint32, 'weight': np.float32, 'pieces': np.float32, 'weight_per_piece': np.float32 \n",
    "         , 'Demanda_uni_equil': np.float16\n",
    "         , 'Demanda_uni_equil_tminus2': np.float16, 'Demanda_uni_equil_tminus3': np.float16\n",
    "         , 'Demanda_uni_equil_tminus4': np.float16, 'Demanda_uni_equil_tminus5': np.float16  \n",
    "         , 'Agencia_ID_count': np.float32, 'Canal_ID_count': np.float32, 'Ruta_SAK_count': np.float32\n",
    "         , 'Cliente_ID_count': np.float32, 'Producto_ID_count': np.float32, 'Client_Type_count': np.float32\n",
    "         }  \n",
    "         \n",
    "    test_types = {\n",
    "         'Semana': np.uint8, 'Agencia_ID': np.uint16\n",
    "         , 'Canal_ID': np.uint8\n",
    "         , 'Ruta_SAK': np.uint16, 'Cliente_ID': np.uint32, 'Producto_ID': np.uint16\n",
    "         , 'Client_Type': np.uint32\n",
    "         , 'short_product_name': np.uint32, 'weight': np.float32, 'pieces': np.float32, 'weight_per_piece': np.float32 \n",
    "         , 'Demanda_uni_equil_tminus2': np.float16, 'Demanda_uni_equil_tminus3': np.float16\n",
    "         , 'Demanda_uni_equil_tminus4': np.float16, 'Demanda_uni_equil_tminus5': np.float16          \n",
    "         , 'Agencia_ID_count': np.float32, 'Canal_ID_count': np.float32, 'Ruta_SAK_count': np.float32\n",
    "         , 'Cliente_ID_count': np.float32, 'Producto_ID_count': np.float32, 'Client_Type_count': np.float32\n",
    "         }  \n",
    "    \n",
    "    train = pd.read_csv(\"./train_modified_for_prediction.csv\", sep = \",\", usecols = train_types.keys(), dtype = train_types,nrows=7090232) \n",
    "    #test = pd.read_csv(\"./test_modified_for_prediction.csv\", sep = \",\", usecols = test_types.keys(), dtype = test_types) \n",
    "\n",
    "    return train"
   ]
  },
  {
   "cell_type": "code",
   "execution_count": 6,
   "metadata": {},
   "outputs": [
    {
     "name": "stdout",
     "output_type": "stream",
     "text": [
      "Loading data...\n",
      "Done\n",
      "\n",
      "\n",
      "Checking memory usage statistics for          Semana  Agencia_ID  Canal_ID  Ruta_SAK  Cliente_ID  Producto_ID  \\\n",
      "0             3        1110         7      3301       15766         1212   \n",
      "1             3        1110         7      3301       15766         1216   \n",
      "2             3        1110         7      3301       15766         1238   \n",
      "3             3        1110         7      3301       15766         1240   \n",
      "4             3        1110         7      3301       15766         1242   \n",
      "...         ...         ...       ...       ...         ...          ...   \n",
      "7090227       3        1945         1      1251      518328        41938   \n",
      "7090228       3        1945         1      1251      518328        48417   \n",
      "7090229       3        1945         1      1251      518328        48421   \n",
      "7090230       3        1945         1      1251      518345         1146   \n",
      "7090231       3        1945         1      1251      518345         1150   \n",
      "\n",
      "         Client_Type  short_product_name  weight  pieces  ...  \\\n",
      "0                 11                 427   120.0     2.0  ...   \n",
      "1                 11                 428   135.0     2.0  ...   \n",
      "2                 11                 372   140.0     2.0  ...   \n",
      "3                 11                 280   125.0     4.0  ...   \n",
      "4                 11                 184   105.0     6.0  ...   \n",
      "...              ...                 ...     ...     ...  ...   \n",
      "7090227            8                 278   123.0     NaN  ...   \n",
      "7090228            8                  91    48.0     NaN  ...   \n",
      "7090229            8                  96    48.0     NaN  ...   \n",
      "7090230            8                 347   675.0     NaN  ...   \n",
      "7090231            8                 287   340.0     8.0  ...   \n",
      "\n",
      "         Demanda_uni_equil_tminus2  Demanda_uni_equil_tminus3  \\\n",
      "0                              0.0                        0.0   \n",
      "1                              0.0                        0.0   \n",
      "2                              0.0                        0.0   \n",
      "3                              0.0                        0.0   \n",
      "4                              0.0                        0.0   \n",
      "...                            ...                        ...   \n",
      "7090227                        0.0                        0.0   \n",
      "7090228                        0.0                        0.0   \n",
      "7090229                        0.0                        0.0   \n",
      "7090230                        0.0                        0.0   \n",
      "7090231                        0.0                        0.0   \n",
      "\n",
      "         Demanda_uni_equil_tminus4  Demanda_uni_equil_tminus5  \\\n",
      "0                              0.0                        0.0   \n",
      "1                              0.0                        0.0   \n",
      "2                              0.0                        0.0   \n",
      "3                              0.0                        0.0   \n",
      "4                              0.0                        0.0   \n",
      "...                            ...                        ...   \n",
      "7090227                        0.0                        0.0   \n",
      "7090228                        0.0                        0.0   \n",
      "7090229                        0.0                        0.0   \n",
      "7090230                        0.0                        0.0   \n",
      "7090231                        0.0                        0.0   \n",
      "\n",
      "         Agencia_ID_count  Canal_ID_count  Ruta_SAK_count  Cliente_ID_count  \\\n",
      "0             6726.222168    8.129734e+04     3480.222168         19.555555   \n",
      "1             6726.222168    8.129734e+04     3480.222168         19.555555   \n",
      "2             6726.222168    8.129734e+04     3480.222168         19.555555   \n",
      "3             6726.222168    8.129734e+04     3480.222168         19.555555   \n",
      "4             6726.222168    8.129734e+04     3480.222168         19.555555   \n",
      "...                   ...             ...             ...               ...   \n",
      "7090227      69062.445312    8.197713e+06    30778.111328         18.888889   \n",
      "7090228      69062.445312    8.197713e+06    30778.111328         18.888889   \n",
      "7090229      69062.445312    8.197713e+06    30778.111328         18.888889   \n",
      "7090230      69062.445312    8.197713e+06    30778.111328          3.666667   \n",
      "7090231      69062.445312    8.197713e+06    30778.111328          3.666667   \n",
      "\n",
      "         Producto_ID_count  Client_Type_count  \n",
      "0            144403.000000       1.745511e+04  \n",
      "1            123046.554688       1.745511e+04  \n",
      "2            143756.671875       1.745511e+04  \n",
      "3            253942.781250       1.745511e+04  \n",
      "4            246030.671875       1.745511e+04  \n",
      "...                    ...                ...  \n",
      "7090227      160278.218750       3.848449e+06  \n",
      "7090228       57879.109375       3.848449e+06  \n",
      "7090229       14660.333008       3.848449e+06  \n",
      "7090230      178431.671875       3.848449e+06  \n",
      "7090231      126071.218750       3.848449e+06  \n",
      "\n",
      "[7090232 rows x 22 columns] data... \n",
      "<class 'pandas.core.frame.DataFrame'>\n",
      "RangeIndex: 7090232 entries, 0 to 7090231\n",
      "Data columns (total 22 columns):\n",
      "Semana                       uint8\n",
      "Agencia_ID                   uint16\n",
      "Canal_ID                     uint8\n",
      "Ruta_SAK                     uint16\n",
      "Cliente_ID                   uint32\n",
      "Producto_ID                  uint16\n",
      "Client_Type                  uint32\n",
      "short_product_name           uint32\n",
      "weight                       float32\n",
      "pieces                       float32\n",
      "weight_per_piece             float32\n",
      "Demanda_uni_equil            float16\n",
      "Demanda_uni_equil_tminus2    float16\n",
      "Demanda_uni_equil_tminus3    float16\n",
      "Demanda_uni_equil_tminus4    float16\n",
      "Demanda_uni_equil_tminus5    float16\n",
      "Agencia_ID_count             float32\n",
      "Canal_ID_count               float32\n",
      "Ruta_SAK_count               float32\n",
      "Cliente_ID_count             float32\n",
      "Producto_ID_count            float32\n",
      "Client_Type_count            float32\n",
      "dtypes: float16(5), float32(9), uint16(3), uint32(3), uint8(2)\n",
      "memory usage: 446.3 MB\n",
      "None\n",
      "\n"
     ]
    }
   ],
   "source": [
    "print (\"Loading data...\")\n",
    "train = load_data() \n",
    "print(\"Done\")\n",
    "print()\n",
    "checkMemoryUsage(train)"
   ]
  },
  {
   "cell_type": "code",
   "execution_count": 7,
   "metadata": {},
   "outputs": [],
   "source": [
    "pd.set_option('display.max_rows', 500)\n",
    "pd.set_option('display.max_columns', 500)\n",
    "pd.set_option('display.width', 1000)\n"
   ]
  },
  {
   "cell_type": "code",
   "execution_count": 11,
   "metadata": {},
   "outputs": [
    {
     "name": "stdout",
     "output_type": "stream",
     "text": [
      "Splitting training data in Training and Testing...\n",
      "\n",
      "Training Data Size : (5672185, 21)\n",
      "Test Data Size : (1418047, 21)\n",
      "Training Label Size : (5672185,)\n",
      "Testing Label Size : (1418047,)\n"
     ]
    }
   ],
   "source": [
    " # Reset data indices\n",
    "train = train.reset_index(drop=True)\n",
    "#test = test.reset_index(drop=True)       \n",
    "      \n",
    "    \n",
    "# Data for model building\n",
    "column_names = list(train.drop(['Demanda_uni_equil'], axis = 1).columns)\n",
    "\n",
    "print(\"Splitting training data in Training and Testing...\")\n",
    "x_train,x_test,Y_train,Y_test = train_test_split(train.drop(labels='Demanda_uni_equil', axis = 1),train['Demanda_uni_equil'],test_size = 0.2,random_state=42)\n",
    "print()\n",
    "print('Training Data Size :',x_train.shape)\n",
    "print('Test Data Size :',x_test.shape)\n",
    "print('Training Label Size :',Y_train.shape)\n",
    "print('Testing Label Size :',Y_test.shape)"
   ]
  },
  {
   "cell_type": "code",
   "execution_count": null,
   "metadata": {},
   "outputs": [],
   "source": []
  },
  {
   "cell_type": "code",
   "execution_count": 14,
   "metadata": {},
   "outputs": [
    {
     "data": {
      "text/plain": [
       "233"
      ]
     },
     "execution_count": 14,
     "metadata": {},
     "output_type": "execute_result"
    }
   ],
   "source": [
    "# Remove original train data sets from memory\n",
    "del train\n",
    "gc.collect()"
   ]
  },
  {
   "cell_type": "code",
   "execution_count": 28,
   "metadata": {},
   "outputs": [],
   "source": []
  },
  {
   "cell_type": "code",
   "execution_count": null,
   "metadata": {},
   "outputs": [],
   "source": []
  },
  {
   "cell_type": "code",
   "execution_count": null,
   "metadata": {},
   "outputs": [],
   "source": []
  },
  {
   "cell_type": "code",
   "execution_count": 18,
   "metadata": {},
   "outputs": [
    {
     "data": {
      "text/plain": [
       "1006"
      ]
     },
     "execution_count": 18,
     "metadata": {},
     "output_type": "execute_result"
    }
   ],
   "source": [
    "gc.collect()"
   ]
  },
  {
   "cell_type": "code",
   "execution_count": 15,
   "metadata": {},
   "outputs": [
    {
     "data": {
      "text/html": [
       "<div>\n",
       "<style scoped>\n",
       "    .dataframe tbody tr th:only-of-type {\n",
       "        vertical-align: middle;\n",
       "    }\n",
       "\n",
       "    .dataframe tbody tr th {\n",
       "        vertical-align: top;\n",
       "    }\n",
       "\n",
       "    .dataframe thead th {\n",
       "        text-align: right;\n",
       "    }\n",
       "</style>\n",
       "<table border=\"1\" class=\"dataframe\">\n",
       "  <thead>\n",
       "    <tr style=\"text-align: right;\">\n",
       "      <th></th>\n",
       "      <th>Semana</th>\n",
       "      <th>Agencia_ID</th>\n",
       "      <th>Canal_ID</th>\n",
       "      <th>Ruta_SAK</th>\n",
       "      <th>Cliente_ID</th>\n",
       "      <th>Producto_ID</th>\n",
       "      <th>Client_Type</th>\n",
       "      <th>short_product_name</th>\n",
       "      <th>weight</th>\n",
       "      <th>pieces</th>\n",
       "      <th>weight_per_piece</th>\n",
       "      <th>Demanda_uni_equil_tminus2</th>\n",
       "      <th>Demanda_uni_equil_tminus3</th>\n",
       "      <th>Demanda_uni_equil_tminus4</th>\n",
       "      <th>Demanda_uni_equil_tminus5</th>\n",
       "      <th>Agencia_ID_count</th>\n",
       "      <th>Canal_ID_count</th>\n",
       "      <th>Ruta_SAK_count</th>\n",
       "      <th>Cliente_ID_count</th>\n",
       "      <th>Producto_ID_count</th>\n",
       "      <th>Client_Type_count</th>\n",
       "    </tr>\n",
       "  </thead>\n",
       "  <tbody>\n",
       "    <tr>\n",
       "      <th>1356304</th>\n",
       "      <td>3</td>\n",
       "      <td>1153</td>\n",
       "      <td>1</td>\n",
       "      <td>1404</td>\n",
       "      <td>1168471</td>\n",
       "      <td>1240</td>\n",
       "      <td>8</td>\n",
       "      <td>280</td>\n",
       "      <td>125.0</td>\n",
       "      <td>4.0</td>\n",
       "      <td>31.25</td>\n",
       "      <td>0.0</td>\n",
       "      <td>0.0</td>\n",
       "      <td>0.0</td>\n",
       "      <td>0.0</td>\n",
       "      <td>55899.554688</td>\n",
       "      <td>8197713.0</td>\n",
       "      <td>9610.888672</td>\n",
       "      <td>37.555557</td>\n",
       "      <td>253942.781250</td>\n",
       "      <td>3848448.750</td>\n",
       "    </tr>\n",
       "    <tr>\n",
       "      <th>2373315</th>\n",
       "      <td>3</td>\n",
       "      <td>1236</td>\n",
       "      <td>1</td>\n",
       "      <td>1245</td>\n",
       "      <td>4351278</td>\n",
       "      <td>1240</td>\n",
       "      <td>9</td>\n",
       "      <td>280</td>\n",
       "      <td>125.0</td>\n",
       "      <td>4.0</td>\n",
       "      <td>31.25</td>\n",
       "      <td>0.0</td>\n",
       "      <td>0.0</td>\n",
       "      <td>0.0</td>\n",
       "      <td>0.0</td>\n",
       "      <td>48123.890625</td>\n",
       "      <td>8197713.0</td>\n",
       "      <td>12933.444336</td>\n",
       "      <td>5.555555</td>\n",
       "      <td>253942.781250</td>\n",
       "      <td>1616014.250</td>\n",
       "    </tr>\n",
       "    <tr>\n",
       "      <th>3140935</th>\n",
       "      <td>3</td>\n",
       "      <td>1332</td>\n",
       "      <td>1</td>\n",
       "      <td>2062</td>\n",
       "      <td>1976333</td>\n",
       "      <td>43274</td>\n",
       "      <td>8</td>\n",
       "      <td>309</td>\n",
       "      <td>70.0</td>\n",
       "      <td>1.0</td>\n",
       "      <td>70.00</td>\n",
       "      <td>0.0</td>\n",
       "      <td>0.0</td>\n",
       "      <td>0.0</td>\n",
       "      <td>0.0</td>\n",
       "      <td>43465.109375</td>\n",
       "      <td>8197713.0</td>\n",
       "      <td>4684.555664</td>\n",
       "      <td>17.111111</td>\n",
       "      <td>63302.890625</td>\n",
       "      <td>3848448.750</td>\n",
       "    </tr>\n",
       "    <tr>\n",
       "      <th>115296</th>\n",
       "      <td>3</td>\n",
       "      <td>1112</td>\n",
       "      <td>1</td>\n",
       "      <td>2103</td>\n",
       "      <td>1968175</td>\n",
       "      <td>43058</td>\n",
       "      <td>13</td>\n",
       "      <td>469</td>\n",
       "      <td>120.0</td>\n",
       "      <td>8.0</td>\n",
       "      <td>15.00</td>\n",
       "      <td>0.0</td>\n",
       "      <td>0.0</td>\n",
       "      <td>0.0</td>\n",
       "      <td>0.0</td>\n",
       "      <td>43113.332031</td>\n",
       "      <td>8197713.0</td>\n",
       "      <td>29340.554688</td>\n",
       "      <td>49.888889</td>\n",
       "      <td>97578.890625</td>\n",
       "      <td>1875493.125</td>\n",
       "    </tr>\n",
       "    <tr>\n",
       "      <th>2853671</th>\n",
       "      <td>3</td>\n",
       "      <td>1312</td>\n",
       "      <td>1</td>\n",
       "      <td>1016</td>\n",
       "      <td>102064</td>\n",
       "      <td>73</td>\n",
       "      <td>13</td>\n",
       "      <td>352</td>\n",
       "      <td>540.0</td>\n",
       "      <td>NaN</td>\n",
       "      <td>NaN</td>\n",
       "      <td>0.0</td>\n",
       "      <td>0.0</td>\n",
       "      <td>0.0</td>\n",
       "      <td>0.0</td>\n",
       "      <td>68911.781250</td>\n",
       "      <td>8197713.0</td>\n",
       "      <td>19024.888672</td>\n",
       "      <td>36.777779</td>\n",
       "      <td>26610.445312</td>\n",
       "      <td>1875493.125</td>\n",
       "    </tr>\n",
       "  </tbody>\n",
       "</table>\n",
       "</div>"
      ],
      "text/plain": [
       "         Semana  Agencia_ID  Canal_ID  Ruta_SAK  Cliente_ID  Producto_ID  Client_Type  short_product_name  weight  pieces  weight_per_piece  Demanda_uni_equil_tminus2  Demanda_uni_equil_tminus3  Demanda_uni_equil_tminus4  Demanda_uni_equil_tminus5  Agencia_ID_count  Canal_ID_count  Ruta_SAK_count  Cliente_ID_count  Producto_ID_count  Client_Type_count\n",
       "1356304       3        1153         1      1404     1168471         1240            8                 280   125.0     4.0             31.25                        0.0                        0.0                        0.0                        0.0      55899.554688       8197713.0     9610.888672         37.555557      253942.781250        3848448.750\n",
       "2373315       3        1236         1      1245     4351278         1240            9                 280   125.0     4.0             31.25                        0.0                        0.0                        0.0                        0.0      48123.890625       8197713.0    12933.444336          5.555555      253942.781250        1616014.250\n",
       "3140935       3        1332         1      2062     1976333        43274            8                 309    70.0     1.0             70.00                        0.0                        0.0                        0.0                        0.0      43465.109375       8197713.0     4684.555664         17.111111       63302.890625        3848448.750\n",
       "115296        3        1112         1      2103     1968175        43058           13                 469   120.0     8.0             15.00                        0.0                        0.0                        0.0                        0.0      43113.332031       8197713.0    29340.554688         49.888889       97578.890625        1875493.125\n",
       "2853671       3        1312         1      1016      102064           73           13                 352   540.0     NaN               NaN                        0.0                        0.0                        0.0                        0.0      68911.781250       8197713.0    19024.888672         36.777779       26610.445312        1875493.125"
      ]
     },
     "execution_count": 15,
     "metadata": {},
     "output_type": "execute_result"
    }
   ],
   "source": [
    "x_train.head()"
   ]
  },
  {
   "cell_type": "code",
   "execution_count": 16,
   "metadata": {},
   "outputs": [
    {
     "name": "stdout",
     "output_type": "stream",
     "text": [
      "Create model and define parameters AND Optimize it using Grid Search...\n",
      "Fitting 5 folds for each of 16 candidates, totalling 80 fits\n"
     ]
    },
    {
     "name": "stderr",
     "output_type": "stream",
     "text": [
      "[Parallel(n_jobs=-1)]: Using backend LokyBackend with 12 concurrent workers.\n",
      "[Parallel(n_jobs=-1)]: Done   1 tasks      | elapsed: 12.1min\n",
      "[Parallel(n_jobs=-1)]: Done   8 tasks      | elapsed: 59.7min\n",
      "[Parallel(n_jobs=-1)]: Done  17 tasks      | elapsed: 126.9min\n",
      "[Parallel(n_jobs=-1)]: Done  26 tasks      | elapsed: 241.3min\n",
      "[Parallel(n_jobs=-1)]: Done  37 tasks      | elapsed: 364.9min\n",
      "[Parallel(n_jobs=-1)]: Done  48 tasks      | elapsed: 595.8min\n",
      "[Parallel(n_jobs=-1)]: Done  66 out of  80 | elapsed: 1140.3min remaining: 241.9min\n",
      "[Parallel(n_jobs=-1)]: Done  75 out of  80 | elapsed: 1509.2min remaining: 100.6min\n",
      "[Parallel(n_jobs=-1)]: Done  80 out of  80 | elapsed: 1685.3min finished\n",
      "C:\\Users\\user\\Anaconda3\\lib\\site-packages\\xgboost\\core.py:587: FutureWarning: Series.base is deprecated and will be removed in a future version\n",
      "  if getattr(data, 'base', None) is not None and \\\n"
     ]
    },
    {
     "name": "stdout",
     "output_type": "stream",
     "text": [
      "[04:40:33] WARNING: C:/Jenkins/workspace/xgboost-win64_release_0.90/src/objective/regression_obj.cu:152: reg:linear is now deprecated in favor of reg:squarederror.\n",
      "Best Params : {'max_depth': 8, 'n_estimators': 1500}\n"
     ]
    }
   ],
   "source": [
    "print (\"Create model and define parameters AND Optimize it using Grid Search...\" )\n",
    "\n",
    "from sklearn.model_selection import GridSearchCV\n",
    "\n",
    "param ={\n",
    "            'n_estimators': [100,500, 1000,1500],\n",
    "            'max_depth':[2,4,6,8]\n",
    "        }\n",
    "\n",
    "xgboost_tree = xgb.XGBRegressor(\n",
    "    eta = 0.1,\n",
    "    min_child_weight = 2,\n",
    "    subsample = 0.8,\n",
    "    objective= 'reg:linear',\n",
    "    colsample_bytree = 0.8,\n",
    "    tree_method = 'exact',\n",
    "    reg_alpha = 0.05,\n",
    "    silent = 0,\n",
    "    random_state = 1023\n",
    ")\n",
    "\n",
    "grid = GridSearchCV(estimator=xgboost_tree,param_grid=param,cv=5,  verbose=10, n_jobs=-1,scoring='neg_mean_squared_error')\n",
    "   \n",
    "    \n",
    "\n",
    "    \n",
    "grid_result = grid.fit(x_train, Y_train)\n",
    "best_params = grid_result.best_params_\n",
    "\n",
    "print('Best Params :',best_params)"
   ]
  },
  {
   "cell_type": "code",
   "execution_count": 19,
   "metadata": {},
   "outputs": [
    {
     "name": "stdout",
     "output_type": "stream",
     "text": [
      "Root Mean squared error 13.581652640682151\n"
     ]
    }
   ],
   "source": [
    "from math import sqrt\n",
    "from sklearn.metrics import mean_squared_error\n",
    "\n",
    "pred = grid_result.predict(x_test)\n",
    "print('Root Mean squared error {}'.format(sqrt(mean_squared_error(Y_test, pred))))"
   ]
  },
  {
   "cell_type": "code",
   "execution_count": 36,
   "metadata": {},
   "outputs": [],
   "source": [
    "df1 = pd.concat([Y_test.reset_index(drop='True'),pd.DataFrame(pred).reset_index(drop='True')],axis=1)\n",
    "df1 = pd.DataFrame(df1)\n"
   ]
  },
  {
   "cell_type": "code",
   "execution_count": 38,
   "metadata": {},
   "outputs": [
    {
     "data": {
      "text/html": [
       "<div>\n",
       "<style scoped>\n",
       "    .dataframe tbody tr th:only-of-type {\n",
       "        vertical-align: middle;\n",
       "    }\n",
       "\n",
       "    .dataframe tbody tr th {\n",
       "        vertical-align: top;\n",
       "    }\n",
       "\n",
       "    .dataframe thead th {\n",
       "        text-align: right;\n",
       "    }\n",
       "</style>\n",
       "<table border=\"1\" class=\"dataframe\">\n",
       "  <thead>\n",
       "    <tr style=\"text-align: right;\">\n",
       "      <th></th>\n",
       "      <th>Orginal</th>\n",
       "      <th>Prediction</th>\n",
       "      <th>Diff</th>\n",
       "    </tr>\n",
       "  </thead>\n",
       "  <tbody>\n",
       "    <tr>\n",
       "      <th>0</th>\n",
       "      <td>1.0</td>\n",
       "      <td>2.292568</td>\n",
       "      <td>-1.292568</td>\n",
       "    </tr>\n",
       "    <tr>\n",
       "      <th>1</th>\n",
       "      <td>44.0</td>\n",
       "      <td>37.314064</td>\n",
       "      <td>6.685936</td>\n",
       "    </tr>\n",
       "    <tr>\n",
       "      <th>2</th>\n",
       "      <td>6.0</td>\n",
       "      <td>2.937089</td>\n",
       "      <td>3.062911</td>\n",
       "    </tr>\n",
       "    <tr>\n",
       "      <th>3</th>\n",
       "      <td>3.0</td>\n",
       "      <td>3.244777</td>\n",
       "      <td>-0.244777</td>\n",
       "    </tr>\n",
       "    <tr>\n",
       "      <th>4</th>\n",
       "      <td>4.0</td>\n",
       "      <td>3.433939</td>\n",
       "      <td>0.566061</td>\n",
       "    </tr>\n",
       "  </tbody>\n",
       "</table>\n",
       "</div>"
      ],
      "text/plain": [
       "   Orginal  Prediction      Diff\n",
       "0      1.0    2.292568 -1.292568\n",
       "1     44.0   37.314064  6.685936\n",
       "2      6.0    2.937089  3.062911\n",
       "3      3.0    3.244777 -0.244777\n",
       "4      4.0    3.433939  0.566061"
      ]
     },
     "execution_count": 38,
     "metadata": {},
     "output_type": "execute_result"
    }
   ],
   "source": [
    "df1.columns = ['Orginal','Prediction']\n",
    "df1['Diff'] = df1.Orginal - df1.Prediction\n",
    "df1.head()"
   ]
  },
  {
   "cell_type": "code",
   "execution_count": null,
   "metadata": {},
   "outputs": [],
   "source": []
  }
 ],
 "metadata": {
  "kernelspec": {
   "display_name": "Python 3",
   "language": "python",
   "name": "python3"
  },
  "language_info": {
   "codemirror_mode": {
    "name": "ipython",
    "version": 3
   },
   "file_extension": ".py",
   "mimetype": "text/x-python",
   "name": "python",
   "nbconvert_exporter": "python",
   "pygments_lexer": "ipython3",
   "version": "3.7.4"
  }
 },
 "nbformat": 4,
 "nbformat_minor": 2
}
